{
 "cells": [
  {
   "cell_type": "markdown",
   "metadata": {},
   "source": [
    "# Potential"
   ]
  },
  {
   "cell_type": "markdown",
   "metadata": {},
   "source": [
    "The electron beam interacts with the specimen through the Coulomb potential of the electrons and nuclei in the specimen. "
   ]
  },
  {
   "cell_type": "markdown",
   "metadata": {},
   "source": [
    "## Potential parametrization\n",
    "\n",
    "The electron charge distribution of an atom can be calculated from a first-principles electronic structure calculation, while the atomic nuclei are a point charges at the resolution of a TEM. Given a charge distribution, the potential can be obtained via Poisson's equation. \n",
    "\n",
    "Simulation codes include a parametrization of the atomic potentials, with a table of parameters for each element fitted to Hartree-Fock calculations. Below we show the radial depedence of the electrostatic potential of five selected elements, using the default parametrization in abTEM. This parametrization is due to Lobato et. al., it is the latest and one of the most accurate parametrizations."
   ]
  },
  {
   "cell_type": "code",
   "execution_count": 14,
   "metadata": {
    "nbsphinx": "hidden"
   },
   "outputs": [],
   "source": [
    "# This cell is hidden from nbsphinx\n",
    "\n",
    "from abtem.parametrizations import lobato, load_lobato_parameters\n",
    "import matplotlib.pyplot as plt\n",
    "from ase.data import chemical_symbols\n",
    "import numpy as np\n",
    "\n",
    "parameters = load_lobato_parameters()\n",
    "atomic_numbers = [6, 14, 29, 79, 92]\n",
    "r = np.linspace(0,2,100)\n",
    "\n",
    "for atomic_number in atomic_numbers:\n",
    "    v = lobato(r, parameters[atomic_number])\n",
    "    plt.plot(r, v, label=chemical_symbols[atomic_number])\n",
    "\n",
    "plt.xlabel('r [Å]')\n",
    "plt.ylabel('V [eV / e]')\n",
    "plt.ylim([0, 30])\n",
    "plt.legend()\n",
    "plt.savefig('potentials.png')\n",
    "plt.close()"
   ]
  },
  {
   "cell_type": "markdown",
   "metadata": {},
   "source": [
    "The radial dependence of the atomic potential for isolated single atoms is shown below.\n",
    "\n",
    "![potentials](potentials.png)"
   ]
  },
  {
   "cell_type": "markdown",
   "metadata": {},
   "source": [
    "## Independent atom model"
   ]
  },
  {
   "cell_type": "markdown",
   "metadata": {},
   "source": [
    "The full specimen potential, $V(r)$, is then obtained as a linear superposition of the atomic potentials\n",
    "\n",
    "$$\n",
    "    V(r) = \\sum_i V_i(r-r_i) \\quad ,\n",
    "$$\n",
    "\n",
    "where $V_i(r)$ is the atomic potential of the $i$'th atom. This model obviously neglects any effect due to bonding and charge transfer. However, since the nucleus and core electrons constitute most of the charge in an atom, this is often reasonable approximation, which gets progressively better as the atomic number increases. Nonetheless, due to recent improvements in microscopes, interest in going beyond this approximation have started. For example, it has been shown that simulated images based on potentials from DFT calculations can provide a better match with experimental data for light elements. This will be investigated later in this tutorial.\n",
    "\n",
    "Below the projected potential of one layer of Strontium Titanate is shown."
   ]
  },
  {
   "cell_type": "code",
   "execution_count": 20,
   "metadata": {},
   "outputs": [
    {
     "name": "stdout",
     "output_type": "stream",
     "text": [
      "The autoreload extension is already loaded. To reload it, use:\n",
      "  %reload_ext autoreload\n"
     ]
    },
    {
     "name": "stderr",
     "output_type": "stream",
     "text": [
      "[autoreload of abtem.potentials failed: Traceback (most recent call last):\n",
      "  File \"/Users/jacobmadsen/anaconda3/envs/abtem/lib/python3.6/site-packages/IPython/extensions/autoreload.py\", line 245, in check\n",
      "    superreload(m, reload, self.old_objects)\n",
      "  File \"/Users/jacobmadsen/anaconda3/envs/abtem/lib/python3.6/site-packages/IPython/extensions/autoreload.py\", line 450, in superreload\n",
      "    update_generic(old_obj, new_obj)\n",
      "  File \"/Users/jacobmadsen/anaconda3/envs/abtem/lib/python3.6/site-packages/IPython/extensions/autoreload.py\", line 387, in update_generic\n",
      "    update(a, b)\n",
      "  File \"/Users/jacobmadsen/anaconda3/envs/abtem/lib/python3.6/site-packages/IPython/extensions/autoreload.py\", line 357, in update_class\n",
      "    update_instances(old, new)\n",
      "  File \"/Users/jacobmadsen/anaconda3/envs/abtem/lib/python3.6/site-packages/IPython/extensions/autoreload.py\", line 312, in update_instances\n",
      "    update_instances(old, new, obj.__dict__, visited)\n",
      "  File \"/Users/jacobmadsen/anaconda3/envs/abtem/lib/python3.6/site-packages/IPython/extensions/autoreload.py\", line 312, in update_instances\n",
      "    update_instances(old, new, obj.__dict__, visited)\n",
      "  File \"/Users/jacobmadsen/anaconda3/envs/abtem/lib/python3.6/site-packages/IPython/extensions/autoreload.py\", line 317, in update_instances\n",
      "    update_instances(old, new, obj, visited)\n",
      "  File \"/Users/jacobmadsen/anaconda3/envs/abtem/lib/python3.6/site-packages/IPython/extensions/autoreload.py\", line 317, in update_instances\n",
      "    update_instances(old, new, obj, visited)\n",
      "  File \"/Users/jacobmadsen/anaconda3/envs/abtem/lib/python3.6/site-packages/IPython/extensions/autoreload.py\", line 312, in update_instances\n",
      "    update_instances(old, new, obj.__dict__, visited)\n",
      "  File \"/Users/jacobmadsen/anaconda3/envs/abtem/lib/python3.6/site-packages/IPython/extensions/autoreload.py\", line 317, in update_instances\n",
      "    update_instances(old, new, obj, visited)\n",
      "AttributeError: 'dict' object has no attribute 'iterkeys'\n",
      "]\n"
     ]
    }
   ],
   "source": [
    "%load_ext autoreload\n",
    "%autoreload 2\n",
    "\n",
    "from ase.io import read\n",
    "from abtem.potentials import Potential\n",
    "\n",
    "srtio = read('srtio3.cif')\n",
    "potential = Potential(srtio, sampling=.05, slice_thickness=0.5)"
   ]
  },
  {
   "cell_type": "code",
   "execution_count": null,
   "metadata": {},
   "outputs": [],
   "source": [
    "\n",
    "potential = Potential(srtio, num_slices=1, gpts=1024)\n",
    "\n",
    "proj_potential = potential.get_slice(0)\n",
    "\n",
    "fig, (ax1, ax2, ax3) = plt.subplots(1, 3, figsize=(14, 5))\n",
    "plot_atoms(srtio, ax=ax1)\n",
    "plot_atoms(srtio, ax=ax2, plane='xz')\n",
    "ax3.imshow(proj_potential.T, extent=[0, potential.extent[0], 0, potential.extent[1]], origin='lower')\n",
    "ax3.set_xlabel('x [Å]')\n",
    "ax3.set_ylabel('y [Å]');"
   ]
  },
  {
   "cell_type": "markdown",
   "metadata": {},
   "source": [
    "## Potential projection"
   ]
  },
  {
   "cell_type": "markdown",
   "metadata": {},
   "source": []
  }
 ],
 "metadata": {
  "kernelspec": {
   "display_name": "abtem",
   "language": "python",
   "name": "abtem"
  },
  "language_info": {
   "codemirror_mode": {
    "name": "ipython",
    "version": 3
   },
   "file_extension": ".py",
   "mimetype": "text/x-python",
   "name": "python",
   "nbconvert_exporter": "python",
   "pygments_lexer": "ipython3",
   "version": "3.7.5"
  }
 },
 "nbformat": 4,
 "nbformat_minor": 4
}
