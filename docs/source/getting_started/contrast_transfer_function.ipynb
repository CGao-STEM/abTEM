{
 "cells": [
  {
   "cell_type": "markdown",
   "metadata": {},
   "source": [
    "# Contrast Transfer Function"
   ]
  },
  {
   "cell_type": "markdown",
   "metadata": {},
   "source": [
    "## Phase aberrations"
   ]
  },
  {
   "cell_type": "markdown",
   "metadata": {},
   "source": [
    "Ideally, a lens forms a spherical wave converging on or emerging from a single point. In practice aberrations cause the wave to deviate from a spherical surface. This deviation can be represented as a phase error, $\\chi(k, \\phi)$ of the spatial frequency in polar coordinates. The phase error can be written a series expansion\n",
    "\n",
    "$$ \n",
    "    \\chi(\\alpha, \\phi) = \\frac{2 \\pi}{\\lambda} \\sum_{n,m} \\frac{1}{n + 1} C_{n,m} (k \\lambda)^{n+1} \\cos\\left[m (\\phi - \\phi_{n,m}) \\right] \n",
    "$$\n",
    "\n",
    "If the microscope is well aligned then off-axis aberrations (astigmatisms) are small and the phase error is dominated by the first two isotropic terms\n",
    "\n",
    "$$\n",
    "    \\chi(k) \\approx \\frac{2\\pi}{\\lambda}\\left( \\frac{\\lambda^2 k^2}{2} \\Delta f + \\frac{\\lambda^4 k^4}{4} C_s \\right) \n",
    "$$\n",
    "\n",
    "where $\\Delta f = -C_{1,1}$ is the defocus and $C_s=C_{3,3}$ is the third order spherical aberration.\n",
    "\n",
    "The `CTF` object takes parameters of the form `Cnm` and `phinm`, and may also be given using their common alias e.g. `defocus = -C10`. Lastly, abTEM includes a utility for converting from the cartesian to polar expansion coefficients.\n",
    "\n",
    "We can use the function `plot_ctf` to preview the CTF along a radial.\n"
   ]
  },
  {
   "cell_type": "markdown",
   "metadata": {},
   "source": [
    "## Partial coherence"
   ]
  },
  {
   "cell_type": "markdown",
   "metadata": {},
   "source": [
    "The aperture function cuts off beams scattered above a certain critical angle, thus effectively limiting the attainable resolution. However it is the partial coherence envelope function $E(k)$ which usually dampens the signal of beams scattered at high angles, and imposes a maximum to the transmitted spatial frequency. In abTEM the envlope function is constructed as a product of three envelopes\n",
    "\n",
    "$$\n",
    "    E(k) = E_s(k) E_t(k) E_d(k)\n",
    "$$\n",
    "\n",
    "### Partial spatial coherence\n",
    "As the electron source has a finite size, the incident beam contains a distribution of incident directions. In HRTEM this is quantified by the angular spread. Assume that each incident direction performs its own experiment and that thedistribution of incident directions is small, then it can be shown that it can be modelled the spatial coherence envelope function, is given by\n",
    "\n",
    "$$\n",
    "    E_s(k) = \\exp\\left(-\\frac{\\beta}{4\\lambda^2}\\left| \\frac{\\partial \\chi(k)}{\\partial k}\\right|^2  \\right) .\n",
    "$$\n",
    "\n",
    "where $\\beta$ is the $1/e$ width of the distribution of angles. The parameter $\\beta$ is equivalent to the `angular_spread` property of the `CTF` object.\n",
    "\n",
    "### Partial temporal coherence\n",
    "A small spread in energy, $\\Delta E$, of the incident electrons is equivalent to a small spread in defocus, due to the chromatic aberration of the objective lens. Fluctuations in the focusing currents, $\\Delta I$, of the objective lens also produce an incoherent spread in defocus. Combining these effects, the $1/e$ width of the distribution of defocus values (the focal spread) can be written\n",
    "\n",
    "$$\n",
    "    \\delta = C_c \\sqrt{4 \\left(\\frac{\\Delta I_\\text{obj}}{I_\\text{obj}}\\right)^2 + \\left(\\frac{\\Delta E}{V_\\text{acc}}\\right)^2 + \\left(\\frac{\\Delta V_\\text{acc}}{V_\\text{acc}}\\right)^2}\n",
    "$$\n",
    "\n",
    "The terms $\\Delta I_\\text{obj}/I_\\text{obj}$ and $\\Delta V_\\text{acc}/V_\\text{acc}$ represent instabilities in of the total current in the magnetic lenses and the acceleration voltage. $\\Delta E/V_\\text{acc}$ is the energy spread of electrons emitted by the source. Assuming that $\\delta$ is small, it can be shown that focal spread can be approximated as\n",
    "\n",
    "$$\n",
    "    E_t(k) = \\exp\\left[-\\frac{1}{2} \\left(\\pi \\lambda \\delta \\right)^2 k^4 \\right] .\n",
    "$$\n",
    "\n",
    "The parameter $\\delta$ is equivalent to the `focal_spread` property of the `CTF` object.\n",
    "\n",
    "### Deflections and vibrations\n",
    "Blurring can also be caused by all kinds of noise leading to a random deflection of the image relative to the detector, such as vibrations, drift of the stage, and magnetic noise fields resulting from eddy currents in the material of the lenses. Assuming that the image deflection is small and follows a Gaussian distribution, this can be included as an additional envelope\n",
    "\n",
    "$$\n",
    "\tE_d(k) = \\exp\\left(- \\frac{\\sigma^2 k^2 \\lambda^2}{2}\\right) ,\n",
    "$$\n",
    "\n",
    "where $\\sigma$ is the $1/e$ width of the deflection. The parameter $\\sigma$ is equivalent to the `blur` property of the `CTF` object.\n",
    "\n",
    "Below we create a `CTF` object with all the sources of partial coeherence. In practice it is difficult to know the instrument well enough to estimate the parameters influencing partial coherence, however it is usually dominated by partial temporal coherence."
   ]
  }
 ],
 "metadata": {
  "kernelspec": {
   "display_name": "abtem",
   "language": "python",
   "name": "abtem"
  },
  "language_info": {
   "codemirror_mode": {
    "name": "ipython",
    "version": 3
   },
   "file_extension": ".py",
   "mimetype": "text/x-python",
   "name": "python",
   "nbconvert_exporter": "python",
   "pygments_lexer": "ipython3",
   "version": "3.7.5"
  }
 },
 "nbformat": 4,
 "nbformat_minor": 4
}
