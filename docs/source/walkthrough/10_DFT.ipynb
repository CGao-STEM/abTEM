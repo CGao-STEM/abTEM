{
 "cells": [
  {
   "cell_type": "code",
   "execution_count": 7,
   "metadata": {
    "scrolled": false
   },
   "outputs": [],
   "source": [
    "import numpy as np\n",
    "import matplotlib.pyplot as plt\n",
    "from gpaw import GPAW\n",
    "from abtem.dft import GPAWPotential\n",
    "from ase.io import read\n",
    "from abtem import *"
   ]
  },
  {
   "cell_type": "markdown",
   "metadata": {},
   "source": [
    "# *ab initio* potentials with GPAW"
   ]
  },
  {
   "cell_type": "markdown",
   "metadata": {},
   "source": [
    "The independent atom model (IAM) neglects any effects due to bonding and charge transfer. However, since the nucleus and core electrons constitute most of the charge in an atom, this is often a good approximation. Nonetheless, the difference between the IAM and a more realistic model including the effects of bonding is measurable, at least in certain systems. This difference can obviously be important, since it contains all the chemistry of the system.\n",
    "\n",
    "Here we go beyond the independent atom model using density functional theory (DFT). Note that you need a working GPAW installation for this tutorial, see the [GPAW documentation](https://wiki.fysik.dtu.dk/gpaw/) for more information."
   ]
  },
  {
   "cell_type": "markdown",
   "metadata": {},
   "source": [
    "## DFT calculation"
   ]
  },
  {
   "cell_type": "markdown",
   "metadata": {},
   "source": [
    "The first step in for creating a DFT potential is to converge a DFT calculation.\n",
    "\n",
    "The unit cell for the DFT calculation does not have to be orthogonal, but the potential has to be made orthogonal before the multislice simulation. Only unit cells that can be thought of as an extruded parallelogram are thus allowed. If `standardize_cell` raises an error, abTEM is unable to use the DFT calculation.\n",
    "\n",
    "We will use the minimal hexagonal cell for our graphene DFT calculation."
   ]
  },
  {
   "cell_type": "code",
   "execution_count": 2,
   "metadata": {},
   "outputs": [],
   "source": [
    "atoms = read('data/hexagonal_graphene.cif')"
   ]
  },
  {
   "cell_type": "markdown",
   "metadata": {},
   "source": [
    "To run the DFT calculation, we use the `GPAW` calculator object. We set its real-space grid spacing to a small value of 0.1 Å and use a k-point grid of (3,3,1). The DFT real-space grid does not have to match the grid used in the multislice simulations.\n",
    "\n",
    "Running the method `.get_potential_energy` triggers the DFT self-consistent field cycle to run, resulting in the `GPAW` object now containing the converged PAW electron density."
   ]
  },
  {
   "cell_type": "code",
   "execution_count": 3,
   "metadata": {},
   "outputs": [
    {
     "data": {
      "text/plain": [
       "-19.68456129990072"
      ]
     },
     "execution_count": 3,
     "metadata": {},
     "output_type": "execute_result"
    }
   ],
   "source": [
    "gpaw = GPAW(h=.1, txt=None, kpts=(3,3,1))\n",
    "atoms.calc = gpaw\n",
    "atoms.get_potential_energy()"
   ]
  },
  {
   "cell_type": "markdown",
   "metadata": {},
   "source": [
    "DFT calculations can be extremely computationally intensive, and may require massive parallelization. Running such simulations in a notebook is generally not recommended, hence, running the DFT calculation separately, and importing the GPAW calculator for the image simulation is typically a better workflow.\n",
    "\n",
    "The GPAW object can be written to and read from disk as follows (here supressing GPAW text output on read)."
   ]
  },
  {
   "cell_type": "code",
   "execution_count": 4,
   "metadata": {},
   "outputs": [],
   "source": [
    "gpaw.write('graphene.gpw')"
   ]
  },
  {
   "cell_type": "code",
   "execution_count": 5,
   "metadata": {},
   "outputs": [],
   "source": [
    "gpaw = GPAW('graphene.gpw', txt=None)"
   ]
  },
  {
   "cell_type": "markdown",
   "metadata": {},
   "source": [
    "## Using the GPAW potential in abTEM"
   ]
  },
  {
   "cell_type": "markdown",
   "metadata": {},
   "source": [
    "It is straightforward to calculate a DFT potential from a converged GPAW calculation. The `GPAWPotential` object just requires a converged GPAW calculator (containing also the atoms) instead of an `Atoms` object. Note that we can use a finer sampling than was used for the computational grid."
   ]
  },
  {
   "cell_type": "code",
   "execution_count": 8,
   "metadata": {},
   "outputs": [],
   "source": [
    "dft_pot = GPAWPotential(gpaw, sampling=.02)"
   ]
  },
  {
   "cell_type": "markdown",
   "metadata": {},
   "source": [
    "The `.build` method converts the `GPAWPotential` to an `ArrayPotential`, representing the potential as a numpy array. This may be used in image simulations exactly the same way a potential derived from the IAM is used. Here we tile the potential by (3x2) in the $xy$ plane to visualize a larger field of view."
   ]
  },
  {
   "cell_type": "code",
   "execution_count": 9,
   "metadata": {},
   "outputs": [],
   "source": [
    "dft_array = dft_pot.build()\n",
    "\n",
    "dft_potential = dft_array.tile((3,2))"
   ]
  },
  {
   "cell_type": "markdown",
   "metadata": {},
   "source": [
    "## Comparing DFT to IAM"
   ]
  },
  {
   "cell_type": "code",
   "execution_count": 10,
   "metadata": {},
   "outputs": [],
   "source": [
    "from abtem.structures import orthogonalize_cell\n",
    "atoms = orthogonalize_cell(gpaw.atoms) * (3,2,1)\n",
    "\n",
    "iam_potential = Potential(atoms, gpts=dft_potential.gpts, cutoff_tolerance=1e-4, device='cpu').build()"
   ]
  },
  {
   "cell_type": "markdown",
   "metadata": {},
   "source": [
    "Note that the zero level of the potential is set to 0 for both the IAM and DFT potentials to facilitate comparison. This makes their calculated relative difference diverge near the atom cores, which is here accounted for by setting diverging values to `nan` and coloring them with grey."
   ]
  },
  {
   "cell_type": "code",
   "execution_count": 11,
   "metadata": {},
   "outputs": [],
   "source": [
    "projected_iam = iam_potential.array.sum(0)\n",
    "projected_iam -= projected_iam.min()\n",
    "\n",
    "projected_dft = dft_potential.array.sum(0)\n",
    "projected_dft -= projected_dft.min()\n",
    "\n",
    "absolute_difference = projected_iam - projected_dft\n",
    "\n",
    "valid = np.abs(projected_iam) > 1\n",
    "relative_difference = np.zeros_like(projected_iam)\n",
    "relative_difference[:] = np.nan\n",
    "relative_difference[valid] = 100*(projected_iam[valid] - projected_dft[valid]) / projected_iam[valid]"
   ]
  },
  {
   "cell_type": "code",
   "execution_count": null,
   "metadata": {},
   "outputs": [],
   "source": [
    "fig, (ax1, ax2, ax3) = plt.subplots(1, 3, figsize=(16, 4))\n",
    "\n",
    "extent = [0, dft_potential.extent[0], 0, dft_potential.extent[1]]\n",
    "\n",
    "im1 = ax1.imshow(projected_dft.T, cmap='cividis', vmax=300, extent=extent)\n",
    "im2 = ax2.imshow(absolute_difference.T, vmin=-15, vmax=15, cmap='seismic', extent=extent)\n",
    "im3 = ax3.imshow(relative_difference.T, vmin=-30, vmax=30, cmap='seismic', extent=extent)\n",
    "\n",
    "labels = ('Projected potential [eV / e Å]', 'Absolute difference [eV / e Å]', 'Relative difference [%]')\n",
    "\n",
    "for ax, im, label in zip((ax1, ax2, ax3), (im1, im2, im3), labels):\n",
    "    ax.set_xlabel('x [Å]')\n",
    "    ax.set_ylabel('y [Å]')\n",
    "    \n",
    "    fig.colorbar(im, ax=ax, label=label)"
   ]
  }
 ],
 "metadata": {
  "kernelspec": {
   "display_name": "newtest3",
   "language": "python",
   "name": "newtest3"
  },
  "language_info": {
   "codemirror_mode": {
    "name": "ipython",
    "version": 3
   },
   "file_extension": ".py",
   "mimetype": "text/x-python",
   "name": "python",
   "nbconvert_exporter": "python",
   "pygments_lexer": "ipython3",
   "version": "3.6.10"
  },
  "pycharm": {
   "stem_cell": {
    "cell_type": "raw",
    "source": [],
    "metadata": {
     "collapsed": false
    }
   }
  }
 },
 "nbformat": 4,
 "nbformat_minor": 2
}
