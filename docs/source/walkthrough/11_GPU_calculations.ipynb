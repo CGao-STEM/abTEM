{
 "cells": [
  {
   "cell_type": "markdown",
   "metadata": {},
   "source": [
    "the only exception is that the potential can no longer be calculated explicitly beforehand. You have to pay attention to the `storage` argument of the potential, which determines where the precalculated potential is stored. The options are\n",
    "\n",
    "* `device` : (default) The potential is stored on the GPU\n",
    "* `host` : The potential is in the host memory and individual slices are transferred to the GPU\n",
    "* `disk` : The potential is saved to disk and read back in chunks\n",
    "\n",
    "The distinction between `device` and `host` only matters, if you are doing GPU calculations. `device` is always the preferred option, but may not be possible due to memory constraints. Choosing disk should only be done as a workaround, for systems with very low memory."
   ]
  }
 ],
 "metadata": {
  "kernelspec": {
   "display_name": "abtem",
   "language": "python",
   "name": "abtem"
  },
  "language_info": {
   "codemirror_mode": {
    "name": "ipython",
    "version": 3
   },
   "file_extension": ".py",
   "mimetype": "text/x-python",
   "name": "python",
   "nbconvert_exporter": "python",
   "pygments_lexer": "ipython3",
   "version": "3.6.9"
  }
 },
 "nbformat": 4,
 "nbformat_minor": 2
}
