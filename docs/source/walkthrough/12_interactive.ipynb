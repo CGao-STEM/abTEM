{
 "cells": [
  {
   "cell_type": "code",
   "execution_count": 1,
   "metadata": {},
   "outputs": [],
   "source": [
    "%load_ext autoreload\n",
    "%autoreload 2"
   ]
  },
  {
   "cell_type": "code",
   "execution_count": 2,
   "metadata": {},
   "outputs": [],
   "source": [
    "from abtem.waves import Probe\n",
    "from abtem import *\n",
    "\n",
    "import numpy as np\n",
    "import matplotlib.pyplot as plt\n",
    "from ase.io import read\n",
    "from abtem.transfer import CTF\n",
    "from ipywidgets import interact\n",
    "import ipywidgets as widgets\n",
    "\n",
    "from tqdm.auto import tqdm\n",
    "\n",
    "#output_notebook()"
   ]
  },
  {
   "cell_type": "markdown",
   "metadata": {},
   "source": [
    "To see updates, run this notebook in binder, or download "
   ]
  },
  {
   "cell_type": "markdown",
   "metadata": {},
   "source": [
    "## Interactive methods"
   ]
  },
  {
   "cell_type": "markdown",
   "metadata": {},
   "source": [
    "Several methods provide interactive visualizations."
   ]
  },
  {
   "cell_type": "code",
   "execution_count": 3,
   "metadata": {},
   "outputs": [
    {
     "data": {
      "application/vnd.jupyter.widget-view+json": {
       "model_id": "087d7592084548ccb295fa62ecf53d19",
       "version_major": 2,
       "version_minor": 0
      },
      "text/plain": [
       "HBox(children=(VBox(children=(Figure(axes=[Axis(label='x [Å]', scale=LinearScale()), Axis(label='y [Å]', orien…"
      ]
     },
     "metadata": {},
     "output_type": "display_data"
    }
   ],
   "source": [
    "probe = Probe(energy=80e3, extent=10, sampling=.025, semiangle_cutoff=50, defocus=10)\n",
    "\n",
    "probe.interact(sliders = {'energy': (2e3,500e3,1e3),\n",
    "                          'defocus': (-100,100,1), \n",
    "                          'Cs': (0,1e6,1e3), \n",
    "                          'focal_spread':(0,100,1)})"
   ]
  },
  {
   "cell_type": "markdown",
   "metadata": {},
   "source": [
    "The values set using the sliders are reflected in attributes of the object."
   ]
  },
  {
   "cell_type": "code",
   "execution_count": 4,
   "metadata": {},
   "outputs": [
    {
     "name": "stdout",
     "output_type": "stream",
     "text": [
      "49.0\n"
     ]
    }
   ],
   "source": [
    "print(probe.ctf.focal_spread)"
   ]
  },
  {
   "cell_type": "markdown",
   "metadata": {},
   "source": [
    "Likewise, changes to an objects properties are reflected in the visualization (though not in the sliders)."
   ]
  },
  {
   "cell_type": "code",
   "execution_count": 5,
   "metadata": {},
   "outputs": [],
   "source": [
    "probe.ctf.defocus = 100."
   ]
  },
  {
   "cell_type": "markdown",
   "metadata": {},
   "source": [
    "New interactions can be created by linking widgets from ipywidgets library to the properties affecting an interactive visualization."
   ]
  },
  {
   "cell_type": "code",
   "execution_count": 6,
   "metadata": {},
   "outputs": [
    {
     "data": {
      "application/vnd.jupyter.widget-view+json": {
       "model_id": "c55e00b4d19940648b7053cc893ec4db",
       "version_major": 2,
       "version_minor": 0
      },
      "text/plain": [
       "interactive(children=(IntSlider(value=0, description='defocus', max=200, min=-200), Output()), _dom_classes=('…"
      ]
     },
     "metadata": {},
     "output_type": "display_data"
    }
   ],
   "source": [
    "def update_defocus(defocus):\n",
    "    probe.ctf.defocus = defocus\n",
    "\n",
    "interact(update_defocus, defocus=(-200, 200, 1));"
   ]
  },
  {
   "cell_type": "markdown",
   "metadata": {},
   "source": [
    "Animations can be created by simply updating the objects attributes periodically. We animate the defocus changing between 0 and 100 Å. To abort the animation press interrupt the kernel."
   ]
  },
  {
   "cell_type": "code",
   "execution_count": 8,
   "metadata": {
    "scrolled": true
   },
   "outputs": [],
   "source": [
    "import time\n",
    "\n",
    "for i in range(10):\n",
    "    for defocus in np.cos(np.linspace(0, 2 * np.pi, 50, endpoint=False)) * 100:\n",
    "        probe.ctf.defocus = defocus\n",
    "        time.sleep(.02)"
   ]
  },
  {
   "cell_type": "code",
   "execution_count": null,
   "metadata": {},
   "outputs": [],
   "source": []
  },
  {
   "cell_type": "code",
   "execution_count": 9,
   "metadata": {},
   "outputs": [
    {
     "data": {
      "application/vnd.jupyter.widget-view+json": {
       "model_id": "8b6b14465bd4431fa7c890f14f8b3a13",
       "version_major": 2,
       "version_minor": 0
      },
      "text/plain": [
       "HBox(children=(Figure(axes=[Axis(label='x [Å]', scale=LinearScale()), Axis(orientation='vertical', scale=Linea…"
      ]
     },
     "metadata": {},
     "output_type": "display_data"
    }
   ],
   "source": [
    "figure1 = probe.interact(profile=True)\n",
    "figure2 = probe.ctf.interact(sliders = \n",
    "                             {'energy': (2e3,500e3,1e3),\n",
    "                              'defocus': (-100,100,1), \n",
    "                              'Cs': (0,1e6,1e3), \n",
    "                              'focal_spread':(0,100,1)})\n",
    "\n",
    "widgets.HBox([figure1, figure2])"
   ]
  },
  {
   "cell_type": "code",
   "execution_count": 10,
   "metadata": {},
   "outputs": [
    {
     "data": {
      "application/vnd.jupyter.widget-view+json": {
       "model_id": "b2cc4d0f0efe44169e30e072af960139",
       "version_major": 2,
       "version_minor": 0
      },
      "text/plain": [
       "HBox(children=(VBox(children=(Figure(axes=[Axis(label='x [Å]', scale=LinearScale()), Axis(label='y [Å]', orien…"
      ]
     },
     "metadata": {},
     "output_type": "display_data"
    }
   ],
   "source": [
    "exit_wave = Waves.read('data/srtio3_110_exit_wave.hdf5')\n",
    "\n",
    "ctf = CTF()\n",
    "\n",
    "image_wave, figure = ctf.apply(exit_wave, interact=True, \n",
    "                               sliders = {'defocus':(-100,100,1),\n",
    "                                         'focal_spread':(0,100,1)})\n",
    "\n",
    "figure"
   ]
  },
  {
   "cell_type": "markdown",
   "metadata": {},
   "source": [
    "## Custom interactions with bqplot and ipywidgets"
   ]
  },
  {
   "cell_type": "code",
   "execution_count": null,
   "metadata": {},
   "outputs": [],
   "source": []
  }
 ],
 "metadata": {
  "kernelspec": {
   "display_name": "abtem",
   "language": "python",
   "name": "abtem"
  },
  "language_info": {
   "codemirror_mode": {
    "name": "ipython",
    "version": 3
   },
   "file_extension": ".py",
   "mimetype": "text/x-python",
   "name": "python",
   "nbconvert_exporter": "python",
   "pygments_lexer": "ipython3",
   "version": "3.8.5"
  }
 },
 "nbformat": 4,
 "nbformat_minor": 4
}
