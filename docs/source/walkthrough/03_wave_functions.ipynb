{
 "cells": [
  {
   "cell_type": "markdown",
   "metadata": {},
   "source": [
    "# Wave functions"
   ]
  },
  {
   "cell_type": "markdown",
   "metadata": {},
   "source": [
    "The basic abTEM multislice algorithm works by propagating the `xy` part of the wave function forward through an electrostatic potential one thin slice at a time (see Appendix 1 for a full derivation).\n",
    "\n",
    "The `Waves` object wraps a complex numpy array representing an arbitrary wave function on a grid (given by $\\phi$ in Appendix 1). Here is how to define a plane wave on a $512 \\times 512$ grid, a lateral extent of $10\\times 10$ $\\mathrm{Å}^2$ and an energy of 300 keV:"
   ]
  },
  {
   "cell_type": "code",
   "execution_count": 1,
   "metadata": {},
   "outputs": [],
   "source": [
    "from abtem.waves import Waves\n",
    "import numpy as np\n",
    "\n",
    "complex_array = np.ones((512, 512), dtype='complex64')\n",
    "\n",
    "waves = Waves(complex_array, extent=10, energy=300e3)"
   ]
  },
  {
   "cell_type": "markdown",
   "metadata": {},
   "source": [
    "The complex array can be accessed through the `array` property. "
   ]
  },
  {
   "cell_type": "code",
   "execution_count": 2,
   "metadata": {},
   "outputs": [
    {
     "data": {
      "text/plain": [
       "True"
      ]
     },
     "execution_count": 2,
     "metadata": {},
     "output_type": "execute_result"
    }
   ],
   "source": [
    "waves.array is complex_array"
   ]
  },
  {
   "cell_type": "markdown",
   "metadata": {},
   "source": [
    "The real-space sampling, or pixel size, is calculated by dividing the extent by the number of grid points. The properties related to the grid, i.e. the extent, grid points and sampling can be accessed as:"
   ]
  },
  {
   "cell_type": "code",
   "execution_count": 3,
   "metadata": {},
   "outputs": [
    {
     "data": {
      "text/plain": [
       "((10.0, 10.0), (512, 512), (0.01953125, 0.01953125))"
      ]
     },
     "execution_count": 3,
     "metadata": {},
     "output_type": "execute_result"
    }
   ],
   "source": [
    "waves.extent, waves.gpts, waves.sampling"
   ]
  },
  {
   "cell_type": "markdown",
   "metadata": {},
   "source": [
    "To facilitate the creation of wave functions, abTEM includes a number of wave function builders. For example, the above is more easily accomplished by writing:"
   ]
  },
  {
   "cell_type": "code",
   "execution_count": 4,
   "metadata": {},
   "outputs": [
    {
     "data": {
      "text/plain": [
       "True"
      ]
     },
     "execution_count": 4,
     "metadata": {},
     "output_type": "execute_result"
    }
   ],
   "source": [
    "from abtem.waves import PlaneWave\n",
    "waves = PlaneWave(gpts=512, extent=10, energy=300e3)\n",
    "waves = waves.build()\n",
    "\n",
    "np.all(waves.array == 1. + 0.j)"
   ]
  },
  {
   "cell_type": "markdown",
   "metadata": {},
   "source": [
    "## Real-space sampling"
   ]
  },
  {
   "cell_type": "markdown",
   "metadata": {},
   "source": [
    "The real-space sampling is extremely important because it controls the accuracy of the simulation at high scattering angles. The sampling defines the maximum spatial frequency $k_{max}$ via the formula:\n",
    "\n",
    "$$ k_{max} = \\frac{1}{2p} \\quad , $$\n",
    "\n",
    "where $p$ is the real-space sampling distance. To counteract aliasing artifacts due to the periodicity assumption of a discrete Fourier transform, abTEM supresses spatial frequencies above 50 % of the maximum scattering angle, further reducing the maximum effective scattering angle by a factor of 2. Hence the maximum scattering angle $\\alpha_{max}$ is given by:\n",
    "\n",
    "$$ \\alpha_{max} = \\frac{\\lambda}{4p} \\quad , $$\n",
    "\n",
    "where $\\lambda$ is the relativistic electron wavelength. As an example, consider a case where we want to simulate 80 keV electron scattering up to angles of 200 mrads. Plugging these values into the above equation gives a sampling of $\\sim0.052$ Å, i.e. we require at least 0.05 Å pixel size in order to reach a maximum scattering angle of 200 mrads. In practice, you should ensure that the simulation is converged with respect to pixel size."
   ]
  },
  {
   "cell_type": "markdown",
   "metadata": {},
   "source": [
    "<div class= \"alert alert-info\">\n",
    "\n",
    "**Note: Units**\n",
    "\n",
    "abTEM uses the same unit conventions as ASE, as defined in the `ase.units` module. Thus, electron volts (eV), Ångström (Å), and atomic mass units are defined as 1.0. The electrostatic potential is given in (eV / e). Angles in abTEM are for convenience given in milliradians (mrad).\n",
    "  \n",
    "</div>"
   ]
  },
  {
   "cell_type": "markdown",
   "metadata": {},
   "source": [
    "## Probe wave functions"
   ]
  },
  {
   "cell_type": "markdown",
   "metadata": {},
   "source": [
    "In STEM, the wave function is a focused beam of electrons. The convention used in abTEM is a probe defined by\n",
    "\n",
    "$$\n",
    "    \\phi(k) = A(k) E(k) \\exp(-i \\chi(k)) \\quad ,\n",
    "$$\n",
    "\n",
    "where $A(k)$ is the condenser aperture function, $E(k)$ is the partial coherence envelope and $\\chi(k)$ is the phase error. A detailed description of each term is given in the discussion of the Contrast Tranfer Function. \n",
    "\n",
    "We create a probe with a sampling of $0.05 \\ \\mathrm{Å}$, an extent of $10\\times 10$ $\\mathrm{Å}^2$, an energy of $60 \\ \\mathrm{keV}$, a convergence semiangle of $30 \\ \\mathrm{mrad}$, a focal spread of of $30 \\ \\mathrm{Å}$ and defocus of $50 \\ \\mathrm{Å}$. "
   ]
  },
  {
   "cell_type": "code",
   "execution_count": 5,
   "metadata": {},
   "outputs": [],
   "source": [
    "from abtem.waves import Probe\n",
    "probe = Probe(sampling=.05, \n",
    "               extent=10, \n",
    "               energy=60e3, \n",
    "               semiangle_cutoff=30, \n",
    "               focal_spread=30,\n",
    "               defocus=50)"
   ]
  },
  {
   "cell_type": "markdown",
   "metadata": {},
   "source": [
    "We can build a batch of three probes at different positions."
   ]
  },
  {
   "cell_type": "code",
   "execution_count": 6,
   "metadata": {},
   "outputs": [],
   "source": [
    "positions = [(0, 0), (2.5, 2.5), (5, 5)]\n",
    "waves = probe.build(positions)"
   ]
  },
  {
   "cell_type": "markdown",
   "metadata": {},
   "source": [
    "The last two dimensions of a waves object represent the spatial dimensions. Preceeding dimensions may represent other aspects, usually a batch dimension. Batching can speed up calculations significantly by propagating multiple wave functions simulaneously.\n",
    "\n",
    "The dimensions preceeding the last two diemensions of the `Waves` object can be sliced."
   ]
  },
  {
   "cell_type": "code",
   "execution_count": 7,
   "metadata": {},
   "outputs": [
    {
     "data": {
      "text/plain": [
       "((3, 200, 200), (200, 200))"
      ]
     },
     "execution_count": 7,
     "metadata": {},
     "output_type": "execute_result"
    }
   ],
   "source": [
    "wave = waves[1]\n",
    "\n",
    "waves.array.shape, wave.array.shape"
   ]
  },
  {
   "cell_type": "markdown",
   "metadata": {},
   "source": [
    "The wave function can be visualized using the `.show` method."
   ]
  },
  {
   "cell_type": "code",
   "execution_count": 8,
   "metadata": {},
   "outputs": [
    {
     "data": {
      "image/png": "[encoded data removed]",
      "text/plain": [
       "<Figure size 432x288 with 1 Axes>"
      ]
     },
     "metadata": {
      "needs_background": "light"
     },
     "output_type": "display_data"
    }
   ],
   "source": [
    "wave.show()"
   ]
  },
  {
   "cell_type": "markdown",
   "metadata": {},
   "source": [
    "<div class= \"alert alert-info\">\n",
    "\n",
    "**Note: Axes convention**\n",
    "\n",
    "The axes convention for arrays representing a wave functions assigns the first axis to the $x$-axis and the second axis to the $y$-axis, and a larger array index implies a larger real-space coordinate. This is different from the convention often used for images. The correct way of displaying an array with `matplotplib` is given below.\n",
    "    \n",
    "```\n",
    "import matplotlib.pyplot as plt\n",
    "image = np.abs(waves.array[0]) ** 2\n",
    "plt.imshow(image.T, extent=[0, waves.extent[0], 0, waves.extent[1]], origin='lower')\n",
    "```     \n",
    "  \n",
    "</div>"
   ]
  }
 ],
 "metadata": {
  "kernelspec": {
   "display_name": "Python 3",
   "language": "python",
   "name": "python3"
  },
  "language_info": {
   "codemirror_mode": {
    "name": "ipython",
    "version": 3
   },
   "file_extension": ".py",
   "mimetype": "text/x-python",
   "name": "python",
   "nbconvert_exporter": "python",
   "pygments_lexer": "ipython3",
   "version": "3.7.7"
  },
  "pycharm": {
   "stem_cell": {
    "cell_type": "raw",
    "metadata": {
     "collapsed": false
    },
    "source": []
   }
  }
 },
 "nbformat": 4,
 "nbformat_minor": 4
}
