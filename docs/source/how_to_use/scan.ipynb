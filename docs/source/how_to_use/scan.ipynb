{
 "cells": [
  {
   "cell_type": "markdown",
   "metadata": {},
   "source": [
    "# Scan and detect"
   ]
  },
  {
   "cell_type": "markdown",
   "metadata": {},
   "source": [
    "Imaging modes such as STEM and ptychography works by scanning an electron probe across a sample and recording the scattering signal. Before continuing, let's set up a probe and a sample potential."
   ]
  },
  {
   "cell_type": "code",
   "execution_count": 8,
   "metadata": {},
   "outputs": [],
   "source": [
    "from abtem.waves import ProbeWaves\n",
    "from abtem.potentials import Potential\n",
    "from ase.io import read\n",
    "\n",
    "probe = ProbeWaves(sampling=.05, energy=80e3, semiangle_cutoff=.03, focal_spread=50, defocus=100)\n",
    "potential = Potential(read('my_srtio3.traj'))"
   ]
  },
  {
   "cell_type": "markdown",
   "metadata": {},
   "source": [
    "## Detectors\n",
    "abTEM has several detector types, we will highlight the main ones\n",
    "\n",
    "* \n",
    "\n"
   ]
  },
  {
   "cell_type": "markdown",
   "metadata": {},
   "source": [
    "### Ring detector\n",
    "The `RingDetector` can be used for simulating the standard modes of STEM, i.e. bright field, MAADF and HAADF measurements. The only difference between these are the inner and outer radial integration limits, below we create a detector representing each mode "
   ]
  },
  {
   "cell_type": "code",
   "execution_count": null,
   "metadata": {},
   "outputs": [],
   "source": [
    "from abtem.detect import RingDetector\n",
    "\n",
    "bright = RingDetector(inner=.0, outer=.05)\n",
    "maadf = RingDetector(inner=.05, outer=.086)\n",
    "haadf = RingDetector(inner=.086, outer=.19)"
   ]
  },
  {
   "cell_type": "markdown",
   "metadata": {},
   "source": [
    "The following is generally unnecesseary. We show the Fourier space integration region of the \n",
    "We , the detector also have to match the wave function. "
   ]
  },
  {
   "cell_type": "code",
   "execution_count": null,
   "metadata": {},
   "outputs": [],
   "source": [
    "fig, (ax1, ax2, ax3) = plt.subplots(1,3,figsize=(12,4))\n",
    "\n",
    "ax1.imshow(np.fft.fftshift(bright_efficiency.array), extent=bright_efficiency.fourier_limits.ravel() * \n",
    "           bright_efficiency.wavelength * 1e3)\n",
    "ax1.set_title('Bright field')\n",
    "\n",
    "ax2.imshow(np.fft.fftshift(maadf_efficiency.array), extent=maadf_efficiency.fourier_limits.ravel() * \n",
    "           maadf_efficiency.wavelength * 1e3)\n",
    "ax2.set_title('MAADF')\n",
    "\n",
    "ax3.imshow(np.fft.fftshift(haadf_efficiency.array), extent=haadf_efficiency.fourier_limits.ravel() * \n",
    "           haadf_efficiency.wavelength * 1e3)"
   ]
  },
  {
   "cell_type": "markdown",
   "metadata": {},
   "source": [
    "### Fourier space detector\n",
    "The `FourierSpaceDetector` saves the fourier space instensity of the exit probe wave function at every scan position. Using this detector it is possible to manually define any integration region afterwards the downside to using this is that a full 4D dataset takes a lot of disc space or memory."
   ]
  },
  {
   "cell_type": "code",
   "execution_count": 2,
   "metadata": {},
   "outputs": [],
   "source": [
    "from abtem.detect import FourierSpaceDetector"
   ]
  },
  {
   "cell_type": "markdown",
   "metadata": {},
   "source": [
    "### Polar detector"
   ]
  },
  {
   "cell_type": "markdown",
   "metadata": {},
   "source": []
  },
  {
   "cell_type": "code",
   "execution_count": 3,
   "metadata": {},
   "outputs": [],
   "source": []
  },
  {
   "cell_type": "markdown",
   "metadata": {},
   "source": []
  },
  {
   "cell_type": "code",
   "execution_count": 5,
   "metadata": {},
   "outputs": [
    {
     "ename": "AttributeError",
     "evalue": "'ArrayWithGridAndEnergy' object has no attribute 'shape'",
     "output_type": "error",
     "traceback": [
      "\u001b[1;31m---------------------------------------------------------------------------\u001b[0m",
      "\u001b[1;31mAttributeError\u001b[0m                            Traceback (most recent call last)",
      "\u001b[1;32m<ipython-input-5-2d89a8c060f7>\u001b[0m in \u001b[0;36m<module>\u001b[1;34m\u001b[0m\n\u001b[0;32m      6\u001b[0m \u001b[0mbright_efficiency\u001b[0m \u001b[1;33m=\u001b[0m \u001b[0mbright\u001b[0m\u001b[1;33m.\u001b[0m\u001b[0mget_efficiency\u001b[0m\u001b[1;33m(\u001b[0m\u001b[1;33m)\u001b[0m\u001b[1;33m\u001b[0m\u001b[1;33m\u001b[0m\u001b[0m\n\u001b[0;32m      7\u001b[0m \u001b[1;33m\u001b[0m\u001b[0m\n\u001b[1;32m----> 8\u001b[1;33m \u001b[0mplot_image\u001b[0m\u001b[1;33m(\u001b[0m\u001b[0mbright\u001b[0m\u001b[1;33m)\u001b[0m\u001b[1;33m\u001b[0m\u001b[1;33m\u001b[0m\u001b[0m\n\u001b[0m",
      "\u001b[1;32mc:\\users\\jacob\\pycharmprojects\\abtem\\abtem\\plot.py\u001b[0m in \u001b[0;36mplot_image\u001b[1;34m(waves, i, ax, convert, title, cmap, **kwargs)\u001b[0m\n\u001b[0;32m    119\u001b[0m     \u001b[0marray\u001b[0m \u001b[1;33m=\u001b[0m \u001b[0mwaves\u001b[0m\u001b[1;33m.\u001b[0m\u001b[0marray\u001b[0m\u001b[1;33m\u001b[0m\u001b[1;33m\u001b[0m\u001b[0m\n\u001b[0;32m    120\u001b[0m \u001b[1;33m\u001b[0m\u001b[0m\n\u001b[1;32m--> 121\u001b[1;33m     \u001b[1;32mif\u001b[0m \u001b[0mlen\u001b[0m\u001b[1;33m(\u001b[0m\u001b[0marray\u001b[0m\u001b[1;33m.\u001b[0m\u001b[0mshape\u001b[0m\u001b[1;33m)\u001b[0m \u001b[1;33m==\u001b[0m \u001b[1;36m3\u001b[0m\u001b[1;33m:\u001b[0m\u001b[1;33m\u001b[0m\u001b[1;33m\u001b[0m\u001b[0m\n\u001b[0m\u001b[0;32m    122\u001b[0m         \u001b[0marray\u001b[0m \u001b[1;33m=\u001b[0m \u001b[0marray\u001b[0m\u001b[1;33m[\u001b[0m\u001b[0mi\u001b[0m\u001b[1;33m]\u001b[0m\u001b[1;33m\u001b[0m\u001b[1;33m\u001b[0m\u001b[0m\n\u001b[0;32m    123\u001b[0m \u001b[1;33m\u001b[0m\u001b[0m\n",
      "\u001b[1;31mAttributeError\u001b[0m: 'ArrayWithGridAndEnergy' object has no attribute 'shape'"
     ]
    }
   ],
   "source": [
    "from abtem.plot import plot_image\n",
    "\n",
    "bright.match_grid_and_energy(probe)\n",
    "\n",
    "bright_efficiency = bright.get_efficiency()\n",
    "\n",
    "plot_image(bright)"
   ]
  },
  {
   "cell_type": "code",
   "execution_count": null,
   "metadata": {},
   "outputs": [],
   "source": []
  },
  {
   "cell_type": "code",
   "execution_count": null,
   "metadata": {},
   "outputs": [],
   "source": [
    "\n",
    "\n",
    "\n",
    "maadf_efficiency = maadf.get_efficiency()\n",
    "haadf_efficiency = haadf.get_efficiency()\n",
    "\n",
    "\n",
    "ax3.set_title('HAADF')\n",
    "\n",
    "for ax in (ax1,ax2,ax3):\n",
    "    ax.set_xlabel('alpha_x [mrad]')\n",
    "    ax.set_ylabel('alpha_y [mrad]')\n",
    "\n",
    "plt.tight_layout()"
   ]
  }
 ],
 "metadata": {
  "kernelspec": {
   "display_name": "abtem",
   "language": "python",
   "name": "abtem"
  },
  "language_info": {
   "codemirror_mode": {
    "name": "ipython",
    "version": 3
   },
   "file_extension": ".py",
   "mimetype": "text/x-python",
   "name": "python",
   "nbconvert_exporter": "python",
   "pygments_lexer": "ipython3",
   "version": "3.6.9"
  }
 },
 "nbformat": 4,
 "nbformat_minor": 4
}
