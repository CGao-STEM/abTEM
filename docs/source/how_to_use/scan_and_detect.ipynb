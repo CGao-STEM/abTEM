{
 "cells": [
  {
   "cell_type": "markdown",
   "metadata": {},
   "source": [
    "# Scan and detect"
   ]
  },
  {
   "cell_type": "markdown",
   "metadata": {},
   "source": [
    "Imaging modes such as STEM and ptychography works by scanning an electron probe across a sample and recording the scattering signal. In abTEM, the manner in which the signal is detected is controlled by the detector objects. There is five different types of detectors, each will be described in the following."
   ]
  },
  {
   "cell_type": "markdown",
   "metadata": {},
   "source": [
    "## Ring detector\n",
    "The `RingDetector` can be used for simulating the typical modes of STEM, i.e. bright field and annular dark field measurements. The only difference between these are the inner and outer radial integration limits, below we create a detector representing each mode "
   ]
  },
  {
   "cell_type": "code",
   "execution_count": 1,
   "metadata": {},
   "outputs": [],
   "source": [
    "from abtem.detect import AnnularDetector\n",
    "\n",
    "bright = AnnularDetector(inner=.0, outer=.02, extent=10, sampling=.05, energy=200e3)\n",
    "maadf = AnnularDetector(inner=.05, outer=.086, extent=10, sampling=.05, energy=200e3)\n",
    "haadf = AnnularDetector(inner=.086, outer=.19, extent=10, sampling=.05, energy=200e3)"
   ]
  },
  {
   "cell_type": "markdown",
   "metadata": {},
   "source": [
    "As noted in tutorial, abTEM is generally smart enough to infer the grid and energy from context. However, plotting the integration region as below requires us to explicitly set these values."
   ]
  },
  {
   "cell_type": "code",
   "execution_count": 2,
   "metadata": {},
   "outputs": [
    {
     "data": {
      "image/png": "[encoded data removed]",
      "text/plain": [
       "<Figure size 864x216 with 3 Axes>"
      ]
     },
     "metadata": {
      "needs_background": "light"
     },
     "output_type": "display_data"
    }
   ],
   "source": [
    "import matplotlib.pyplot as plt\n",
    "\n",
    "fig, (ax1,ax2,ax3) = plt.subplots(1, 3, figsize=(12,3))\n",
    "\n",
    "bright.get_integration_region().plot(ax=ax1, title='Bright field')\n",
    "maadf.get_integration_region().plot(ax=ax2, title='MAADF')\n",
    "haadf.get_integration_region().plot(ax=ax3, title='HAADF')"
   ]
  },
  {
   "cell_type": "markdown",
   "metadata": {},
   "source": [
    "As noted in an earlier tutorial, the sampling should be fine enough, that the maximum spatial frequency is twice the outer integration limit. Let's fix this by decreasing the pixel size"
   ]
  },
  {
   "cell_type": "code",
   "execution_count": 3,
   "metadata": {},
   "outputs": [
    {
     "data": {
      "image/png": "[encoded data removed]",
      "text/plain": [
       "<Figure size 432x288 with 1 Axes>"
      ]
     },
     "metadata": {
      "needs_background": "light"
     },
     "output_type": "display_data"
    }
   ],
   "source": [
    "haadf.sampling = .02\n",
    "haadf.get_integration_region().plot(title='HAADF (Fixed)')"
   ]
  },
  {
   "cell_type": "markdown",
   "metadata": {},
   "source": [
    "## Segmented detector"
   ]
  },
  {
   "cell_type": "markdown",
   "metadata": {},
   "source": [
    "The `SegmentedDetector` is partitioned into several integration regions divided at radials and angles. This can be used for simulating for simulating differential phase contrast (DPC) imaging. "
   ]
  },
  {
   "cell_type": "code",
   "execution_count": 9,
   "metadata": {},
   "outputs": [],
   "source": [
    "from abtem.detect import SegmentedDetector\n",
    "\n",
    "segmented_detector = SegmentedDetector()\n"
   ]
  },
  {
   "cell_type": "markdown",
   "metadata": {},
   "source": [
    "Another use of this detector is as a flexible `AnnularDetector`"
   ]
  },
  {
   "cell_type": "code",
   "execution_count": 14,
   "metadata": {},
   "outputs": [
    {
     "data": {
      "text/plain": [
       "<matplotlib.image.AxesImage at 0x617a5cd68>"
      ]
     },
     "execution_count": 14,
     "metadata": {},
     "output_type": "execute_result"
    },
    {
     "data": {
      "image/png": "[encoded data removed]",
      "text/plain": [
       "<Figure size 432x288 with 1 Axes>"
      ]
     },
     "metadata": {
      "needs_background": "light"
     },
     "output_type": "display_data"
    }
   ],
   "source": [
    "detector = RingDetector(inner = .09, outer = .2, sampling=.01, extent=10, energy=300e3)\n",
    "\n",
    "efficiency = detector.get_efficiency()\n",
    "\n",
    "plt.imshow(efficiency.array)\n"
   ]
  },
  {
   "cell_type": "code",
   "execution_count": 7,
   "metadata": {},
   "outputs": [
    {
     "data": {
      "text/plain": [
       "[<matplotlib.lines.Line2D at 0x615eff2b0>]"
      ]
     },
     "execution_count": 7,
     "metadata": {},
     "output_type": "execute_result"
    },
    {
     "data": {
      "image/png": "[encoded data removed]",
      "text/plain": [
       "<Figure size 432x288 with 1 Axes>"
      ]
     },
     "metadata": {
      "needs_background": "light"
     },
     "output_type": "display_data"
    }
   ],
   "source": [
    "from abtem.utils import cosine_window\n",
    "import matplotlib.pyplot as plt\n",
    "import numpy as np\n",
    "\n",
    "x = np.linspace(0,10,1000)\n",
    "y = cosine_window(x, 2, 1, invert=True)\n",
    "\n",
    "plt.plot(x,y)"
   ]
  },
  {
   "cell_type": "markdown",
   "metadata": {},
   "source": [
    "## Pixelated detector"
   ]
  },
  {
   "cell_type": "markdown",
   "metadata": {},
   "source": [
    "This `PixelatedDetector` object saves the intensity of the fourier transformed exit wave function, i.e. a complete convergent beam electron diffraction pattern is recorded at every pixel in a scan of the sample in a large four-dimensional dataset (a 2D diffraction pattern recorded at every 2D probe position). The 4D datasets generated can be analyzed to reconstruct images equivalent to those of any conventional detector geometry. The only downside to this is the high memory or disk space requirement of storing the data. "
   ]
  },
  {
   "cell_type": "markdown",
   "metadata": {},
   "source": [
    "## Custom detector"
   ]
  },
  {
   "cell_type": "markdown",
   "metadata": {},
   "source": [
    "The `CustomDetector` allows the user to set the detector efficiency using an array, e.g. representing a measured detector efficiency."
   ]
  },
  {
   "cell_type": "markdown",
   "metadata": {},
   "source": [
    "## Wave detector\n",
    "This detector simply saves the complex probe array at each position, and hence does not throw any information away. "
   ]
  },
  {
   "cell_type": "markdown",
   "metadata": {},
   "source": []
  },
  {
   "cell_type": "code",
   "execution_count": null,
   "metadata": {},
   "outputs": [],
   "source": []
  },
  {
   "cell_type": "markdown",
   "metadata": {},
   "source": [
    "\n",
    "\n",
    "\n",
    "## Detectors\n",
    "abTEM has several detector types, we will highlight the main ones\n",
    "\n",
    "\n",
    "\n"
   ]
  },
  {
   "cell_type": "markdown",
   "metadata": {},
   "source": []
  },
  {
   "cell_type": "code",
   "execution_count": null,
   "metadata": {},
   "outputs": [],
   "source": [
    "from abtem.detect import RingDetector\n",
    "\n"
   ]
  },
  {
   "cell_type": "markdown",
   "metadata": {},
   "source": [
    "The following is generally unnecesseary. We show the Fourier space integration region of the \n",
    "We , the detector also have to match the wave function. "
   ]
  },
  {
   "cell_type": "code",
   "execution_count": null,
   "metadata": {},
   "outputs": [],
   "source": [
    "fig, (ax1, ax2, ax3) = plt.subplots(1,3,figsize=(12,4))\n",
    "\n",
    "ax1.imshow(np.fft.fftshift(bright_efficiency.array), extent=bright_efficiency.fourier_limits.ravel() * \n",
    "           bright_efficiency.wavelength * 1e3)\n",
    "ax1.set_title('Bright field')\n",
    "\n",
    "ax2.imshow(np.fft.fftshift(maadf_efficiency.array), extent=maadf_efficiency.fourier_limits.ravel() * \n",
    "           maadf_efficiency.wavelength * 1e3)\n",
    "ax2.set_title('MAADF')\n",
    "\n",
    "ax3.imshow(np.fft.fftshift(haadf_efficiency.array), extent=haadf_efficiency.fourier_limits.ravel() * \n",
    "           haadf_efficiency.wavelength * 1e3)"
   ]
  },
  {
   "cell_type": "markdown",
   "metadata": {},
   "source": [
    "### Fourier space detector\n",
    "The `FourierSpaceDetector` saves the fourier space instensity of the exit probe wave function at every scan position. Using this detector it is possible to manually define any integration region afterwards the downside to using this is that a full 4D dataset takes a lot of disc space or memory."
   ]
  },
  {
   "cell_type": "code",
   "execution_count": 2,
   "metadata": {},
   "outputs": [],
   "source": [
    "from abtem.detect import FourierSpaceDetector"
   ]
  },
  {
   "cell_type": "markdown",
   "metadata": {},
   "source": [
    "### Polar detector"
   ]
  },
  {
   "cell_type": "markdown",
   "metadata": {},
   "source": []
  },
  {
   "cell_type": "code",
   "execution_count": 3,
   "metadata": {},
   "outputs": [],
   "source": []
  },
  {
   "cell_type": "markdown",
   "metadata": {},
   "source": []
  },
  {
   "cell_type": "code",
   "execution_count": 5,
   "metadata": {},
   "outputs": [
    {
     "ename": "AttributeError",
     "evalue": "'ArrayWithGridAndEnergy' object has no attribute 'shape'",
     "output_type": "error",
     "traceback": [
      "\u001b[1;31m---------------------------------------------------------------------------\u001b[0m",
      "\u001b[1;31mAttributeError\u001b[0m                            Traceback (most recent call last)",
      "\u001b[1;32m<ipython-input-5-2d89a8c060f7>\u001b[0m in \u001b[0;36m<module>\u001b[1;34m\u001b[0m\n\u001b[0;32m      6\u001b[0m \u001b[0mbright_efficiency\u001b[0m \u001b[1;33m=\u001b[0m \u001b[0mbright\u001b[0m\u001b[1;33m.\u001b[0m\u001b[0mget_efficiency\u001b[0m\u001b[1;33m(\u001b[0m\u001b[1;33m)\u001b[0m\u001b[1;33m\u001b[0m\u001b[1;33m\u001b[0m\u001b[0m\n\u001b[0;32m      7\u001b[0m \u001b[1;33m\u001b[0m\u001b[0m\n\u001b[1;32m----> 8\u001b[1;33m \u001b[0mplot_image\u001b[0m\u001b[1;33m(\u001b[0m\u001b[0mbright\u001b[0m\u001b[1;33m)\u001b[0m\u001b[1;33m\u001b[0m\u001b[1;33m\u001b[0m\u001b[0m\n\u001b[0m",
      "\u001b[1;32mc:\\users\\jacob\\pycharmprojects\\abtem\\abtem\\plot.py\u001b[0m in \u001b[0;36mplot_image\u001b[1;34m(waves, i, ax, convert, title, cmap, **kwargs)\u001b[0m\n\u001b[0;32m    119\u001b[0m     \u001b[0marray\u001b[0m \u001b[1;33m=\u001b[0m \u001b[0mwaves\u001b[0m\u001b[1;33m.\u001b[0m\u001b[0marray\u001b[0m\u001b[1;33m\u001b[0m\u001b[1;33m\u001b[0m\u001b[0m\n\u001b[0;32m    120\u001b[0m \u001b[1;33m\u001b[0m\u001b[0m\n\u001b[1;32m--> 121\u001b[1;33m     \u001b[1;32mif\u001b[0m \u001b[0mlen\u001b[0m\u001b[1;33m(\u001b[0m\u001b[0marray\u001b[0m\u001b[1;33m.\u001b[0m\u001b[0mshape\u001b[0m\u001b[1;33m)\u001b[0m \u001b[1;33m==\u001b[0m \u001b[1;36m3\u001b[0m\u001b[1;33m:\u001b[0m\u001b[1;33m\u001b[0m\u001b[1;33m\u001b[0m\u001b[0m\n\u001b[0m\u001b[0;32m    122\u001b[0m         \u001b[0marray\u001b[0m \u001b[1;33m=\u001b[0m \u001b[0marray\u001b[0m\u001b[1;33m[\u001b[0m\u001b[0mi\u001b[0m\u001b[1;33m]\u001b[0m\u001b[1;33m\u001b[0m\u001b[1;33m\u001b[0m\u001b[0m\n\u001b[0;32m    123\u001b[0m \u001b[1;33m\u001b[0m\u001b[0m\n",
      "\u001b[1;31mAttributeError\u001b[0m: 'ArrayWithGridAndEnergy' object has no attribute 'shape'"
     ]
    }
   ],
   "source": [
    "from abtem.plot import plot_image\n",
    "\n",
    "bright.match_grid_and_energy(probe)\n",
    "\n",
    "bright_efficiency = bright.get_efficiency()\n",
    "\n",
    "plot_image(bright)"
   ]
  },
  {
   "cell_type": "code",
   "execution_count": null,
   "metadata": {},
   "outputs": [],
   "source": []
  },
  {
   "cell_type": "code",
   "execution_count": null,
   "metadata": {},
   "outputs": [],
   "source": [
    "\n",
    "\n",
    "\n",
    "maadf_efficiency = maadf.get_efficiency()\n",
    "haadf_efficiency = haadf.get_efficiency()\n",
    "\n",
    "\n",
    "ax3.set_title('HAADF')\n",
    "\n",
    "for ax in (ax1,ax2,ax3):\n",
    "    ax.set_xlabel('alpha_x [mrad]')\n",
    "    ax.set_ylabel('alpha_y [mrad]')\n",
    "\n",
    "plt.tight_layout()"
   ]
  }
 ],
 "metadata": {
  "kernelspec": {
   "display_name": "abtem",
   "language": "python",
   "name": "abtem"
  },
  "language_info": {
   "codemirror_mode": {
    "name": "ipython",
    "version": 3
   },
   "file_extension": ".py",
   "mimetype": "text/x-python",
   "name": "python",
   "nbconvert_exporter": "python",
   "pygments_lexer": "ipython3",
   "version": "3.6.9"
  }
 },
 "nbformat": 4,
 "nbformat_minor": 4
}
