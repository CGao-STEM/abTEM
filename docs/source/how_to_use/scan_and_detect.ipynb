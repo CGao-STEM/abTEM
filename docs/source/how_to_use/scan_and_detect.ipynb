{
 "cells": [
  {
   "cell_type": "code",
   "execution_count": 1,
   "metadata": {},
   "outputs": [],
   "source": [
    "%load_ext autoreload\n",
    "%autoreload 2"
   ]
  },
  {
   "cell_type": "markdown",
   "metadata": {},
   "source": [
    "# Scan and detect"
   ]
  },
  {
   "cell_type": "markdown",
   "metadata": {},
   "source": [
    "Scanning imaging modes such as STEM works by scanning an electron probe across a sample and recording the scattering signal. In abTEM, the manner in which the signal is detected is controlled by the detector objects. There is five different types of detectors, each will be described in the following."
   ]
  },
  {
   "cell_type": "code",
   "execution_count": 2,
   "metadata": {},
   "outputs": [],
   "source": [
    "from abtem.waves import ProbeWaves\n",
    "\n",
    "probe = ProbeWaves(sampling=.05, \n",
    "                   extent=10, \n",
    "                   energy=60e3, \n",
    "                   semiangle_cutoff=.03, \n",
    "                   focal_spread=30,\n",
    "                   defocus=50)\n",
    "\n",
    "probe\n",
    "\n"
   ]
  },
  {
   "cell_type": "markdown",
   "metadata": {},
   "source": [
    "## Annular detector\n",
    "The `AnnularDetector` can be used for simulating the typical modes of STEM, i.e. bright field and annular dark field measurements. The only difference between these are the inner and outer radial integration limits, below we create a detector representing each mode "
   ]
  },
  {
   "cell_type": "code",
   "execution_count": null,
   "metadata": {},
   "outputs": [],
   "source": []
  },
  {
   "cell_type": "code",
   "execution_count": 1,
   "metadata": {},
   "outputs": [],
   "source": [
    "from abtem.detect import AnnularDetector\n",
    "\n",
    "bright = AnnularDetector(inner=.0, outer=.02, extent=10, sampling=.05, energy=200e3)\n",
    "maadf = AnnularDetector(inner=.05, outer=.086, extent=10, sampling=.05, energy=200e3)\n",
    "haadf = AnnularDetector(inner=.086, outer=.19, extent=10, sampling=.05, energy=200e3)"
   ]
  },
  {
   "cell_type": "markdown",
   "metadata": {},
   "source": [
    "As noted in tutorial, abTEM is generally smart enough to infer the grid and energy from context. However, plotting the integration region as below requires us to explicitly set these values."
   ]
  },
  {
   "cell_type": "code",
   "execution_count": 2,
   "metadata": {},
   "outputs": [
    {
     "data": {
      "image/png": "[encoded data removed]",
      "text/plain": [
       "<Figure size 864x216 with 3 Axes>"
      ]
     },
     "metadata": {
      "needs_background": "light"
     },
     "output_type": "display_data"
    }
   ],
   "source": [
    "import matplotlib.pyplot as plt\n",
    "\n",
    "fig, (ax1,ax2,ax3) = plt.subplots(1, 3, figsize=(12,3))\n",
    "\n",
    "bright.get_integration_region().plot(ax=ax1, title='Bright field')\n",
    "maadf.get_integration_region().plot(ax=ax2, title='MAADF')\n",
    "haadf.get_integration_region().plot(ax=ax3, title='HAADF');"
   ]
  },
  {
   "cell_type": "markdown",
   "metadata": {},
   "source": [
    "As noted in an earlier tutorial, the sampling should be fine enough, that the maximum spatial frequency is twice the outer integration limit. Let's fix this by decreasing the pixel size"
   ]
  },
  {
   "cell_type": "code",
   "execution_count": 3,
   "metadata": {},
   "outputs": [
    {
     "data": {
      "image/png": "[encoded data removed]",
      "text/plain": [
       "<Figure size 432x288 with 1 Axes>"
      ]
     },
     "metadata": {
      "needs_background": "light"
     },
     "output_type": "display_data"
    }
   ],
   "source": [
    "haadf.sampling = .02\n",
    "haadf.get_integration_region().plot(title='HAADF (Fixed)');"
   ]
  },
  {
   "cell_type": "markdown",
   "metadata": {},
   "source": [
    "## Custom detector"
   ]
  },
  {
   "cell_type": "markdown",
   "metadata": {},
   "source": [
    "However,   current   detector   hardware   is   far   from   perfect   with   detectorsexhibiting significant asymmetries or non-uniformities across their active region\n",
    "The `CustomDetector` allows the user to set the detector efficiency using an array, e.g. representing a measured detector efficiency."
   ]
  }
 ],
 "metadata": {
  "kernelspec": {
   "display_name": "abtem",
   "language": "python",
   "name": "abtem"
  },
  "language_info": {
   "codemirror_mode": {
    "name": "ipython",
    "version": 3
   },
   "file_extension": ".py",
   "mimetype": "text/x-python",
   "name": "python",
   "nbconvert_exporter": "python",
   "pygments_lexer": "ipython3",
   "version": "3.7.5"
  }
 },
 "nbformat": 4,
 "nbformat_minor": 4
}
