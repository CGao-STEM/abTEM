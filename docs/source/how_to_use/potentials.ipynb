{
 "cells": [
  {
   "cell_type": "markdown",
   "metadata": {},
   "source": [
    "# Potential"
   ]
  },
  {
   "cell_type": "markdown",
   "metadata": {},
   "source": [
    "The electron beam interacts with the specimen through the Coulomb potential of the electrons and nuclei in the specimen. "
   ]
  },
  {
   "cell_type": "markdown",
   "metadata": {},
   "source": [
    "## Potential parametrization\n",
    "\n",
    "The electron charge distribution of an atom can be calculated from a first-principles electronic structure calculation, while the atomic nuclei are a point charges at the resolution of a TEM. Given a charge distribution, the potential can be obtained via Poisson's equation. \n",
    "\n",
    "Simulation codes include a parametrization of the atomic potentials, with a table of parameters for each element fitted to Hartree-Fock calculations. Below we show the radial depedence of the electrostatic potential of five selected elements, using the default parametrization in abTEM. This parametrization is due to Lobato et. al., it is the latest and one of the most accurate parametrizations."
   ]
  },
  {
   "cell_type": "code",
   "execution_count": 1,
   "metadata": {
    "nbsphinx": "hidden"
   },
   "outputs": [],
   "source": [
    "# This cell is hidden from nbsphinx\n",
    "\n",
    "from abtem.parametrizations import lobato, load_lobato_parameters\n",
    "import matplotlib.pyplot as plt\n",
    "from ase.data import chemical_symbols\n",
    "import numpy as np\n",
    "\n",
    "parameters = load_lobato_parameters()\n",
    "atomic_numbers = [6, 14, 29, 79, 92]\n",
    "r = np.linspace(0,2,100)\n",
    "\n",
    "plt.figure(figsize=(5,3.5))\n",
    "for atomic_number in atomic_numbers:\n",
    "    v = lobato(r, parameters[atomic_number])\n",
    "    plt.plot(r, v, label=chemical_symbols[atomic_number])\n",
    "\n",
    "plt.xlabel('r [Å]')\n",
    "plt.ylabel('V [eV / e]')\n",
    "plt.ylim([0, 30])\n",
    "plt.legend()\n",
    "plt.tight_layout()\n",
    "plt.savefig('potentials.png')\n",
    "plt.close()"
   ]
  },
  {
   "cell_type": "markdown",
   "metadata": {},
   "source": [
    "The radial dependence of the atomic potential for isolated single atoms is shown below."
   ]
  },
  {
   "cell_type": "markdown",
   "metadata": {},
   "source": [
    "![potentials](potentials.png)"
   ]
  },
  {
   "cell_type": "markdown",
   "metadata": {},
   "source": [
    "## Independent atom model"
   ]
  },
  {
   "cell_type": "markdown",
   "metadata": {},
   "source": [
    "The full specimen potential, $V(r)$, is usually obtained as a linear superposition of the atomic potentials\n",
    "\n",
    "$$\n",
    "    V(r) = \\sum_i V_i(r-r_i) \\quad ,\n",
    "$$\n",
    "\n",
    "where $V_i(r)$ is the atomic potential of the $i$'th atom. This is known as the Indenpendent Atom Model (IAM). This model obviously neglects any effect due to bonding and charge transfer. However, since the nucleus and core electrons constitute most of the charge in an atom, this is often a good approximation, which gets progressively better as the atomic number increases. Nonetheless, due to recent improvements in microscopes, interest in going beyond this approximation have started. For example, it has been shown that simulated images based on potentials from DFT calculations can provide a better match with experimental data for light elements. In a later tutorial, we go beyond the IAM using density functional theory.\n",
    "\n",
    "Below we create a `Potential` object. This object represents a sliced potential in the IAM using a given parametrization. "
   ]
  },
  {
   "cell_type": "code",
   "execution_count": 3,
   "metadata": {},
   "outputs": [],
   "source": [
    "from ase.io import read\n",
    "from abtem.potentials import Potential\n",
    "\n",
    "srtio = read('srtio3_110.cif')\n",
    "\n",
    "potential = Potential(srtio, slice_thickness=0.5, sampling=.05, parametrization='lobato')"
   ]
  },
  {
   "cell_type": "code",
   "execution_count": 5,
   "metadata": {
    "nbsphinx": "hidden"
   },
   "outputs": [],
   "source": [
    "# This cell is hidden from nbsphinx\n",
    "\n",
    "from abtem.plot import plot_image\n",
    "\n",
    "fig, (ax1, ax2, ax3) = plt.subplots(1, 3, figsize=(9, 3.2))\n",
    "plot_image(potential.get_slice(3), ax=ax1, title='Slice # 3')\n",
    "plot_image(potential.get_slice(5), ax=ax2, title='Slice # 5')\n",
    "plot_image(potential.get_slice(7), ax=ax3, title='Slice # 7')\n",
    "plt.tight_layout()\n",
    "plt.savefig('potential_slices.png')\n",
    "plt.close()"
   ]
  },
  {
   "cell_type": "markdown",
   "metadata": {},
   "source": [
    "The `get_slice` method of the `Potential` object can be used to calculate individual slices. Below we show three slices from the SrTiO<sub>3</sub> potential."
   ]
  },
  {
   "cell_type": "markdown",
   "metadata": {},
   "source": [
    "![potential_slices](potential_slices.png)"
   ]
  },
  {
   "cell_type": "markdown",
   "metadata": {},
   "source": [
    "## Potential projection"
   ]
  },
  {
   "cell_type": "markdown",
   "metadata": {},
   "source": [
    "Some multislice codes uses a fast, but somewhat less accurate approximation for slicing the potential. The atomic coordinates are sorted into slices and the analytical infinite projection of the atomic potentials are assigned to that slice. This means that slices cannot be made thinner than about $1-2$ Å, and they should preferably coincide with lattice planes. This method can be used in abTEM by setting `method = 'infinite'` when instantiating the potential. By default, abTEM uses the slower but more accurate finite potential projection. Here, numerical integration is used to calculate the integrals of the form\n",
    "\n",
    "$$\n",
    "V_{proj}^{(i)}(x, y) = \\int_{z_i}^{z_i+\\Delta z} V(x,y,z) dz \\quad ,\n",
    "$$\n",
    "\n",
    "where $z_i$ is the $z$-position at the entrance of the $i$'th slice and $\\Delta z$ is the slice thickness. Using this method, the slices can be arbitrarily thin, however, a slice thickness of $0.5$ Å is generally slim enough. The numerical integrals are efficiently handled by using the double exponential Tanh–Sinh quadrature, which is designed accurate result using a minimum number evaluations for functions with singularities."
   ]
  }
 ],
 "metadata": {
  "kernelspec": {
   "display_name": "abtem",
   "language": "python",
   "name": "abtem"
  },
  "language_info": {
   "codemirror_mode": {
    "name": "ipython",
    "version": 3
   },
   "file_extension": ".py",
   "mimetype": "text/x-python",
   "name": "python",
   "nbconvert_exporter": "python",
   "pygments_lexer": "ipython3",
   "version": "3.6.9"
  }
 },
 "nbformat": 4,
 "nbformat_minor": 4
}
