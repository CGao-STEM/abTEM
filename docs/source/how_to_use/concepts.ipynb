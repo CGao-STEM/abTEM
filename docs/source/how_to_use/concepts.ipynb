{
 "cells": [
  {
   "cell_type": "markdown",
   "metadata": {},
   "source": [
    "# Object models"
   ]
  },
  {
   "cell_type": "markdown",
   "metadata": {},
   "source": [
    "abTEM is an object-oriented simulation package, each part of the imaging process is expressed as a class. The mode of simulation is not chosen directly, rather simulations are performed by choosing the appropriate objects. A HRTEM simulation requires a `PlaneWaves`, `Potential` and `CTF` object. A STEM simulation requires a `ProbeWaves`, `Potential`, `GridScan` and a `RingDetector` object.\n",
    "\n",
    "Below we introduce \n",
    "Some common objects are listed below:\n",
    "\n",
    "* Wave functions\n",
    "    * `PlaneWaves`\n",
    "    * `ProbeWaves`\n",
    "    * `PrismWaves`\n",
    "    * `Waves`\n",
    "\n",
    "\n",
    "* Electrostatic potential\n",
    "    * `Potential`\n",
    "    * `PrecalculatedPotential`\n",
    "    * `GPAWPotential`\n",
    "\n",
    "\n",
    "* Lenses\n",
    "    * `CTF`\n",
    "\n",
    "\n",
    "* Detection\n",
    "    * `RingDetector`\n",
    "    * `FourierSpaceDetector`\n",
    "\n",
    "\n",
    "* Scanning\n",
    "    * `GridScan`\n",
    "    * `CustomScan`\n",
    "    * `LineScan`\n",
    "\n",
    "\n",
    "In abTEM .\n",
    "\n",
    "Fortunately, they many objects , for example both the `CTF` and the `ProbeWaves` objects are descendents of the `Grid` and `CTFBase` object, hence they share many of the same properties."
   ]
  },
  {
   "cell_type": "markdown",
   "metadata": {},
   "source": []
  },
  {
   "cell_type": "code",
   "execution_count": 13,
   "metadata": {},
   "outputs": [
    {
     "data": {
      "text/plain": [
       "<abtem.waves.ProbeWaves at 0x12c63c4a8>"
      ]
     },
     "execution_count": 13,
     "metadata": {},
     "output_type": "execute_result"
    }
   ],
   "source": [
    "from abtem.waves import ProbeWaves\n",
    "probe = ProbeWaves(extent=10, sampling=0.1, defocus=40)\n",
    "probe"
   ]
  },
  {
   "cell_type": "markdown",
   "metadata": {},
   "source": [
    "To change the defocus after construction we write"
   ]
  },
  {
   "cell_type": "code",
   "execution_count": 5,
   "metadata": {},
   "outputs": [
    {
     "name": "stdout",
     "output_type": "stream",
     "text": [
      "100.0\n"
     ]
    }
   ],
   "source": [
    "probe.defocus = 100"
   ]
  },
  {
   "cell_type": "code",
   "execution_count": null,
   "metadata": {},
   "outputs": [],
   "source": [
    "To \n",
    "\n",
    "* `Waves`\n",
    "* `ScatteringMatrix`\n",
    "\n",
    "\n",
    "Three objects are used for creating the incoming wave function. There sampling and \n",
    "\n",
    "For example, . The defocus "
   ]
  },
  {
   "cell_type": "code",
   "execution_count": 14,
   "metadata": {},
   "outputs": [],
   "source": [
    "probe = probe.build()"
   ]
  },
  {
   "cell_type": "code",
   "execution_count": 16,
   "metadata": {},
   "outputs": [
    {
     "data": {
      "text/plain": [
       "(1, 100, 100)"
      ]
     },
     "execution_count": 16,
     "metadata": {},
     "output_type": "execute_result"
    }
   ],
   "source": []
  },
  {
   "cell_type": "markdown",
   "metadata": {},
   "source": [
    "## Electrostatic potentials"
   ]
  },
  {
   "cell_type": "markdown",
   "metadata": {},
   "source": [
    "# Grid\n",
    "\n",
    "The first setting, Pixel Size, is extremely important because it controls the high angle scattering accuracy of the simulation. This is because the pixel size in real space defines the maximum inverse spatial coordinate value in Fourier space , using the formula:\n"
   ]
  },
  {
   "cell_type": "markdown",
   "metadata": {},
   "source": [
    "## Compatible objects"
   ]
  }
 ],
 "metadata": {
  "kernelspec": {
   "display_name": "abtem",
   "language": "python",
   "name": "abtem"
  },
  "language_info": {
   "codemirror_mode": {
    "name": "ipython",
    "version": 3
   },
   "file_extension": ".py",
   "mimetype": "text/x-python",
   "name": "python",
   "nbconvert_exporter": "python",
   "pygments_lexer": "ipython3",
   "version": "3.6.9"
  },
  "pycharm": {
   "stem_cell": {
    "cell_type": "raw",
    "source": [],
    "metadata": {
     "collapsed": false
    }
   }
  }
 },
 "nbformat": 4,
 "nbformat_minor": 2
}