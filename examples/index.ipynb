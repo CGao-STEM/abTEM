{
 "cells": [
  {
   "cell_type": "markdown",
   "metadata": {
    "pycharm": {
     "name": "#%% md\n"
    }
   },
   "source": [
    "# abTEM\n",
    "\n",
    "abTEM provides a Python API for running simulations of (scanning) transmission electron microscopy images and diffraction patterns using the multislice or PRISM algorithms."
   ]
  },
  {
   "cell_type": "markdown",
   "metadata": {},
   "source": [
    "## Quickstart\n",
    "To quickly start using abTEM in one of the typical imaging modes try of the quick start guides:\n",
    "* [HRTEM and SAED](quickstart/quick_hrtem_and_saed.ipynb)\n",
    "* CBED\n",
    "* STEM\n",
    "* STEM with PRISM\n",
    "* [4D-STEM](quickstart/quick_4d-stem.ipynb)\n",
    "* [DFT potential](quickstart/quick_hrtem_with_dft_potential.ipynb)\n",
    "\n",
    "## Walkthrough\n",
    "For a thorough walkthrough of all the features try the walkthrough:\n",
    "1. [Atomic models with ASE](../docs/source/walkthrough/01_atomic_models.ipynb)\n",
    "2. [Potentials](../docs/source/walkthrough/02_potentials.ipynb)\n",
    "3. [Wave functions](../docs/source/walkthrough/03_wave_functions.ipynb)\n",
    "4. [Multislice](../docs/source/walkthrough/04_multislice.ipynb)\n",
    "5. [Contrast transfer function](../docs/source/walkthrough/05_contrast_transfer_function.ipynb)\n",
    "6. [Scan and detect](../docs/source/walkthrough/06_scan_and_detect.ipynb)\n",
    "7. [Detector](../docs/source/walkthrough/07_detectors_(4D-STEM).ipynb)\n",
    "8. [Temperature](../docs/source/walkthrough/08_temperature.ipynb)\n",
    "9. [PRISM](../docs/source/walkthrough/09_prism.ipynb)\n",
    "10. [DFT with GPAW](../docs/source/walkthrough/10_DFT.ipynb)\n",
    "11. [GPU](../docs/source/walkthrough/11_GPU_calculations.ipynb)\n",
    "\n",
    "## Other\n",
    "Growing library of notebooks demonstrating special use cases.\n",
    "* [Materials project](other/materials_project.ipynb)\n",
    "* [PACBED thickness series](other/pacbed_thickness_series.ipynb)\n",
    "\n",
    "## Benchmarks\n",
    "Simulations demonstrating the speed of abTEM.\n",
    "* [8 million atoms](benchmarks/cbed_8_million_atoms.ipynb): CBED simulation of silicon with 8 million atoms (GPU)\n",
    "* [1 million probes](benchmarks/1_million_probe_positions.ipynb): STEM simulation with 1 million probe position using PRISM (GPU)"
   ]
  }
 ],
 "metadata": {
  "kernelspec": {
   "display_name": "abtem",
   "language": "python",
   "name": "abtem"
  },
  "language_info": {
   "codemirror_mode": {
    "name": "ipython",
    "version": 3
   },
   "file_extension": ".py",
   "mimetype": "text/x-python",
   "name": "python",
   "nbconvert_exporter": "python",
   "pygments_lexer": "ipython3",
   "version": "3.8.5"
  },
  "pycharm": {
   "stem_cell": {
    "cell_type": "raw",
    "metadata": {
     "collapsed": false
    },
    "source": []
   }
  }
 },
 "nbformat": 4,
 "nbformat_minor": 4
}
