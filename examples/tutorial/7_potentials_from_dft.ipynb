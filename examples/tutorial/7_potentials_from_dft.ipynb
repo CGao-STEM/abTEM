{
 "cells": [
  {
   "cell_type": "markdown",
   "metadata": {},
   "source": [
    "# Potential from DFT"
   ]
  },
  {
   "cell_type": "code",
   "execution_count": null,
   "metadata": {},
   "outputs": [],
   "source": [
    "import numpy as np\n",
    "\n",
    "from gpaw import GPAW, PW\n",
    "from gpaw.utilities.ps2ae import PS2AE\n",
    "from ase.io import read\n",
    "from ase.lattice.hexagonal import Graphite\n",
    "import matplotlib.pyplot as plt\n",
    "\n",
    "from abtem.potentials import Potential\n",
    "from abtem.waves import PlaneWaves\n",
    "from abtem.dft import GPAWPotential\n",
    "from abtem.plot import plot_atoms\n",
    "from abtem.transform import orthogonalize_atoms"
   ]
  },
  {
   "cell_type": "markdown",
   "metadata": {},
   "source": [
    "## Creating graphene\n",
    "We create an orthogonal graphene unit cell."
   ]
  },
  {
   "cell_type": "code",
   "execution_count": null,
   "metadata": {},
   "outputs": [],
   "source": [
    "atoms = Graphite(symbol = 'C', latticeconstant = {'a' : 2.46, 'c' : 6.7})\n",
    "atoms = orthogonalize_atoms(atoms)\n",
    "atoms = atoms[atoms.positions[:,2] > 1]\n",
    "atoms.center(vacuum=2, axis=2)\n",
    "atoms.center()\n",
    "atoms *= (2,1,1)\n",
    "atoms.pbc[:] = True\n",
    "\n",
    "plot_atoms(atoms, scale_atoms=.5)"
   ]
  },
  {
   "cell_type": "markdown",
   "metadata": {},
   "source": [
    "## Basic DFT calculation with GPAW\n",
    "GPAW is a density-functional theory (DFT) Python code based on the projector-augmented wave (PAW) method and the atomic simulation environment (ASE). The wave functions can be described with:\n",
    "* Plane-waves (pw)\n",
    "* Real-space uniform grids, multigrid methods and the finite-difference approximation (fd)\n",
    "* Atom-centered basis-functions (lcao)\n",
    "\n",
    "abTEM needs a converged GPAW calculator object, but otherwise does not have any special requirements. We refer to [GPAW's documentation](https://wiki.fysik.dtu.dk/gpaw/) instructions on how to use it."
   ]
  },
  {
   "cell_type": "code",
   "execution_count": null,
   "metadata": {},
   "outputs": [],
   "source": [
    "calc = GPAW(mode='lcao', h=.1, txt=None) # create a calculator in lcao mode\n",
    "atoms.set_calculator(calc)\n",
    "atoms.get_potential_energy() # "
   ]
  },
  {
   "cell_type": "markdown",
   "metadata": {},
   "source": [
    "## Creating a DFT potential\n",
    "Once the DFT calculation is converged it is no more difficult creating a DFT potential than creating it s IAM counterpart. The method for converting a PAW DFT-calculation into an all-electron potential is described by [T Susi et.al.](https://doi.org/10.1016/j.ultramic.2018.11.002)"
   ]
  },
  {
   "cell_type": "code",
   "execution_count": null,
   "metadata": {},
   "outputs": [],
   "source": [
    "potential_dft = GPAWPotential(calc, sampling=.05).precalculate()\n",
    "potential_iam = Potential(atoms, sampling=.05).precalculate()"
   ]
  },
  {
   "cell_type": "markdown",
   "metadata": {},
   "source": [
    "## Comparing the DFT potential to the IAM potential\n",
    "We show the DFT potential as well as its IAM counterpart. The difference is barely perceptiple by eye since the potential is dominated by the core charge, however showing the relative difference reveals that they may differ by more than 40 % along the C-C bonds.\n",
    "\n",
    "$$\n",
    "    \\mathrm{Rel. diff.} = \\frac{V_{DFT} - V_{IAM}}{V_{IAM} + \\epsilon}\n",
    "$$\n",
    "\n",
    "It may seem counter-intuitive that the IAM potential is greater along the C-C bonds.  However, this is because the main effect of the electron density is to screen the $1/r$ Coulomb  potential of the cores. Consequently, bonding concentrates the electron density into thenear core regions and between the atoms, reducing the total potential in these regions.\n",
    "\n",
    "Note that we are subtracting the minimum from each potential for the comparison. A constant factor can be added to a periodic potential without changing the physics."
   ]
  },
  {
   "cell_type": "code",
   "execution_count": null,
   "metadata": {},
   "outputs": [],
   "source": [
    "dft_slice = potential_dft.array.sum(0)\n",
    "dft_slice -= dft_slice.min()\n",
    "iam_slice = potential_iam.array.sum(0)\n",
    "iam_slice -= iam_slice.min()\n",
    "\n",
    "fig, (ax1, ax2, ax3) = plt.subplots(1, 3, figsize = (13,4))\n",
    "im1=ax1.imshow(dft_slice)\n",
    "fig.colorbar(im1, ax=ax1)\n",
    "\n",
    "im2=ax2.imshow(iam_slice)\n",
    "fig.colorbar(im2, ax=ax2)\n",
    "\n",
    "im3=ax3.imshow((iam_slice - dft_slice) / (iam_slice + 1e-12) * 100, cmap='seismic', vmin=-50, vmax=50)\n",
    "fig.colorbar(im3, ax=ax3)\n",
    "\n",
    "plt.tight_layout()"
   ]
  }
 ],
 "metadata": {
  "kernelspec": {
   "display_name": "abtem",
   "language": "python",
   "name": "abtem"
  },
  "language_info": {
   "codemirror_mode": {
    "name": "ipython",
    "version": 3
   },
   "file_extension": ".py",
   "mimetype": "text/x-python",
   "name": "python",
   "nbconvert_exporter": "python",
   "pygments_lexer": "ipython3",
   "version": "3.6.9"
  }
 },
 "nbformat": 4,
 "nbformat_minor": 2
}
