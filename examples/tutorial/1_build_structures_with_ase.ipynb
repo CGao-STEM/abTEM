{
 "cells": [
  {
   "cell_type": "markdown",
   "metadata": {},
   "source": [
    "# Building Structures with ASE"
   ]
  },
  {
   "cell_type": "code",
   "execution_count": null,
   "metadata": {},
   "outputs": [],
   "source": [
    "import matplotlib.pyplot as plt\n",
    "\n",
    "from ase import build\n",
    "from ase.io import read\n",
    "from ase.visualize import view\n",
    "\n",
    "from abtem.plot import plot_atoms\n",
    "from abtem.transform import orthogonalize_atoms"
   ]
  },
  {
   "cell_type": "markdown",
   "metadata": {},
   "source": [
    "In this lesson we show how to use The Atomic Simulation Environment [(ASE)](https://wiki.fysik.dtu.dk/ase/) to create supercells for doing image simulations. ASE is a set of tools and Python modules for setting up, manipulating, visualizing and analyzing atomistic simulations. It is used in conjunction with other codes such as GPAW for running DFT simulations. Here we focus on the basic tools and concepts necessary for creating electrostatic potentials for image simulation with abTEM."
   ]
  },
  {
   "cell_type": "markdown",
   "metadata": {},
   "source": [
    "## Importing Strontium Titanate\n",
    "ASE can import all the common atomic structure formats, see a full list [here](https://wiki.fysik.dtu.dk/ase/ase/io/io.html). In this example, we will import a unit cell of Strontium Titanate, SrTiO2. Other structures can be downloaded from databases such as the Inorganic Crystal Structure Database [(ICSD)](https://icsd.products.fiz-karlsruhe.de/)."
   ]
  },
  {
   "cell_type": "code",
   "execution_count": null,
   "metadata": {},
   "outputs": [],
   "source": [
    "srtio = read('data/SrTiO.cif') # read atomic structure file\n",
    "srtio"
   ]
  },
  {
   "cell_type": "markdown",
   "metadata": {},
   "source": [
    "In ASE the atomic structure is represented by the [Atoms object](https://wiki.fysik.dtu.dk/ase/ase/atoms.html). This objects describes, amongst other things, the position and atomic number of each atom and the unit cell. These quantities can be accessed and changed with get-methods as shown below."
   ]
  },
  {
   "cell_type": "code",
   "execution_count": null,
   "metadata": {},
   "outputs": [],
   "source": [
    "print(srtio.get_positions(), '\\n')\n",
    "print(srtio.get_atomic_numbers(), '\\n')\n",
    "print(srtio.get_cell())"
   ]
  },
  {
   "cell_type": "markdown",
   "metadata": {},
   "source": [
    "The atomic structure can be visualized using the function `abtem.plot.plot_atoms`. This function shows a 2d projection of the structure perpendicular to the specified plane. Note that abtem assumes propagation along the $z$-axis with the entrance plane at $z=0$, hence the $xy$-plane corresponds to the imaging plane."
   ]
  },
  {
   "cell_type": "code",
   "execution_count": null,
   "metadata": {},
   "outputs": [],
   "source": [
    "plot_atoms(srtio, plane='xy')"
   ]
  },
  {
   "cell_type": "markdown",
   "metadata": {},
   "source": [
    "The above unit cell is fine for simulating a High-Resolution Transmission Electron Microscopy (HRTEM) image, however simulating a Scanning Transmission Electron Microscopy (STEM) image requires a simulation supercell large enough to accomodate the probe. This will be described in detail later. Below we show how to repeat the unit cell to create a larger simulation cell. \n",
    "We can show two directions side-by-side with `plot_atoms` using normal `matplotlib` commands."
   ]
  },
  {
   "cell_type": "code",
   "execution_count": null,
   "metadata": {},
   "outputs": [],
   "source": [
    "repeated_srtio = srtio * (3, 3, 5)\n",
    "\n",
    "fig, (ax1, ax2) = plt.subplots(1, 2, figsize=(8, 4))\n",
    "plot_atoms(repeated_srtio, ax=ax1)\n",
    "plot_atoms(repeated_srtio, ax=ax2, plane='xz')\n",
    "plt.tight_layout()"
   ]
  },
  {
   "cell_type": "markdown",
   "metadata": {},
   "source": [
    "## Arbitrary directions in SrTiO\n",
    "The [`surface`](https://wiki.fysik.dtu.dk/ase/ase/build/surface.html?highlight=surface#ase.build.surface) function can be used for creating an arbitrary surface given its miller indices."
   ]
  },
  {
   "cell_type": "code",
   "execution_count": null,
   "metadata": {},
   "outputs": [],
   "source": [
    "surf = build.surface(srtio, indices=(1, 1, 1), layers=9)\n",
    "\n",
    "fig, (ax1, ax2) = plt.subplots(1, 2, figsize=(9, 4))\n",
    "plot_atoms(surf, ax=ax1)\n",
    "plot_atoms(surf, ax=ax2, plane='xz')"
   ]
  },
  {
   "cell_type": "markdown",
   "metadata": {},
   "source": [
    "There is two issues with the created surface structure, the unit cell has zero height and the unit cell is nonorthogonal. The first issue is easily solved with the [`.center()`](https://wiki.fysik.dtu.dk/ase/ase/atoms.html?highlight=atoms#ase.Atoms.center) method. This method centers and adds additional vaccuum to the atoms along a specified set of axes. The second problem is sometimes more difficult to resolve, however here we can straightforwardly use `orthogonalize_atoms` function. Consult the documentation if you find that this function creates a too large or strained unit cell."
   ]
  },
  {
   "cell_type": "code",
   "execution_count": null,
   "metadata": {},
   "outputs": [],
   "source": [
    "surf.center(axis=2, vacuum=2)\n",
    "\n",
    "orthogonal_surf = orthogonalize_atoms(surf)\n",
    "\n",
    "plot_atoms(orthogonal_surf, plane='xy')"
   ]
  },
  {
   "cell_type": "markdown",
   "metadata": {},
   "source": [
    "## Carbon nanotube\n",
    "ASE also includes modules for creating special structures such as [carbon nanotubes](https://wiki.fysik.dtu.dk/ase/ase/build/build.html#nanotubes) and [nanoparticles](https://wiki.fysik.dtu.dk/ase/ase/cluster/cluster.html). Here we create a type $(6,0)$ nanotube. "
   ]
  },
  {
   "cell_type": "code",
   "execution_count": null,
   "metadata": {},
   "outputs": [],
   "source": [
    "cnt = build.nanotube(6, 0, length=1)\n",
    "\n",
    "plot_atoms(cnt)"
   ]
  },
  {
   "cell_type": "markdown",
   "metadata": {},
   "source": [
    "As we can see above, the current propagation direction is along the length of the nanotube. To rotate the nanotube we use the method [`.rotate()`](https://wiki.fysik.dtu.dk/ase/ase/atoms.html?highlight=atoms#ase.Atoms.rotate)."
   ]
  },
  {
   "cell_type": "code",
   "execution_count": null,
   "metadata": {},
   "outputs": [],
   "source": [
    "cnt.rotate(90, 'y', rotate_cell=True)\n",
    "\n",
    "cnt.center(vacuum=2, axis=(0,1))\n",
    "\n",
    "cnt = orthogonalize_atoms(cnt, 1, 1)\n",
    "\n",
    "plot_atoms(cnt)"
   ]
  },
  {
   "cell_type": "markdown",
   "metadata": {},
   "source": [
    "## Graphite, graphene and other 2D materials"
   ]
  },
  {
   "cell_type": "markdown",
   "metadata": {},
   "source": [
    "Graphite can be created with the `Graphite` class. "
   ]
  },
  {
   "cell_type": "code",
   "execution_count": null,
   "metadata": {},
   "outputs": [],
   "source": [
    "from ase.lattice.hexagonal import Graphite\n",
    "\n",
    "graphite = Graphite(symbol = 'C', latticeconstant = {'a' : 2.46, 'c' : 6.7})\n",
    "\n",
    "graphite = orthogonalize_atoms(graphite)\n",
    "\n",
    "fig, (ax1, ax2) = plt.subplots(1, 2, figsize=(9, 4))\n",
    "plot_atoms(graphite, scale_atoms=.5, ax=ax1)\n",
    "plot_atoms(graphite, scale_atoms=.5, ax=ax2, plane='xz')"
   ]
  },
  {
   "cell_type": "markdown",
   "metadata": {},
   "source": [
    "To make graphene we just have to extract one of the layer from the graphite. We use boolean indexing from the to select all atoms that has a position with a $z$-component greater than 1 Å."
   ]
  },
  {
   "cell_type": "code",
   "execution_count": null,
   "metadata": {},
   "outputs": [],
   "source": [
    "graphene = graphite[graphite.positions[:,2] > 1]\n",
    "\n",
    "graphene.center(vacuum=2, axis=2) # reduce amount of vacuum\n",
    "graphene.center()\n",
    "\n",
    "plot_atoms(graphene, scale_atoms=.5, numbering=True)"
   ]
  },
  {
   "cell_type": "markdown",
   "metadata": {},
   "source": [
    "We can create hexagonal boron nitride by changing the atomic numbers accordingly. To see which atoms to change, we set `numbering=True` when plotting the atoms above.  For materials such as MoS2 check out the [`mx2`](https://wiki.fysik.dtu.dk/ase/ase/build/surface.html?highlight=mx2#ase.build.mx2) module."
   ]
  },
  {
   "cell_type": "code",
   "execution_count": null,
   "metadata": {},
   "outputs": [],
   "source": [
    "hbn = graphene.copy()\n",
    "\n",
    "hbn.numbers[0] = 5\n",
    "hbn.numbers[3] = 5\n",
    "hbn.numbers[1] = 7\n",
    "hbn.numbers[2] = 7\n",
    "\n",
    "plot_atoms(hbn, scale_atoms=.5)"
   ]
  },
  {
   "cell_type": "markdown",
   "metadata": {},
   "source": [
    "## Interactive visualization and creation"
   ]
  },
  {
   "cell_type": "markdown",
   "metadata": {},
   "source": [
    "ASE includes a [graphical user interface](https://wiki.fysik.dtu.dk/ase/ase/gui/gui.html) that allows users to visualize, manipulate, and render molecular systems and atoms objects. It can be started using the `view` function, alternatively it can be started from the terminal using the command `ase-gui`."
   ]
  },
  {
   "cell_type": "code",
   "execution_count": null,
   "metadata": {},
   "outputs": [],
   "source": [
    "view(orthogonal_surf)"
   ]
  }
 ],
 "metadata": {
  "kernelspec": {
   "display_name": "abtem",
   "language": "python",
   "name": "abtem"
  },
  "language_info": {
   "codemirror_mode": {
    "name": "ipython",
    "version": 3
   },
   "file_extension": ".py",
   "mimetype": "text/x-python",
   "name": "python",
   "nbconvert_exporter": "python",
   "pygments_lexer": "ipython3",
   "version": "3.6.9"
  }
 },
 "nbformat": 4,
 "nbformat_minor": 2
}
