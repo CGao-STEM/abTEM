{
 "cells": [
  {
   "cell_type": "code",
   "execution_count": 2,
   "metadata": {},
   "outputs": [
    {
     "ename": "ImportError",
     "evalue": "cannot import name 'HasCache'",
     "output_type": "error",
     "traceback": [
      "\u001b[0;31m---------------------------------------------------------------------------\u001b[0m",
      "\u001b[0;31mImportError\u001b[0m                               Traceback (most recent call last)",
      "\u001b[0;32m<ipython-input-2-c052a1700400>\u001b[0m in \u001b[0;36m<module>\u001b[0;34m\u001b[0m\n\u001b[1;32m     10\u001b[0m \u001b[0;32mfrom\u001b[0m \u001b[0mabtem\u001b[0m\u001b[0;34m.\u001b[0m\u001b[0mpotentials\u001b[0m \u001b[0;32mimport\u001b[0m \u001b[0mPotential\u001b[0m\u001b[0;34m\u001b[0m\u001b[0;34m\u001b[0m\u001b[0m\n\u001b[1;32m     11\u001b[0m \u001b[0;32mfrom\u001b[0m \u001b[0mabtem\u001b[0m\u001b[0;34m.\u001b[0m\u001b[0mwaves\u001b[0m \u001b[0;32mimport\u001b[0m \u001b[0mPlaneWaves\u001b[0m\u001b[0;34m,\u001b[0m \u001b[0mProbeWaves\u001b[0m\u001b[0;34m\u001b[0m\u001b[0;34m\u001b[0m\u001b[0m\n\u001b[0;32m---> 12\u001b[0;31m \u001b[0;32mfrom\u001b[0m \u001b[0mabtem\u001b[0m\u001b[0;34m.\u001b[0m\u001b[0mdft\u001b[0m \u001b[0;32mimport\u001b[0m \u001b[0mGPAWPotential\u001b[0m\u001b[0;34m\u001b[0m\u001b[0;34m\u001b[0m\u001b[0m\n\u001b[0m\u001b[1;32m     13\u001b[0m \u001b[0;32mfrom\u001b[0m \u001b[0mabtem\u001b[0m\u001b[0;34m.\u001b[0m\u001b[0manalyse\u001b[0m \u001b[0;32mimport\u001b[0m \u001b[0mcenter_of_mass\u001b[0m\u001b[0;34m\u001b[0m\u001b[0;34m\u001b[0m\u001b[0m\n\u001b[1;32m     14\u001b[0m \u001b[0;34m\u001b[0m\u001b[0m\n",
      "\u001b[0;32m~/PycharmProjects/abTEM/abtem/dft.py\u001b[0m in \u001b[0;36m<module>\u001b[0;34m\u001b[0m\n\u001b[1;32m      3\u001b[0m \u001b[0;32mfrom\u001b[0m \u001b[0mscipy\u001b[0m\u001b[0;34m.\u001b[0m\u001b[0minterpolate\u001b[0m \u001b[0;32mimport\u001b[0m \u001b[0minterp1d\u001b[0m\u001b[0;34m\u001b[0m\u001b[0;34m\u001b[0m\u001b[0m\n\u001b[1;32m      4\u001b[0m \u001b[0;34m\u001b[0m\u001b[0m\n\u001b[0;32m----> 5\u001b[0;31m \u001b[0;32mfrom\u001b[0m \u001b[0mabtem\u001b[0m\u001b[0;34m.\u001b[0m\u001b[0mbases\u001b[0m \u001b[0;32mimport\u001b[0m \u001b[0mcached_method\u001b[0m\u001b[0;34m,\u001b[0m \u001b[0mHasCache\u001b[0m\u001b[0;34m\u001b[0m\u001b[0;34m\u001b[0m\u001b[0m\n\u001b[0m\u001b[1;32m      6\u001b[0m \u001b[0;32mfrom\u001b[0m \u001b[0mabtem\u001b[0m\u001b[0;34m.\u001b[0m\u001b[0mtransform\u001b[0m \u001b[0;32mimport\u001b[0m \u001b[0mmake_orthogonal_atoms\u001b[0m\u001b[0;34m,\u001b[0m \u001b[0mmake_orthogonal_array\u001b[0m\u001b[0;34m\u001b[0m\u001b[0;34m\u001b[0m\u001b[0m\n\u001b[1;32m      7\u001b[0m \u001b[0;32mfrom\u001b[0m \u001b[0mabtem\u001b[0m\u001b[0;34m.\u001b[0m\u001b[0mpotentials\u001b[0m \u001b[0;32mimport\u001b[0m \u001b[0mPotentialBase\u001b[0m\u001b[0;34m\u001b[0m\u001b[0;34m\u001b[0m\u001b[0m\n",
      "\u001b[0;31mImportError\u001b[0m: cannot import name 'HasCache'"
     ]
    }
   ],
   "source": [
    "%load_ext autoreload\n",
    "%autoreload 2\n",
    "\n",
    "import numpy as np\n",
    "\n",
    "from gpaw import GPAW, PW\n",
    "from gpaw.utilities.ps2ae import PS2AE\n",
    "from ase.io import read\n",
    "\n",
    "from abtem.potentials import Potential\n",
    "from abtem.waves import PlaneWaves, ProbeWaves\n",
    "from abtem.dft import GPAWPotential\n",
    "from abtem.analyse import center_of_mass\n",
    "\n",
    "import matplotlib.pyplot as plt\n",
    "from ase.visualize import view"
   ]
  },
  {
   "cell_type": "code",
   "execution_count": 1,
   "metadata": {},
   "outputs": [
    {
     "ename": "NameError",
     "evalue": "name 'potential_dft' is not defined",
     "output_type": "error",
     "traceback": [
      "\u001b[0;31m---------------------------------------------------------------------------\u001b[0m",
      "\u001b[0;31mNameError\u001b[0m                                 Traceback (most recent call last)",
      "\u001b[0;32m<ipython-input-1-0d8d64efe799>\u001b[0m in \u001b[0;36m<module>\u001b[0;34m\u001b[0m\n\u001b[0;32m----> 1\u001b[0;31m \u001b[0mdft_slice\u001b[0m \u001b[0;34m=\u001b[0m \u001b[0mpotential_dft\u001b[0m\u001b[0;34m.\u001b[0m\u001b[0marray\u001b[0m\u001b[0;34m.\u001b[0m\u001b[0msum\u001b[0m\u001b[0;34m(\u001b[0m\u001b[0;36m0\u001b[0m\u001b[0;34m)\u001b[0m\u001b[0;34m\u001b[0m\u001b[0;34m\u001b[0m\u001b[0m\n\u001b[0m\u001b[1;32m      2\u001b[0m \u001b[0mdft_slice\u001b[0m \u001b[0;34m-=\u001b[0m \u001b[0mdft_slice\u001b[0m\u001b[0;34m.\u001b[0m\u001b[0mmin\u001b[0m\u001b[0;34m(\u001b[0m\u001b[0;34m)\u001b[0m\u001b[0;34m\u001b[0m\u001b[0;34m\u001b[0m\u001b[0m\n\u001b[1;32m      3\u001b[0m \u001b[0miam_slice\u001b[0m \u001b[0;34m=\u001b[0m \u001b[0mpotential_iam\u001b[0m\u001b[0;34m.\u001b[0m\u001b[0marray\u001b[0m\u001b[0;34m.\u001b[0m\u001b[0msum\u001b[0m\u001b[0;34m(\u001b[0m\u001b[0;36m0\u001b[0m\u001b[0;34m)\u001b[0m\u001b[0;34m\u001b[0m\u001b[0;34m\u001b[0m\u001b[0m\n\u001b[1;32m      4\u001b[0m \u001b[0miam_slice\u001b[0m \u001b[0;34m-=\u001b[0m \u001b[0miam_slice\u001b[0m\u001b[0;34m.\u001b[0m\u001b[0mmin\u001b[0m\u001b[0;34m(\u001b[0m\u001b[0;34m)\u001b[0m\u001b[0;34m\u001b[0m\u001b[0;34m\u001b[0m\u001b[0m\n\u001b[1;32m      5\u001b[0m \u001b[0;34m\u001b[0m\u001b[0m\n",
      "\u001b[0;31mNameError\u001b[0m: name 'potential_dft' is not defined"
     ]
    }
   ],
   "source": [
    "dft_slice = potential_dft.array.sum(0)\n",
    "dft_slice -= dft_slice.min()\n",
    "iam_slice = potential_iam.array.sum(0)\n",
    "iam_slice -= iam_slice.min()\n",
    "\n",
    "fig,(ax1,ax2,ax3)=plt.subplots(1,3, figsize=(12,4))\n",
    "im1=ax1.imshow(dft_slice, cmap='gnuplot')\n",
    "fig.colorbar(im1, ax=ax1)\n",
    "im2=ax2.imshow(iam_slice, cmap='gnuplot')\n",
    "fig.colorbar(im2, ax=ax2)\n",
    "#im3=ax3.imshow((iam_slice - dft_slice) / (iam_slice + 1e-12), cmap='seismic', vmin=-.4, vmax=.4)\n",
    "im3=ax3.imshow((iam_slice - dft_slice), cmap='seismic')\n",
    "fig.colorbar(im3, ax=ax3)\n",
    "plt.tight_layout()"
   ]
  }
 ],
 "metadata": {
  "kernelspec": {
   "display_name": "abtem",
   "language": "python",
   "name": "abtem"
  },
  "language_info": {
   "codemirror_mode": {
    "name": "ipython",
    "version": 3
   },
   "file_extension": ".py",
   "mimetype": "text/x-python",
   "name": "python",
   "nbconvert_exporter": "python",
   "pygments_lexer": "ipython3",
   "version": "3.6.9"
  }
 },
 "nbformat": 4,
 "nbformat_minor": 2
}
