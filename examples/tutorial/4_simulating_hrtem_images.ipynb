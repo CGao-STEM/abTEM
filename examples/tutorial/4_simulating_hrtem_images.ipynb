{
 "cells": [
  {
   "cell_type": "markdown",
   "metadata": {},
   "source": [
    "# HRTEM simulations"
   ]
  },
  {
   "cell_type": "code",
   "execution_count": null,
   "metadata": {},
   "outputs": [],
   "source": [
    "from ase.cluster.cubic import FaceCenteredCubic\n",
    "import numpy as np\n",
    "import matplotlib.pyplot as plt\n",
    "\n",
    "from abtem.plot import plot_atoms, plot_ctf\n",
    "from abtem.potentials import Potential\n",
    "from abtem.waves import PlaneWaves\n",
    "from abtem.transfer import CTF\n",
    "from abtem.utils import scherzer_defocus\n",
    "from abtem.noise import add_poisson_noise\n",
    "from abtem.temperature import TDS"
   ]
  },
  {
   "cell_type": "markdown",
   "metadata": {},
   "source": [
    "In this lesson, you will learn how to simulate a HRTEM image of a nanoparticle. If you wish, you can chose another structure based on what you learned in lesson 1."
   ]
  },
  {
   "cell_type": "markdown",
   "metadata": {},
   "source": [
    "## Creating a nanoparticle\n",
    "ASE has modules for creating [nanoparticles](https://wiki.fysik.dtu.dk/ase/ase/cluster/cluster.html) with a given crystal structure by specifying either the number of layers in different directions, or by making a Wulff construction. Here we create a nanoparticle of gold in the FCC crystal structure, by specifying 6 layers in the (100) directions, 9 in the (110) directions and 5 in the (111) directions. The nanoparticle is first rotated into the (110) zone-axis, then it is rotated such that a (111) plane aligns with the $y$-axis. This is a commonly imaged direction for gold nanoparticles."
   ]
  },
  {
   "cell_type": "code",
   "execution_count": null,
   "metadata": {},
   "outputs": [],
   "source": [
    "surfaces = [(1, 0, 0), (1, 1, 0), (1, 1, 1)]\n",
    "layers = [4, 7, 3]\n",
    "atoms = FaceCenteredCubic('Au', surfaces, layers)\n",
    "atoms.rotate(np.pi / 4. / np.pi * 180, 'y')\n",
    "atoms.rotate(np.arctan(np.sqrt(2.)) / np.pi * 180, 'z')\n",
    "atoms.center(vacuum = 5)\n",
    "\n",
    "fig, (ax1, ax2) = plt.subplots(1, 2, figsize=(9, 4))\n",
    "plot_atoms(atoms, ax=ax1)\n",
    "plot_atoms(atoms, ax=ax2, plane='yz')"
   ]
  },
  {
   "cell_type": "markdown",
   "metadata": {},
   "source": [
    "## The Potential\n",
    "As discussed in lesson 2 the electrostatic potential have to be sliced for the multislice algorithm. There are two different levels of approximation available: The full 3d treatment where the potential is sliced, as if it was cut from the actual 3d potential. A less accurate treamtment where each atom is assigned to a slice, and the potential for the atoms in each slice is calculated as if it is infinitely thick.\n",
    "\n",
    "Below we create a potential using Lobato's parametrization. We also show a slice of the potential."
   ]
  },
  {
   "cell_type": "code",
   "execution_count": null,
   "metadata": {},
   "outputs": [],
   "source": [
    "slice_idx = 20\n",
    "\n",
    "potential = Potential(atoms, sampling=.05, parametrization='lobato', slice_thickness=.5)\n",
    "\n",
    "slice_array = potential.get_slice(slice_idx)\n",
    "\n",
    "fig, (ax1, ax2) = plt.subplots(1, 2, figsize=(14,6))\n",
    "ax1.imshow(slice_array.T, extent = [0, potential.extent[0], 0, potential.extent[1]], origin='lower')\n",
    "\n",
    "plot_atoms(atoms, ax=ax2, plane='xz')\n",
    "ax2.axhline(potential.slice_entrance(slice_idx), linestyle='--', color='k')\n",
    "ax2.axhline(potential.slice_exit(slice_idx), linestyle='--', color='k')"
   ]
  },
  {
   "cell_type": "markdown",
   "metadata": {},
   "source": [
    "## The planewave multislice algorithm\n",
    "When simulating HRTEM images it is almost always assumed that the incident wavefunction is a pure plane wave. The angular distribution is generally insignificant across the thickness of a thin specimen."
   ]
  },
  {
   "cell_type": "code",
   "execution_count": null,
   "metadata": {},
   "outputs": [],
   "source": [
    "waves = PlaneWaves(sampling = .05, energy = 300e3)\n",
    "\n",
    "waves = waves.multislice(potential)"
   ]
  },
  {
   "cell_type": "code",
   "execution_count": null,
   "metadata": {},
   "outputs": [],
   "source": [
    "image = waves.get_image(convert='intensity')\n",
    "\n",
    "plt.imshow(image.array.T, extent=[0, image.extent[0], 0, image.extent[1]], cmap='gray', origin='lower')\n",
    "plt.colorbar(label='intensity [arb. unit]')\n",
    "plt.xlabel('x [Å]')\n",
    "plt.ylabel('y [Å]');"
   ]
  },
  {
   "cell_type": "markdown",
   "metadata": {},
   "source": [
    "## Phase aberrations"
   ]
  },
  {
   "cell_type": "markdown",
   "metadata": {},
   "source": [
    "Ideally, a lens forms a spherical wave converging on or emerging from a single point. In practice aberrations cause the wave to deviate from a spherical surface. This deviation can be represented as a phase error, $\\chi(k, \\phi)$ of the spatial frequency in polar coordinates. The phase error can be written a series expansion\n",
    "\n",
    "$$ \n",
    "    \\chi(\\alpha, \\phi) = \\frac{2 \\pi}{\\lambda} \\sum_{n,m} \\frac{1}{n + 1} C_{n,m} (k \\lambda)^{n+1} \\cos\\left[m (\\phi - \\phi_{n,m}) \\right] \n",
    "$$\n",
    "\n",
    "If the microscope is well aligned then off-axis aberrations (astigmatisms) are small and the phase error is dominated by the first two isotropic terms\n",
    "\n",
    "$$\n",
    "    \\chi(k) \\approx \\frac{2\\pi}{\\lambda}\\left( \\frac{\\lambda^2 k^2}{2} \\Delta f + \\frac{\\lambda^4 k^4}{4} C_s \\right) \n",
    "$$\n",
    "\n",
    "where $\\Delta f = -C_{1,1}$ is the defocus and $C_s=C_{3,3}$ is the third order spherical aberration.\n",
    "\n",
    "The `CTF` object takes parameters of the form `Cnm` and `phinm`, and may also be given using their common alias e.g. `defocus = -C10`. Lastly, abTEM includes a utility for converting from the cartesian to polar expansion coefficients.\n",
    "\n",
    "We can use the function `plot_ctf` to preview the CTF along a radial.\n"
   ]
  },
  {
   "cell_type": "code",
   "execution_count": null,
   "metadata": {},
   "outputs": [],
   "source": [
    "Cs = 1e-4 * 1e10\n",
    "defocus = scherzer_defocus(Cs, energy=300e3)\n",
    "ctf = CTF(defocus=defocus, Cs = Cs, energy=300e3)\n",
    "\n",
    "plot_ctf(ctf, max_k=1.5)"
   ]
  },
  {
   "cell_type": "code",
   "execution_count": null,
   "metadata": {},
   "outputs": [],
   "source": [
    "new_waves = waves.apply_ctf(ctf)\n",
    "image = new_waves.get_image()\n",
    "\n",
    "plt.imshow(image.array.T, extent=[0, image.extent[0], 0, image.extent[1]], cmap='gray', origin='lower')\n",
    "plt.colorbar(label = 'intensity [arb. unit]')\n",
    "plt.xlabel('x [Å]')\n",
    "plt.ylabel('y [Å]');"
   ]
  },
  {
   "cell_type": "markdown",
   "metadata": {},
   "source": [
    "## Partial coherence\n",
    "The aperture function cuts off beams scattered above a certain critical angle, thus effectively limiting the attainable resolution. However it is the partial coherence envelope function $E(k)$ which usually dampens the signal of beams scattered at high angles, and imposes a maximum to the transmitted spatial frequency. In abTEM the envlope function is constructed as a product of three envelopes\n",
    "\n",
    "$$\n",
    "    E(k) = E_s(k) E_t(k) E_d(k)\n",
    "$$\n",
    "\n",
    "### Partial spatial coherence\n",
    "As the electron source has a finite size, the incident beam contains a distribution of incident directions. In HRTEM this is quantified by the angular spread. Assume that each incident direction performs its own experiment and that thedistribution of incident directions is small, then it can be shown that it can be modelled the spatial coherence envelope function, is given by\n",
    "\n",
    "$$\n",
    "    E_s(k) = \\exp\\left(-\\frac{\\beta}{4\\lambda^2}\\left| \\frac{\\partial \\chi(k)}{\\partial k}\\right|^2  \\right) .\n",
    "$$\n",
    "\n",
    "where $\\beta$ is the $1/e$ width of the distribution of angles. The parameter $\\beta$ is equivalent to the `angular_spread` property of the `CTF` object.\n",
    "\n",
    "### Partial temporal coherence\n",
    "A small spread in energy, $\\Delta E$, of the incident electrons is equivalent to a small spread in defocus, due to the chromatic aberration of the objective lens. Fluctuations in the focusing currents, $\\Delta I$, of the objective lens also produce an incoherent spread in defocus. Combining these effects, the $1/e$ width of the distribution of defocus values (the focal spread) can be written\n",
    "\n",
    "$$\n",
    "    \\delta = C_c \\sqrt{4 \\left(\\frac{\\Delta I_\\text{obj}}{I_\\text{obj}}\\right)^2 + \\left(\\frac{\\Delta E}{V_\\text{acc}}\\right)^2 + \\left(\\frac{\\Delta V_\\text{acc}}{V_\\text{acc}}\\right)^2}\n",
    "$$\n",
    "\n",
    "The terms $\\Delta I_\\text{obj}/I_\\text{obj}$ and $\\Delta V_\\text{acc}/V_\\text{acc}$ represent instabilities in of the total current in the magnetic lenses and the acceleration voltage. $\\Delta E/V_\\text{acc}$ is the energy spread of electrons emitted by the source. Assuming that $\\delta$ is small, it can be shown that focal spread can be approximated as\n",
    "\n",
    "$$\n",
    "    E_t(k) = \\exp\\left[-\\frac{1}{2} \\left(\\pi \\lambda \\delta \\right)^2 k^4 \\right] .\n",
    "$$\n",
    "\n",
    "The parameter $\\delta$ is equivalent to the `focal_spread` property of the `CTF` object.\n",
    "\n",
    "### Deflections and vibrations\n",
    "Blurring can also be caused by all kinds of noise leading to a random deflection of the image relative to the detector, such as vibrations, drift of the stage, and magnetic noise fields resulting from eddy currents in the material of the lenses. Assuming that the image deflection is small and follows a Gaussian distribution, this can be included as an additional envelope\n",
    "\n",
    "$$\n",
    "\tE_d(k) = \\exp\\left(- \\frac{\\sigma^2 k^2 \\lambda^2}{2}\\right) ,\n",
    "$$\n",
    "\n",
    "where $\\sigma$ is the $1/e$ width of the deflection. The parameter $\\sigma$ is equivalent to the `blur` property of the `CTF` object.\n",
    "\n",
    "Below we create a `CTF` object with all the sources of partial coeherence. In practice it is difficult to know the instrument well enough to estimate the parameters influencing partial coherence, however it is usually dominated by partial temporal coherence."
   ]
  },
  {
   "cell_type": "code",
   "execution_count": null,
   "metadata": {},
   "outputs": [],
   "source": [
    "Cs = 2e6\n",
    "defocus = scherzer_defocus(Cs, energy=300e3)\n",
    "ctf = CTF(defocus=defocus, Cs=Cs, energy=300e3)\n",
    "\n",
    "ctf.focal_spread = 60\n",
    "ctf.angular_spread = .2e-3\n",
    "ctf.blur = 2\n",
    "ctf.cutoff = .015\n",
    "\n",
    "plot_ctf(ctf, max_k=2)"
   ]
  },
  {
   "cell_type": "code",
   "execution_count": null,
   "metadata": {},
   "outputs": [],
   "source": [
    "new_waves = waves.apply_ctf(ctf)\n",
    "image = new_waves.get_image()\n",
    "\n",
    "plt.imshow(image.array.T, extent=[0, image.extent[0], 0, image.extent[1]], cmap='gray', origin='lower')\n",
    "plt.colorbar(label = 'intensity [arb. unit]')\n",
    "plt.xlabel('x [Å]')\n",
    "plt.ylabel('y [Å]');"
   ]
  },
  {
   "cell_type": "markdown",
   "metadata": {},
   "source": [
    "Usually defocus is not know very well, hence frequently a defocus series is calculated for comparison to experiment."
   ]
  },
  {
   "cell_type": "code",
   "execution_count": null,
   "metadata": {},
   "outputs": [],
   "source": [
    "fig, axes = plt.subplots(1,5,figsize=(13,4))\n",
    "\n",
    "for i in range(5):\n",
    "    new_waves = waves.apply_ctf(defocus=i*40, Cs=1e4, focal_spread=60)\n",
    "    image = new_waves.get_image()\n",
    "    axes[i].imshow(image.array.T, extent=[0, image.extent[0], 0, image.extent[1]], vmin=.5, vmax=1.5, \n",
    "                   cmap='gray', origin='lower')\n",
    "    axes[i].axis('off')\n",
    "\n",
    "plt.tight_layout()"
   ]
  },
  {
   "cell_type": "markdown",
   "metadata": {},
   "source": [
    "## Dose\n",
    "For certain applications, such as benchmarking of analysis methods it is useful to add a realistic level of noise. We assume that the noise is dominated by shot noise, and hence the measured electron count in each pixel can be modelled by a Poisson distribution."
   ]
  },
  {
   "cell_type": "code",
   "execution_count": null,
   "metadata": {},
   "outputs": [],
   "source": [
    "noisy_image = add_poisson_noise(image, dose=1e3)\n",
    "\n",
    "plt.imshow(noisy_image.array.T, extent=[0, image.extent[0], 0, image.extent[1]], cmap='gray', origin='lower')\n",
    "plt.colorbar(label = 'intensity [arb. unit]')\n",
    "plt.xlabel('x [Å]')\n",
    "plt.ylabel('y [Å]');"
   ]
  },
  {
   "cell_type": "markdown",
   "metadata": {},
   "source": [
    "## Frozen phonons\n",
    "The effect of finite temperature is included using the frozen phonon approximation. This is a semi-classical model based on the assumption that a single high-energy electron passing through the specimen at about half the speed of light can only probe a single frozen “snapshot” of the vibrating crystal. The image is produced by averaging incoherently over many snapshots where the atoms are slightly displaced from their equilibrium positions. The frozen phonon model has been shown to be numerically equivalent to the full quantum-mechanical treatment of the inelastic phonon scattering process. The snapshots are typically determined using the Einstein approximation.\n",
    "\n",
    "The `TDS` object can be used to generate displaced atomic configurations in the Einstein approximation. The incoherent summation is currently a bit of a DIY situation as demonstrated below."
   ]
  },
  {
   "cell_type": "code",
   "execution_count": null,
   "metadata": {},
   "outputs": [],
   "source": [
    "from tqdm.auto import tqdm\n",
    "\n",
    "tds = TDS(atoms, {'Au':.5}, n=30)\n",
    "\n",
    "try:\n",
    "    del tds_image\n",
    "except NameError:\n",
    "    pass\n",
    "\n",
    "for displaced in tqdm(tds.generate(), total=tds.n):\n",
    "    waves = PlaneWaves(sampling = .05, energy = 300e3)\n",
    "    waves = waves.multislice(displaced, show_progress=False)\n",
    "    \n",
    "    new_waves = waves.apply_ctf(defocus=120, Cs=1e4, focal_spread=60)\n",
    "    new_image = new_waves.get_image()\n",
    "    \n",
    "    try:\n",
    "        tds_image.array[:] += new_waves.get_image().array\n",
    "    \n",
    "    except NameError:\n",
    "        tds_image = new_waves.get_image()\n",
    "\n",
    "tds_image.array[:] = tds_image.array[:] / tds.n"
   ]
  },
  {
   "cell_type": "code",
   "execution_count": null,
   "metadata": {},
   "outputs": [],
   "source": [
    "plt.imshow(tds_image.array.T, extent=[0, tds_image.extent[0], 0, tds_image.extent[1]], cmap='gray', origin='lower')\n",
    "plt.xlabel('x [Å]')\n",
    "plt.ylabel('y [Å]');"
   ]
  }
 ],
 "metadata": {
  "kernelspec": {
   "display_name": "abtem",
   "language": "python",
   "name": "abtem"
  },
  "language_info": {
   "codemirror_mode": {
    "name": "ipython",
    "version": 3
   },
   "file_extension": ".py",
   "mimetype": "text/x-python",
   "name": "python",
   "nbconvert_exporter": "python",
   "pygments_lexer": "ipython3",
   "version": "3.6.9"
  }
 },
 "nbformat": 4,
 "nbformat_minor": 2
}
