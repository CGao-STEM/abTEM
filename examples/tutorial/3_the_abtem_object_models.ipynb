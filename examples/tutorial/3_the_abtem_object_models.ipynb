{
 "cells": [
  {
   "cell_type": "markdown",
   "metadata": {},
   "source": [
    "# abTEM conventions, definitions and concepts"
   ]
  },
  {
   "cell_type": "code",
   "execution_count": 1,
   "metadata": {},
   "outputs": [],
   "source": [
    "from abtem.waves import ProbeWaves\n",
    "from abtem.transfer import CTF\n",
    "import numpy as np\n",
    "import matplotlib.pyplot as plt"
   ]
  },
  {
   "cell_type": "markdown",
   "metadata": {},
   "source": [
    "## Simulation objects\n",
    "\n",
    "abTEM is an object-oriented modular simulation package, each part of the imaging process is expressed as an independent class. The core objects you will get acquaited with in this tutorial are listed below:\n",
    "\n",
    "* Waves\n",
    "    * `PlaneWaves`\n",
    "    * `ProbeWaves`\n",
    "    * `PrismWaves`\n",
    "    * `Waves`\n",
    "    * `ScatteringMatrix`\n",
    "   \n",
    "* Potentials\n",
    "    * `Potential`\n",
    "    * `PrecalculatedPotential`\n",
    "    * `GPAWPotential`\n",
    "\n",
    "* Transfer functions\n",
    "    * `CTF`\n",
    "\n",
    "* Detectors\n",
    "    * `RingDetector`\n",
    "    * `FourierSpaceDetector`\n",
    "\n",
    "* Scans\n",
    "    * `GridScan`\n",
    "    * `LineScan`\n",
    "\n",
    "In abTEM the mode of simulation is not chosen directly, rather simulations are performed by choosing the appropriate objects. A HRTEM simulation requires a `PlaneWaves`, `Potential` and `CTF` object. A STEM simulation requires a `ProbeWaves`, `Potential`, `GridScan` and a `RingDetector` object.\n",
    "\n",
    "### Inheritance\n",
    "This can seem an overwhelming number of classes to learn. Fortunately, they share many of the same parent classes, for example both the `CTF` and the `ProbeWaves` objects are descendents of the `Grid` and `CTFBase` object, hence they share many of the same properties."
   ]
  },
  {
   "cell_type": "code",
   "execution_count": 2,
   "metadata": {},
   "outputs": [
    {
     "name": "stdout",
     "output_type": "stream",
     "text": [
      "probe: \t [100 100] 0.025079340317328468 0.0 inf\n",
      "ctf: \t [100 100] 0.025079340317328468 0.0 inf\n"
     ]
    }
   ],
   "source": [
    "probe = ProbeWaves(extent = 10, sampling = .1, energy = 80000, defocus = 100)\n",
    "ctf = CTF(extent = 10, sampling = .1, energy = 200e3, defocus = 100)\n",
    "\n",
    "print('probe: \\t', probe.gpts, probe.wavelength, probe.Cs, probe.cutoff)\n",
    "print('ctf: \\t',   probe.gpts, probe.wavelength, ctf.Cs, probe.cutoff)"
   ]
  },
  {
   "cell_type": "markdown",
   "metadata": {},
   "source": [
    "## Units and conventions\n",
    "abTEM uses the same units and conventions as ASE and GPAW. Units are defined in the `ase.units` module. Electron volts (eV), Ångström (Ang), and atomic mass units are defined as 1.0. The electrostatic potential is given in eV / e.\n",
    "\n",
    "The incident wave function is normalized to have an average intensity over all pixels of unity.\n",
    "\n",
    "Following ASE, the axes conventions for an array representing an image assigns the first array axis to the $x$-axis (horizontal axis), the second array axis is the $y$-axis (vertical axis) and so forth. The (0,0) index of a 2d array is assumed to correspond to the $xy$-coordinate (0,0). This is the opposite many image analysis programs such as ImageJ. The preferred way of showing an image is illustrated in pixel and real space coordinates is given below."
   ]
  },
  {
   "cell_type": "code",
   "execution_count": 11,
   "metadata": {},
   "outputs": [
    {
     "data": {
      "image/png": "[encoded data removed]",
      "text/plain": [
       "<Figure size 576x288 with 2 Axes>"
      ]
     },
     "metadata": {
      "needs_background": "light"
     },
     "output_type": "display_data"
    }
   ],
   "source": [
    "probe = ProbeWaves(extent = 10, sampling = .1, energy = 200e3, cutoff=.03)\n",
    "\n",
    "waves = probe.build_at([(1,1)]) # build probe at (1,1)\n",
    "\n",
    "fig, (ax1, ax2) = plt.subplots(1,2,figsize=(8,4))\n",
    "ax1.imshow(waves.get_image().array.T)\n",
    "ax1.set_xlabel('x [pixels]')\n",
    "ax1.set_ylabel('y [pixels]')\n",
    "\n",
    "ax2.imshow(waves.get_image().array.T, extent=[0, waves.extent[0], 0, waves.extent[1]], origin='lower')\n",
    "ax2.set_xlabel('x [Å]')\n",
    "ax2.set_ylabel('y [Å]')\n",
    "\n",
    "plt.tight_layout()"
   ]
  }
 ],
 "metadata": {
  "kernelspec": {
   "display_name": "abtem",
   "language": "python",
   "name": "abtem"
  },
  "language_info": {
   "codemirror_mode": {
    "name": "ipython",
    "version": 3
   },
   "file_extension": ".py",
   "mimetype": "text/x-python",
   "name": "python",
   "nbconvert_exporter": "python",
   "pygments_lexer": "ipython3",
   "version": "3.6.9"
  }
 },
 "nbformat": 4,
 "nbformat_minor": 2
}
