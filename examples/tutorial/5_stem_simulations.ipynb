{
 "cells": [
  {
   "cell_type": "markdown",
   "metadata": {},
   "source": [
    "# STEM simulations"
   ]
  },
  {
   "cell_type": "code",
   "execution_count": null,
   "metadata": {},
   "outputs": [],
   "source": [
    "from ase.build import mx2\n",
    "import matplotlib.pyplot as plt\n",
    "import numpy as np\n",
    "\n",
    "from abtem.plot import plot_atoms, plot_ctf, domain_coloring\n",
    "from abtem.transform import orthogonalize_atoms\n",
    "from abtem.waves import ProbeWaves\n",
    "from abtem.detect import RingDetector, FourierSpaceDetector\n",
    "from abtem.potentials import Potential\n",
    "from abtem.analyse import fwhm, center_of_mass\n",
    "from abtem.noise import add_scan_noise, add_poisson_noise"
   ]
  },
  {
   "cell_type": "markdown",
   "metadata": {},
   "source": [
    "In this lesson, you will learn how to simulate a STEM image of MoS2. If you wish, you can chose another structure based on what you learned in lesson 1."
   ]
  },
  {
   "cell_type": "markdown",
   "metadata": {},
   "source": [
    "## Creating MoS2\n",
    "ASE has a module for creating MX2 2D structures such as MoS2. As described in lesson 1, we orthogonalize the structure and repeat it to accomodate the size of the electron probe. For illustrative purposes we add a scan area over an orthognal unit cell to the plot of the atoms."
   ]
  },
  {
   "cell_type": "code",
   "execution_count": null,
   "metadata": {},
   "outputs": [],
   "source": [
    "from ase.lattice.hexagonal import Graphite\n",
    "\n",
    "atoms = mx2(formula='MoS2', kind='2H', a=3.18, thickness=3.19)\n",
    "atoms.center(vacuum=2, axis=2) # reduce amount of vacuum\n",
    "atoms = orthogonalize_atoms(atoms)\n",
    "\n",
    "unit_cell = atoms.cell.copy()\n",
    "\n",
    "atoms *= (5, 3, 1)\n",
    "\n",
    "scan_area = [(0, 0), np.diag(unit_cell)[:2]]\n",
    "\n",
    "fig,(ax1,ax2)=plt.subplots(1,2)\n",
    "plot_atoms(atoms, ax=ax1, scan_area=scan_area)\n",
    "plot_atoms(atoms, ax=ax2, plane='xz')\n",
    "plt.tight_layout()"
   ]
  },
  {
   "cell_type": "markdown",
   "metadata": {},
   "source": [
    "An easy way to speed up a STEM image simulation is to precalculate the potential, this means that it does not have to be recalculated for each probe position. The only consideration is whether the entire potential can fit into memory."
   ]
  },
  {
   "cell_type": "code",
   "execution_count": null,
   "metadata": {},
   "outputs": [],
   "source": [
    "potential = Potential(atoms, sampling=.05).precalculate()"
   ]
  },
  {
   "cell_type": "markdown",
   "metadata": {},
   "source": [
    "## The electron probe\n",
    "The order of the optical components of the STEM is reversed from that of the HRTEM. The objective lens is before the specimen and forms a focused probe on the specimen. Nonetheless, some of the theory is the same, in fact the `ProbeWaves` object is a descendent of the `CTFBase`, which also defined most of the functionality of the `CTF` object."
   ]
  },
  {
   "cell_type": "code",
   "execution_count": null,
   "metadata": {},
   "outputs": [],
   "source": [
    "probe = ProbeWaves(sampling=.05, \n",
    "                   cutoff=.032, \n",
    "                   rolloff=.1, \n",
    "                   focal_spread=50,\n",
    "                   energy=60e3, \n",
    "                   Cs=-15e4,\n",
    "                   extent=np.diag(atoms.cell)[:2],\n",
    "                   defocus=10) \n",
    "\n",
    "image = probe.get_image()\n",
    "profile = image.get_profile()\n",
    "\n",
    "print(fwhm(profile))\n",
    "\n",
    "fig, (ax1, ax2) = plt.subplots(1, 2, figsize=(8,4))\n",
    "ax1.imshow(image.array.T, extent=[0,image.extent[0],0,image.extent[1]])\n",
    "ax1.set_xlabel('x [Å]')\n",
    "ax1.set_ylabel('y [Å]')\n",
    "ax2.plot(profile.linspace()[0], profile.array)\n",
    "ax2.set_xlabel('x [Å]')\n",
    "ax2.set_ylabel('intensity [arb. unit]')\n",
    "plt.tight_layout()"
   ]
  },
  {
   "cell_type": "markdown",
   "metadata": {},
   "source": [
    "The `ProbeWaves` object is a descendent of the `CTFBase`, hence we can also use the `plot_ctf` on `ProbeWaves`."
   ]
  },
  {
   "cell_type": "code",
   "execution_count": null,
   "metadata": {},
   "outputs": [],
   "source": [
    "plot_ctf(probe, 2)"
   ]
  },
  {
   "cell_type": "markdown",
   "metadata": {},
   "source": [
    "## Detectors\n",
    "The `RingDetector` object can be used for simulating the standard modes of STEM, i.e. bright field, MAADF and HAADF measurements. The only difference between these are the inner and outer radial integration limits, below we create a detector representing each mode and plot the respective detector efficiency.\n",
    "\n",
    "The `FourierSpaceDetector` can used for doing 4D STEM. Using this detector it is possible to define any integration, hence the only downside to using this is that a full 4D dataset can take up a lot of memory. The `FourierSpaceDetector`object can also be used for simulating Ptychography datasets."
   ]
  },
  {
   "cell_type": "code",
   "execution_count": null,
   "metadata": {},
   "outputs": [],
   "source": [
    "bright = RingDetector(inner=.0, outer=.05, extent=probe.extent, gpts=probe.gpts, energy=probe.energy)\n",
    "maadf = RingDetector(inner=.05, outer=.086, extent=probe.extent, gpts=probe.gpts, energy=probe.energy)\n",
    "haadf = RingDetector(inner=.086, outer=.19, extent=probe.extent, gpts=probe.gpts, energy=probe.energy)\n",
    "full_field = FourierSpaceDetector()\n",
    "\n",
    "bright_efficiency = bright.get_efficiency()\n",
    "maadf_efficiency = maadf.get_efficiency()\n",
    "haadf_efficiency = haadf.get_efficiency()\n",
    "\n",
    "fig, (ax1, ax2, ax3) = plt.subplots(1,3,figsize=(12,4))\n",
    "\n",
    "ax1.imshow(np.fft.fftshift(bright_efficiency.array), extent=bright_efficiency.fourier_limits.ravel() * \n",
    "           bright_efficiency.wavelength * 1e3)\n",
    "ax1.set_title('Bright field')\n",
    "\n",
    "ax2.imshow(np.fft.fftshift(maadf_efficiency.array), extent=maadf_efficiency.fourier_limits.ravel() * \n",
    "           maadf_efficiency.wavelength * 1e3)\n",
    "ax2.set_title('MAADF')\n",
    "\n",
    "ax3.imshow(np.fft.fftshift(haadf_efficiency.array), extent=haadf_efficiency.fourier_limits.ravel() * \n",
    "           haadf_efficiency.wavelength * 1e3)\n",
    "ax3.set_title('HAADF')\n",
    "\n",
    "for ax in (ax1,ax2,ax3):\n",
    "    ax.set_xlabel('alpha_x [mrad]')\n",
    "    ax.set_ylabel('alpha_y [mrad]')\n",
    "\n",
    "plt.tight_layout()"
   ]
  },
  {
   "cell_type": "markdown",
   "metadata": {},
   "source": [
    "## Scanning\n",
    "In STEM the image is built up by scanning the focused probe over the specimen and recording the transmitted intensity at each position of the probe. Simulating a large image can be expensive since each pixel requires a full multislice calculation. \n",
    "\n",
    "It is possible to achieve a decent speedup by using batching. This trades memory for speed by propagating a batch of probes at the same time, allowing more efficient use of threads. The maximum batch size can be specified with the `max_batch` argument."
   ]
  },
  {
   "cell_type": "code",
   "execution_count": null,
   "metadata": {},
   "outputs": [],
   "source": [
    "detectors = [bright, maadf, haadf, full_field]\n",
    "\n",
    "linescan = probe.line_scan(potential, \n",
    "                           detectors=detectors,\n",
    "                           start=[atoms[0].position[0], 0], \n",
    "                           end=[atoms[0].position[0], unit_cell[1,1]], \n",
    "                           sampling=.1, \n",
    "                           max_batch=200)"
   ]
  },
  {
   "cell_type": "code",
   "execution_count": null,
   "metadata": {},
   "outputs": [],
   "source": [
    "fig,(ax1,ax2,ax3) = plt.subplots(1,3,figsize=(12,4))\n",
    "\n",
    "ax1.plot(linescan.get_positions()[:,1], linescan.measurements[bright])\n",
    "ax1.set_title('Bright field')\n",
    "\n",
    "ax2.plot(linescan.get_positions()[:,1], linescan.measurements[maadf])\n",
    "ax2.set_title('MAADF')\n",
    "\n",
    "ax3.plot(linescan.get_positions()[:,1], linescan.measurements[haadf])\n",
    "ax3.set_title('HAADF')\n",
    "\n",
    "plt.tight_layout()"
   ]
  },
  {
   "cell_type": "code",
   "execution_count": null,
   "metadata": {},
   "outputs": [],
   "source": [
    "gridscan = probe.grid_scan(potential, \n",
    "                           detectors=detectors, \n",
    "                           start=[0,0], \n",
    "                           end=scan_area[1], \n",
    "                           sampling=.2, \n",
    "                           max_batch=200)"
   ]
  },
  {
   "cell_type": "code",
   "execution_count": null,
   "metadata": {},
   "outputs": [],
   "source": [
    "bright_image = gridscan.get_image(bright)\n",
    "maadf_image = gridscan.get_image(maadf)\n",
    "haadf_image = gridscan.get_image(haadf)\n",
    "\n",
    "bright_image = bright_image.repeat((3,2))\n",
    "maadf_image = maadf_image.repeat((3,2))\n",
    "haadf_image = haadf_image.repeat((3,2))\n",
    "\n",
    "fig,(ax1,ax2,ax3) = plt.subplots(1,3,figsize=(12,4))\n",
    "\n",
    "ax1.imshow(bright_image.array.T, extent=[0, bright_image.extent[0], 0, bright_image.extent[1]], cmap='gray')\n",
    "ax1.set_title('Bright field')\n",
    "\n",
    "ax2.imshow(maadf_image.array.T, extent=[0, maadf_image.extent[0], 0, maadf_image.extent[1]], cmap='gray')\n",
    "ax2.set_title('MAADF')\n",
    "\n",
    "ax3.imshow(haadf_image.array.T, extent=[0, haadf_image.extent[0], 0, haadf_image.extent[1]], cmap='gray')\n",
    "ax3.set_title('HAADF');"
   ]
  },
  {
   "cell_type": "markdown",
   "metadata": {},
   "source": [
    "The last \"scan\" we will look at is the `CustomScan` object. With this scan it is possible to define a few specific probe positions, this might be useful for determining the intensity ratio between two atomic columns."
   ]
  },
  {
   "cell_type": "code",
   "execution_count": null,
   "metadata": {},
   "outputs": [],
   "source": [
    "atom1 = atoms[0]\n",
    "atom2 = atoms[1]\n",
    "\n",
    "print(atom1, '\\n', atom2)\n",
    "\n",
    "custom_scan = probe.custom_scan(potential, detectors=detectors, \n",
    "                  positions=[atom1.position[:2], atom2.position[:2]], show_progress=False)"
   ]
  },
  {
   "cell_type": "markdown",
   "metadata": {},
   "source": [
    "Calculating the ratio between the intensity of the Mo column and the S2 column, we see that the bright field contrast is quite low and the HAADF contrast is larger than MAADF contrast."
   ]
  },
  {
   "cell_type": "code",
   "execution_count": null,
   "metadata": {},
   "outputs": [],
   "source": [
    "bright_ratio = custom_scan.measurements[bright][0] / custom_scan.measurements[bright][1]\n",
    "\n",
    "maadf_ratio = custom_scan.measurements[maadf][0] / custom_scan.measurements[maadf][1]\n",
    "\n",
    "haadf_ratio = custom_scan.measurements[haadf][0] / custom_scan.measurements[haadf][1]\n",
    "\n",
    "print('Bright field ratio: \\t', bright_ratio)\n",
    "print('MAADF ratio: \\t\\t', maadf_ratio)\n",
    "print('HAADF ratio: \\t\\t', haadf_ratio)"
   ]
  },
  {
   "cell_type": "markdown",
   "metadata": {},
   "source": [
    "## Scan noise\n",
    "As for HRTEM images, adding noise may be useful for method development. abTEM's model of scan noise is created by Lewys Jones, see ."
   ]
  },
  {
   "cell_type": "code",
   "execution_count": null,
   "metadata": {},
   "outputs": [],
   "source": [
    "flyback_time = 361e-6  # Flyback time [s]\n",
    "dwell_time = 8e-6      # Dwell time [s]\n",
    "max_frequency = 50     # [Hz]\n",
    "target_RMS_power = 70  # In percentage of magnification deviation"
   ]
  },
  {
   "cell_type": "code",
   "execution_count": null,
   "metadata": {},
   "outputs": [],
   "source": [
    "scan_noisy_image = add_scan_noise(haadf_image, flyback_time, dwell_time, max_frequency, target_RMS_power)\n",
    "noisy_image = add_poisson_noise(scan_noisy_image, background=1, dose=1e3)\n",
    "\n",
    "print('actual dose: {:.2f} e-/Å^2'.format(np.mean(noisy_image.array) / np.prod(noisy_image.sampling)))"
   ]
  },
  {
   "cell_type": "code",
   "execution_count": null,
   "metadata": {},
   "outputs": [],
   "source": [
    "fig, (ax1,ax2) = plt.subplots(1,2)\n",
    "ax1.imshow(scan_noisy_image.array.T, extent=[0, noisy_image.extent[0], 0, noisy_image.extent[1]], cmap='gray')\n",
    "ax2.imshow(noisy_image.array.T, extent=[0, noisy_image.extent[0], 0, noisy_image.extent[1]], cmap='gray')"
   ]
  }
 ],
 "metadata": {
  "kernelspec": {
   "display_name": "abtem",
   "language": "python",
   "name": "abtem"
  },
  "language_info": {
   "codemirror_mode": {
    "name": "ipython",
    "version": 3
   },
   "file_extension": ".py",
   "mimetype": "text/x-python",
   "name": "python",
   "nbconvert_exporter": "python",
   "pygments_lexer": "ipython3",
   "version": "3.6.9"
  }
 },
 "nbformat": 4,
 "nbformat_minor": 2
}
