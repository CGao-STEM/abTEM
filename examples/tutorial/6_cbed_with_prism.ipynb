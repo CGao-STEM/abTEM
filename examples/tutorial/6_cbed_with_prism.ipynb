{
 "cells": [
  {
   "cell_type": "markdown",
   "metadata": {},
   "source": [
    "# CBED with the PRISM algorithm"
   ]
  },
  {
   "cell_type": "code",
   "execution_count": null,
   "metadata": {},
   "outputs": [],
   "source": [
    "from ase.io import read\n",
    "from ase.build import mx2\n",
    "import matplotlib.pyplot as plt\n",
    "import numpy as np\n",
    "\n",
    "from abtem.plot import plot_atoms, plot_ctf\n",
    "from abtem.waves import PrismWaves\n",
    "from abtem.detect import RingDetector, FourierSpaceDetector\n",
    "from abtem.potentials import Potential\n",
    "from abtem.analyse import fwhm"
   ]
  },
  {
   "cell_type": "markdown",
   "metadata": {},
   "source": [
    "Multslice STEM simulations can be quite slow, because the scattering of each new STEM probe is recomputed from scratch. An alternative is to use the multislice method to compute a scattering matrix, which is then used to construct each STEM probe. This algorithm often requires roughly the same computational time as the mutlislice method, but also allows for huge speed-ups by using Fourier interpolation of the scattering matrix. The algorithm called plane-wave recriprocal-space interpolated scattering matrix (PRISM) was created by Colin Ophus and Allan Pryor."
   ]
  },
  {
   "cell_type": "markdown",
   "metadata": {},
   "source": [
    "## Creating a SrTiO wedge\n",
    "We import the Strontium Titanate crystal and repeat it as shown in lesson 1. Then we delete the upper left half of the crystal to leave behind a wedge."
   ]
  },
  {
   "cell_type": "code",
   "execution_count": null,
   "metadata": {},
   "outputs": [],
   "source": [
    "atoms = read('data/SrTiO.cif') # read atomic structure file\n",
    "unit_cell = atoms.cell.copy()\n",
    "atoms *= (10,10,12)\n",
    "del atoms[atoms.positions[:,0] + 5 < atoms.positions[:,2]]\n",
    "\n",
    "atoms.center(axis=2, vacuum=2)\n",
    "\n",
    "fig,(ax1,ax2)=plt.subplots(1,2)\n",
    "plot_atoms(atoms, ax=ax1)\n",
    "plot_atoms(atoms, ax=ax2, plane='xz')\n",
    "plt.tight_layout()"
   ]
  },
  {
   "cell_type": "code",
   "execution_count": null,
   "metadata": {},
   "outputs": [],
   "source": [
    "potential = Potential(atoms, sampling=.1, slice_thickness=1).precalculate(show_progress=False)"
   ]
  },
  {
   "cell_type": "markdown",
   "metadata": {},
   "source": [
    "## Simulating the scattering matrix\n",
    "The `PrismWaves` object is used to create the scattering matrix `S`. The scattering matrix is simply a Fourier expansion of the electron probe. In abTEM, the scattering matrix is a 3d matrix, where the first axis runs over plane waves of different wave vectors $(k_x, k_y)$ and the last two axes are the real space dimensions of the probe."
   ]
  },
  {
   "cell_type": "code",
   "execution_count": null,
   "metadata": {},
   "outputs": [],
   "source": [
    "S = PrismWaves(energy=100e3, cutoff=.007, interpolation=1, sampling=.1).multislice(potential)"
   ]
  },
  {
   "cell_type": "markdown",
   "metadata": {},
   "source": [
    "Below we plot slices of scattering matrix representing different plane waves of the plane wave expansion."
   ]
  },
  {
   "cell_type": "code",
   "execution_count": null,
   "metadata": {},
   "outputs": [],
   "source": [
    "print('Scattering matrix shape:', S.array.shape)\n",
    "\n",
    "fig,(ax1,ax2,ax3) = plt.subplots(1,3,figsize=(12,4))\n",
    "ax1.imshow(S.array[0].real.T, extent=[0, S.extent[0], 0, S.extent[1]], cmap='rainbow')\n",
    "ax2.imshow(S.array[len(S.array) // 4].real.T, extent=[0, S.extent[0], 0, S.extent[1]], cmap='rainbow')\n",
    "ax3.imshow(S.array[len(S.array) // 2].real.T, extent=[0, S.extent[0], 0, S.extent[1]], cmap='rainbow');"
   ]
  },
  {
   "cell_type": "markdown",
   "metadata": {},
   "source": [
    "To obtain the probe, we just do a coherent sum along the first axis of the scattering matrix."
   ]
  },
  {
   "cell_type": "code",
   "execution_count": null,
   "metadata": {},
   "outputs": [],
   "source": [
    "probe_array = S.array.sum(0)\n",
    "\n",
    "plt.imshow(np.abs(np.fft.fftshift(probe_array))**2, extent=[0,S.extent[0],0,S.extent[1]])\n",
    "plt.xlabel('x [Å]')\n",
    "plt.ylabel('y [Å]');"
   ]
  },
  {
   "cell_type": "markdown",
   "metadata": {},
   "source": [
    "Once the scattering matrix is calculated once, it is not necessary to recalculate it in order to change the CTF. "
   ]
  },
  {
   "cell_type": "code",
   "execution_count": null,
   "metadata": {},
   "outputs": [],
   "source": [
    "S.cutoff = .007\n",
    "S.rolloff = .2\n",
    "S.defocus = 50\n",
    "S.Cs = -1e7"
   ]
  },
  {
   "cell_type": "markdown",
   "metadata": {},
   "source": [
    "The `ScatteringMatrix` object inherits from the `CTFBase`, hence we can plot its CTF as we did in previous lessons."
   ]
  },
  {
   "cell_type": "code",
   "execution_count": null,
   "metadata": {},
   "outputs": [],
   "source": [
    "plot_ctf(S, max_k=.5)"
   ]
  },
  {
   "cell_type": "markdown",
   "metadata": {},
   "source": [
    "## Scanning\n",
    "The scattering matrix can be scanned using essentially the same methods as the `ProbeWaves` object. The only difference is that a potential does not have to be supplied."
   ]
  },
  {
   "cell_type": "code",
   "execution_count": null,
   "metadata": {},
   "outputs": [],
   "source": [
    "detectors = [RingDetector(inner=.086, outer=.19), FourierSpaceDetector()]\n",
    "scan = S.linescan(detectors=detectors, start=(0,0), end=(atoms.cell[0,0], 0), sampling=0.5, max_batch=5,)"
   ]
  },
  {
   "cell_type": "markdown",
   "metadata": {},
   "source": [
    "We plot the HAADF signal along the line scan."
   ]
  },
  {
   "cell_type": "code",
   "execution_count": null,
   "metadata": {},
   "outputs": [],
   "source": [
    "plt.plot(scan.get_positions()[:,0], scan.measurements[haadf])\n",
    "plt.xlabel('x [Å]')"
   ]
  },
  {
   "cell_type": "markdown",
   "metadata": {},
   "source": [
    "We plot the Convergent Beam Electron Diffraction (CBED) pattern at 5 positions along the linescan."
   ]
  },
  {
   "cell_type": "code",
   "execution_count": null,
   "metadata": {},
   "outputs": [],
   "source": [
    "fig, axes = plt.subplots(1, 5, figsize=(14,4))\n",
    "\n",
    "for i in range(5):\n",
    "    axes[i].imshow(np.log(1 + 1e-7 *  scan.measurements[full_field][i*19]).T, \n",
    "               extent=full_field.fourier_limits.ravel(), cmap='inferno')\n",
    "    axes[i].set_xlim([-1.5,1.5])\n",
    "    axes[i].set_ylim([-1.5,1.5])\n",
    "    axes[i].set_title('x-position: {:.2f}'.format(scan.get_positions()[i*18][0]))\n",
    "\n",
    "plt.tight_layout()"
   ]
  }
 ],
 "metadata": {
  "kernelspec": {
   "display_name": "abtem",
   "language": "python",
   "name": "abtem"
  },
  "language_info": {
   "codemirror_mode": {
    "name": "ipython",
    "version": 3
   },
   "file_extension": ".py",
   "mimetype": "text/x-python",
   "name": "python",
   "nbconvert_exporter": "python",
   "pygments_lexer": "ipython3",
   "version": "3.6.9"
  }
 },
 "nbformat": 4,
 "nbformat_minor": 2
}
