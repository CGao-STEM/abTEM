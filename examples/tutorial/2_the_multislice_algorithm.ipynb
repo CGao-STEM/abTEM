{
 "cells": [
  {
   "cell_type": "markdown",
   "metadata": {},
   "source": [
    "# The multislice algorithm"
   ]
  },
  {
   "cell_type": "code",
   "execution_count": null,
   "metadata": {},
   "outputs": [],
   "source": [
    "import numpy as np\n",
    "import matplotlib.pyplot as plt\n",
    "from ase import Atoms\n",
    "from ase.io import read\n",
    "\n",
    "from abtem.waves import Waves\n",
    "from abtem.potentials import Potential\n",
    "from abtem.plot import plot_atoms\n",
    "from abtem.utils import energy2sigma, energy2wavelength\n",
    "from helpers import radial_potential_function"
   ]
  },
  {
   "cell_type": "markdown",
   "metadata": {},
   "source": [
    "This is a short lesson on the theory of the multislice method. For a more complete, formal discussion including detailed theory see Advanced Computing Computing in Electron Microscopy by EJ Kirkland."
   ]
  },
  {
   "cell_type": "markdown",
   "metadata": {},
   "source": [
    "## Specimen potential\n",
    "The electron beam interacts with the specimen through the Coulomb potential of the electrons and nuclei in the specimen. The electron charge distribution of an atom can be calculated from a first-principles electronic structure calculation, while the atomic nuclei are a point charges at the resolution of a TEM. Given a charge distribution, the potential can be obtained via Poisson's equation. \n",
    "\n",
    "Simulation codes include a parametrization of the atomic potentials, with a table of parameters for each element fitted to Hartree-Fock calculations. Below we show the radial depedence of the electrostatic potential of five selected elements, using the default parametrization in abTEM. This parametrization is due to Lobato et. al., it is the latest and most accurate parametrization."
   ]
  },
  {
   "cell_type": "code",
   "execution_count": null,
   "metadata": {},
   "outputs": [],
   "source": [
    "symbols = ['C', 'Si', 'Cu', 'Au', 'U']\n",
    "\n",
    "r = np.linspace(0,2,100)\n",
    "\n",
    "for symbol in symbols:\n",
    "    v = radial_potential_function()(symbol, r)\n",
    "    plt.plot(r, v, label=symbol)\n",
    "\n",
    "plt.xlabel('r [Å]')\n",
    "plt.ylabel('V [eV / e]')\n",
    "plt.ylim([0,30])\n",
    "plt.legend()"
   ]
  },
  {
   "cell_type": "markdown",
   "metadata": {},
   "source": [
    "The full specimen potential, $V(r)$, is then obtained as a linear superposition of the atomic potentials\n",
    "\n",
    "$$\n",
    "    V(r) = \\sum_i V_i(r-r_i) \\quad ,\n",
    "$$\n",
    "\n",
    "where $V_i(r)$ is the atomic potential of the $i$'th atom. This model obviously neglects any effect due to bonding and charge transfer. However, since the nucleus and core electrons constitute most of the charge in an atom, this is often reasonable approximation, which gets progressively better as the atomic number increases. Nonetheless, due to recent improvements in microscopes, interest in going beyond this approximation have started. For example, it has been shown that simulated images based on potentials from DFT calculations can provide a better match with experimental data for light elements. This will be investigated later in this tutorial.\n",
    "\n",
    "Below the projected potential of one layer of Strontium Titanate is shown."
   ]
  },
  {
   "cell_type": "code",
   "execution_count": null,
   "metadata": {},
   "outputs": [],
   "source": [
    "srtio = read('data/SrTiO.cif')\n",
    "srtio *= (2,2,1)\n",
    "srtio.center()\n",
    "potential = Potential(srtio, num_slices=1, gpts=1024)\n",
    "\n",
    "proj_potential = potential.get_slice(0)\n",
    "\n",
    "fig, (ax1, ax2, ax3) = plt.subplots(1, 3, figsize=(14, 5))\n",
    "plot_atoms(srtio, ax=ax1)\n",
    "plot_atoms(srtio, ax=ax2, plane='xz')\n",
    "ax3.imshow(proj_potential.T, extent=[0, potential.extent[0], 0, potential.extent[1]], origin='lower')\n",
    "ax3.set_xlabel('x [Å]')\n",
    "ax3.set_ylabel('x [Å]')"
   ]
  },
  {
   "cell_type": "markdown",
   "metadata": {},
   "source": [
    "## Multislice algorithm"
   ]
  },
  {
   "cell_type": "markdown",
   "metadata": {},
   "source": [
    "![title](data/multislice.png)\n",
    "\n",
    "The energy of the incident electron waves (100 - 1000 keV) are much higher than the specimen potential, which provides only minor perturbations on the forward motion of the electrons. Hence, it is useful to write the wave function, $\\psi$, of the propagating electrons as a slowly varying plane wave along the optical axis, $z$, with an amplitude modulation\n",
    "\n",
    "$$\n",
    "    \\psi(\\vec{r}) = \\phi(\\vec{r})\\exp(2\\pi iz/\\lambda) \\quad ,\n",
    "$$\n",
    "\n",
    "where $\\vec{r} = (x,y,z)$ and $\\lambda$ is the de Broglie wavelength of the electrons. Substituting this into the Schrödinger equation we obtain\n",
    "\n",
    "$$\n",
    "    -\\frac{\\hbar^2}{2m} \\left[\\nabla_{xy}^2 + \\frac{\\partial^2}{\\partial z^2} + \\frac{4\\pi i}{\\lambda}\\frac{\\partial}{\\partial z} + \\frac{2meV(\\vec{r})}{\\hbar^2}  \\right] \\phi(\\vec{r}) = 0 \\qquad \\nabla_{xy}^2 = \\frac{\\partial^2}{\\partial x^2} + \\frac{\\partial^2}{\\partial y^2} \\quad .\n",
    "$$\n",
    "\n",
    "In the high energy approximation, we assume that the wavefunction varies slowly in the $z$-direction compared to the potential and that the wavelength is small, thus\n",
    "\n",
    "$$\n",
    "    \\left| \\frac{\\partial^2 \\phi}{\\partial z^2} \\right| \\ll \\left| \\frac{1}{\\lambda} \\frac{\\partial \\phi}{\\partial z} \\right| \\quad .\n",
    "$$\n",
    "\n",
    "Hence, the Schrödinger equation simplifies to a first order differential equation in $z$\n",
    "\n",
    "$$\n",
    "    \\frac{\\partial \\phi(\\vec{r})}{\\partial z} = \\left[\\frac{i\\lambda}{4\\pi} \\nabla_{xy}^2 + i \\sigma V(\\vec{r}) \\right] \\phi(\\vec{r}) \\quad ,\n",
    "$$\n",
    "\n",
    "where $\\sigma=2\\pi me\\lambda/h^2$ is the interaction parameter. This equation is integrated numerically by slicing the potential into thin slices, such that the influence of each slice can be approximated as a simple phase shift of the wave function. The wave function is propagated between slices as a small angle outgoing wave (Fresnel diffraction). The transmission and propagation across a single slice can be written\n",
    "\n",
    "$$\n",
    "    \\phi(x, y, z + \\Delta z) = p(x,y,\\Delta z) * [t(r) \\psi(\\vec{r})] + \\mathcal{O}(\\Delta z^2) \\quad ,\n",
    "$$\n",
    "\n",
    "where $*$ represents a convolution. The transmission function, $t(r)$, for the portion of the potential between $z$ and $z+\\Delta z$ is\n",
    "\n",
    "$$\n",
    "    t(\\vec{r}) = \\exp\\left[i\\sigma \\int_z^{z+\\Delta z} V(\\vec{r}) dz'\\right] \\quad ,\n",
    "$$\n",
    "\n",
    "and the Fresnel propagator $p(x, y, \\Delta z)$ is\n",
    "\n",
    "$$\n",
    "    p(x,y,\\Delta z) = \\frac{1}{i \\lambda \\Delta z}\\exp\\left[\\frac{i\\pi}{\\lambda \\Delta z}(x^2+y^2)\\right] \\, .\n",
    "$$\n",
    "\n",
    "The wave at the exit plane of the specimen is obtained by sequentially propagating and transmitting the wave function starting with an assumed input wave.\n",
    "\n",
    "Convolutions can be performed efficiently by utilizing the Fast Fourier Transform (FFT). The implemented form of Eq. the single slice propagation is\n",
    "\n",
    "$$\n",
    "    \\phi_{z + \\Delta z}(x,y) = \\mathcal{F}^{-1}\\{P(k_x, k_y, \\Delta z) \\mathcal{F}[t(\\vec{r}) \\phi(\\vec{r})] \\} \\quad ,\n",
    "$$\n",
    "\n",
    "where $P$ is the Fourier transform of the fresnel propagator. The computational cost for the FFT scales as $N \\log(N)$ with the number of samples $N$."
   ]
  },
  {
   "cell_type": "markdown",
   "metadata": {},
   "source": [
    "### A simple implementation\n",
    "Below we demonstrate a very simple implementation of the multislice algorithm across a single layer of Strontium Titanate. First we create the intial incoming wave, in this case a plane wave, and define the wavelength and the interaction parameter."
   ]
  },
  {
   "cell_type": "code",
   "execution_count": null,
   "metadata": {},
   "outputs": [],
   "source": [
    "energy = 100e3\n",
    "sigma = energy2sigma(energy)\n",
    "wavelength = energy2wavelength(energy)\n",
    "wave0 = np.ones(potential.gpts, dtype = np.complex)"
   ]
  },
  {
   "cell_type": "markdown",
   "metadata": {},
   "source": [
    "As discussed above, in the limit of a weak thin potential its effect on the wave function can be described by a simple phase change. This is known as the weak phase object approximation. "
   ]
  },
  {
   "cell_type": "code",
   "execution_count": null,
   "metadata": {},
   "outputs": [],
   "source": [
    "wave1 = wave0 * np.exp(1.j * sigma * proj_potential)\n",
    "\n",
    "plt.imshow(np.angle(wave1), extent=[0, potential.extent[0], 0, potential.extent[1]])\n",
    "plt.title('Wave phase')"
   ]
  },
  {
   "cell_type": "markdown",
   "metadata": {},
   "source": [
    "The Fresnel propagator $P(k_x, k_y, \\Delta z)$ in Fourier space is created."
   ]
  },
  {
   "cell_type": "code",
   "execution_count": null,
   "metadata": {},
   "outputs": [],
   "source": [
    "kx = np.fft.fftfreq(potential.gpts[0], potential.sampling[0])\n",
    "ky = np.fft.fftfreq(potential.gpts[1], potential.sampling[1])\n",
    "k = (kx ** 2)[:, None] + (ky ** 2)[None]\n",
    "\n",
    "propagator = np.exp(-1.j * k * np.pi * wavelength * potential.thickness)"
   ]
  },
  {
   "cell_type": "markdown",
   "metadata": {},
   "source": [
    "Lastly, the phase shifted wave function is convolved with Fresnel propagator to produce the exit wave function."
   ]
  },
  {
   "cell_type": "code",
   "execution_count": null,
   "metadata": {},
   "outputs": [],
   "source": [
    "wave2 = np.fft.ifft2(np.fft.fft2(wave1) * propagator)\n",
    "\n",
    "plt.imshow(np.abs(wave2) ** 2, extent=[0, potential.extent[0], 0, potential.extent[1]])"
   ]
  }
 ],
 "metadata": {
  "kernelspec": {
   "display_name": "abtem",
   "language": "python",
   "name": "abtem"
  },
  "language_info": {
   "codemirror_mode": {
    "name": "ipython",
    "version": 3
   },
   "file_extension": ".py",
   "mimetype": "text/x-python",
   "name": "python",
   "nbconvert_exporter": "python",
   "pygments_lexer": "ipython3",
   "version": "3.6.9"
  }
 },
 "nbformat": 4,
 "nbformat_minor": 2
}
