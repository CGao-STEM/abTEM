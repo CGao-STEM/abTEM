{
 "cells": [
  {
   "cell_type": "code",
   "execution_count": 4,
   "metadata": {
    "collapsed": true,
    "jupyter": {
     "outputs_hidden": true
    }
   },
   "outputs": [
    {
     "name": "stdout",
     "output_type": "stream",
     "text": [
      "Requirement already satisfied: bqplot in c:\\users\\jacob\\anaconda3\\envs\\abtem\\lib\\site-packages (0.12.17)\n",
      "Requirement already satisfied: traitlets>=4.3.0 in c:\\users\\jacob\\anaconda3\\envs\\abtem\\lib\\site-packages (from bqplot) (4.3.3)\n",
      "Requirement already satisfied: traittypes>=0.0.6 in c:\\users\\jacob\\anaconda3\\envs\\abtem\\lib\\site-packages (from bqplot) (0.2.1)\n",
      "Requirement already satisfied: numpy>=1.10.4 in c:\\users\\jacob\\anaconda3\\envs\\abtem\\lib\\site-packages (from bqplot) (1.19.1)\n",
      "Requirement already satisfied: ipywidgets>=7.5.0 in c:\\users\\jacob\\anaconda3\\envs\\abtem\\lib\\site-packages (from bqplot) (7.5.1)\n",
      "Requirement already satisfied: pandas in c:\\users\\jacob\\anaconda3\\envs\\abtem\\lib\\site-packages (from bqplot) (1.1.1)\n",
      "Requirement already satisfied: six in c:\\users\\jacob\\anaconda3\\envs\\abtem\\lib\\site-packages (from traitlets>=4.3.0->bqplot) (1.15.0)\n",
      "Requirement already satisfied: decorator in c:\\users\\jacob\\anaconda3\\envs\\abtem\\lib\\site-packages (from traitlets>=4.3.0->bqplot) (4.4.2)\n",
      "Requirement already satisfied: ipython-genutils in c:\\users\\jacob\\anaconda3\\envs\\abtem\\lib\\site-packages (from traitlets>=4.3.0->bqplot) (0.2.0)\n",
      "Requirement already satisfied: ipython>=4.0.0; python_version >= \"3.3\" in c:\\users\\jacob\\anaconda3\\envs\\abtem\\lib\\site-packages (from ipywidgets>=7.5.0->bqplot) (7.18.1)\n",
      "Requirement already satisfied: nbformat>=4.2.0 in c:\\users\\jacob\\anaconda3\\envs\\abtem\\lib\\site-packages (from ipywidgets>=7.5.0->bqplot) (5.0.7)\n",
      "Requirement already satisfied: widgetsnbextension~=3.5.0 in c:\\users\\jacob\\anaconda3\\envs\\abtem\\lib\\site-packages (from ipywidgets>=7.5.0->bqplot) (3.5.1)\n",
      "Requirement already satisfied: ipykernel>=4.5.1 in c:\\users\\jacob\\anaconda3\\envs\\abtem\\lib\\site-packages (from ipywidgets>=7.5.0->bqplot) (5.3.4)\n",
      "Requirement already satisfied: pytz>=2017.2 in c:\\users\\jacob\\anaconda3\\envs\\abtem\\lib\\site-packages (from pandas->bqplot) (2020.1)\n",
      "Requirement already satisfied: python-dateutil>=2.7.3 in c:\\users\\jacob\\anaconda3\\envs\\abtem\\lib\\site-packages (from pandas->bqplot) (2.8.1)\n",
      "Requirement already satisfied: prompt-toolkit!=3.0.0,!=3.0.1,<3.1.0,>=2.0.0 in c:\\users\\jacob\\anaconda3\\envs\\abtem\\lib\\site-packages (from ipython>=4.0.0; python_version >= \"3.3\"->ipywidgets>=7.5.0->bqplot) (3.0.7)\n",
      "Requirement already satisfied: pygments in c:\\users\\jacob\\anaconda3\\envs\\abtem\\lib\\site-packages (from ipython>=4.0.0; python_version >= \"3.3\"->ipywidgets>=7.5.0->bqplot) (2.6.1)\n",
      "Requirement already satisfied: backcall in c:\\users\\jacob\\anaconda3\\envs\\abtem\\lib\\site-packages (from ipython>=4.0.0; python_version >= \"3.3\"->ipywidgets>=7.5.0->bqplot) (0.2.0)\n",
      "Requirement already satisfied: setuptools>=18.5 in c:\\users\\jacob\\anaconda3\\envs\\abtem\\lib\\site-packages (from ipython>=4.0.0; python_version >= \"3.3\"->ipywidgets>=7.5.0->bqplot) (49.6.0.post20200814)\n",
      "Requirement already satisfied: colorama; sys_platform == \"win32\" in c:\\users\\jacob\\anaconda3\\envs\\abtem\\lib\\site-packages (from ipython>=4.0.0; python_version >= \"3.3\"->ipywidgets>=7.5.0->bqplot) (0.4.3)\n",
      "Requirement already satisfied: jedi>=0.10 in c:\\users\\jacob\\anaconda3\\envs\\abtem\\lib\\site-packages (from ipython>=4.0.0; python_version >= \"3.3\"->ipywidgets>=7.5.0->bqplot) (0.17.1)\n",
      "Requirement already satisfied: pickleshare in c:\\users\\jacob\\anaconda3\\envs\\abtem\\lib\\site-packages (from ipython>=4.0.0; python_version >= \"3.3\"->ipywidgets>=7.5.0->bqplot) (0.7.5)\n",
      "Requirement already satisfied: jsonschema!=2.5.0,>=2.4 in c:\\users\\jacob\\anaconda3\\envs\\abtem\\lib\\site-packages (from nbformat>=4.2.0->ipywidgets>=7.5.0->bqplot) (3.2.0)\n",
      "Requirement already satisfied: jupyter-core in c:\\users\\jacob\\anaconda3\\envs\\abtem\\lib\\site-packages (from nbformat>=4.2.0->ipywidgets>=7.5.0->bqplot) (4.6.3)\n",
      "Requirement already satisfied: notebook>=4.4.1 in c:\\users\\jacob\\anaconda3\\envs\\abtem\\lib\\site-packages (from widgetsnbextension~=3.5.0->ipywidgets>=7.5.0->bqplot) (6.1.1)\n",
      "Requirement already satisfied: tornado>=4.2 in c:\\users\\jacob\\anaconda3\\envs\\abtem\\lib\\site-packages (from ipykernel>=4.5.1->ipywidgets>=7.5.0->bqplot) (6.0.4)\n",
      "Requirement already satisfied: jupyter-client in c:\\users\\jacob\\anaconda3\\envs\\abtem\\lib\\site-packages (from ipykernel>=4.5.1->ipywidgets>=7.5.0->bqplot) (6.1.6)\n",
      "Requirement already satisfied: wcwidth in c:\\users\\jacob\\anaconda3\\envs\\abtem\\lib\\site-packages (from prompt-toolkit!=3.0.0,!=3.0.1,<3.1.0,>=2.0.0->ipython>=4.0.0; python_version >= \"3.3\"->ipywidgets>=7.5.0->bqplot) (0.2.5)\n",
      "Requirement already satisfied: parso<0.8.0,>=0.7.0 in c:\\users\\jacob\\anaconda3\\envs\\abtem\\lib\\site-packages (from jedi>=0.10->ipython>=4.0.0; python_version >= \"3.3\"->ipywidgets>=7.5.0->bqplot) (0.7.0)\n",
      "Requirement already satisfied: attrs>=17.4.0 in c:\\users\\jacob\\anaconda3\\envs\\abtem\\lib\\site-packages (from jsonschema!=2.5.0,>=2.4->nbformat>=4.2.0->ipywidgets>=7.5.0->bqplot) (20.1.0)\n",
      "Requirement already satisfied: pyrsistent>=0.14.0 in c:\\users\\jacob\\anaconda3\\envs\\abtem\\lib\\site-packages (from jsonschema!=2.5.0,>=2.4->nbformat>=4.2.0->ipywidgets>=7.5.0->bqplot) (0.16.0)\n",
      "Requirement already satisfied: pywin32>=1.0; sys_platform == \"win32\" in c:\\users\\jacob\\anaconda3\\envs\\abtem\\lib\\site-packages (from jupyter-core->nbformat>=4.2.0->ipywidgets>=7.5.0->bqplot) (227)\n",
      "Requirement already satisfied: jinja2 in c:\\users\\jacob\\anaconda3\\envs\\abtem\\lib\\site-packages (from notebook>=4.4.1->widgetsnbextension~=3.5.0->ipywidgets>=7.5.0->bqplot) (2.11.2)\n",
      "Requirement already satisfied: terminado>=0.8.3 in c:\\users\\jacob\\anaconda3\\envs\\abtem\\lib\\site-packages (from notebook>=4.4.1->widgetsnbextension~=3.5.0->ipywidgets>=7.5.0->bqplot) (0.8.3)\n",
      "Requirement already satisfied: prometheus-client in c:\\users\\jacob\\anaconda3\\envs\\abtem\\lib\\site-packages (from notebook>=4.4.1->widgetsnbextension~=3.5.0->ipywidgets>=7.5.0->bqplot) (0.8.0)\n",
      "Requirement already satisfied: pyzmq>=17 in c:\\users\\jacob\\anaconda3\\envs\\abtem\\lib\\site-packages (from notebook>=4.4.1->widgetsnbextension~=3.5.0->ipywidgets>=7.5.0->bqplot) (19.0.1)\n",
      "Requirement already satisfied: nbconvert in c:\\users\\jacob\\anaconda3\\envs\\abtem\\lib\\site-packages (from notebook>=4.4.1->widgetsnbextension~=3.5.0->ipywidgets>=7.5.0->bqplot) (6.0.7)\n",
      "Requirement already satisfied: Send2Trash in c:\\users\\jacob\\anaconda3\\envs\\abtem\\lib\\site-packages (from notebook>=4.4.1->widgetsnbextension~=3.5.0->ipywidgets>=7.5.0->bqplot) (1.5.0)\n",
      "Requirement already satisfied: argon2-cffi in c:\\users\\jacob\\anaconda3\\envs\\abtem\\lib\\site-packages (from notebook>=4.4.1->widgetsnbextension~=3.5.0->ipywidgets>=7.5.0->bqplot) (20.1.0)\n",
      "Requirement already satisfied: MarkupSafe>=0.23 in c:\\users\\jacob\\anaconda3\\envs\\abtem\\lib\\site-packages (from jinja2->notebook>=4.4.1->widgetsnbextension~=3.5.0->ipywidgets>=7.5.0->bqplot) (1.1.1)\n",
      "Requirement already satisfied: bleach in c:\\users\\jacob\\anaconda3\\envs\\abtem\\lib\\site-packages (from nbconvert->notebook>=4.4.1->widgetsnbextension~=3.5.0->ipywidgets>=7.5.0->bqplot) (3.1.5)\n",
      "Requirement already satisfied: testpath in c:\\users\\jacob\\anaconda3\\envs\\abtem\\lib\\site-packages (from nbconvert->notebook>=4.4.1->widgetsnbextension~=3.5.0->ipywidgets>=7.5.0->bqplot) (0.4.4)\n",
      "Requirement already satisfied: nbclient<0.6.0,>=0.5.0 in c:\\users\\jacob\\anaconda3\\envs\\abtem\\lib\\site-packages (from nbconvert->notebook>=4.4.1->widgetsnbextension~=3.5.0->ipywidgets>=7.5.0->bqplot) (0.5.0)\n",
      "Requirement already satisfied: mistune<2,>=0.8.1 in c:\\users\\jacob\\anaconda3\\envs\\abtem\\lib\\site-packages (from nbconvert->notebook>=4.4.1->widgetsnbextension~=3.5.0->ipywidgets>=7.5.0->bqplot) (0.8.4)\n",
      "Requirement already satisfied: entrypoints>=0.2.2 in c:\\users\\jacob\\anaconda3\\envs\\abtem\\lib\\site-packages (from nbconvert->notebook>=4.4.1->widgetsnbextension~=3.5.0->ipywidgets>=7.5.0->bqplot) (0.3)\n",
      "Requirement already satisfied: pandocfilters>=1.4.1 in c:\\users\\jacob\\anaconda3\\envs\\abtem\\lib\\site-packages (from nbconvert->notebook>=4.4.1->widgetsnbextension~=3.5.0->ipywidgets>=7.5.0->bqplot) (1.4.2)\n",
      "Requirement already satisfied: jupyterlab-pygments in c:\\users\\jacob\\anaconda3\\envs\\abtem\\lib\\site-packages (from nbconvert->notebook>=4.4.1->widgetsnbextension~=3.5.0->ipywidgets>=7.5.0->bqplot) (0.1.2)\n",
      "Requirement already satisfied: defusedxml in c:\\users\\jacob\\anaconda3\\envs\\abtem\\lib\\site-packages (from nbconvert->notebook>=4.4.1->widgetsnbextension~=3.5.0->ipywidgets>=7.5.0->bqplot) (0.6.0)\n",
      "Requirement already satisfied: cffi>=1.0.0 in c:\\users\\jacob\\anaconda3\\envs\\abtem\\lib\\site-packages (from argon2-cffi->notebook>=4.4.1->widgetsnbextension~=3.5.0->ipywidgets>=7.5.0->bqplot) (1.14.2)\n",
      "Requirement already satisfied: packaging in c:\\users\\jacob\\anaconda3\\envs\\abtem\\lib\\site-packages (from bleach->nbconvert->notebook>=4.4.1->widgetsnbextension~=3.5.0->ipywidgets>=7.5.0->bqplot) (20.4)\n",
      "Requirement already satisfied: webencodings in c:\\users\\jacob\\anaconda3\\envs\\abtem\\lib\\site-packages (from bleach->nbconvert->notebook>=4.4.1->widgetsnbextension~=3.5.0->ipywidgets>=7.5.0->bqplot) (0.5.1)\n",
      "Requirement already satisfied: nest-asyncio in c:\\users\\jacob\\anaconda3\\envs\\abtem\\lib\\site-packages (from nbclient<0.6.0,>=0.5.0->nbconvert->notebook>=4.4.1->widgetsnbextension~=3.5.0->ipywidgets>=7.5.0->bqplot) (1.4.1)\n",
      "Requirement already satisfied: async-generator in c:\\users\\jacob\\anaconda3\\envs\\abtem\\lib\\site-packages (from nbclient<0.6.0,>=0.5.0->nbconvert->notebook>=4.4.1->widgetsnbextension~=3.5.0->ipywidgets>=7.5.0->bqplot) (1.10)\n",
      "Requirement already satisfied: pycparser in c:\\users\\jacob\\anaconda3\\envs\\abtem\\lib\\site-packages (from cffi>=1.0.0->argon2-cffi->notebook>=4.4.1->widgetsnbextension~=3.5.0->ipywidgets>=7.5.0->bqplot) (2.20)\n",
      "Requirement already satisfied: pyparsing>=2.0.2 in c:\\users\\jacob\\anaconda3\\envs\\abtem\\lib\\site-packages (from packaging->bleach->nbconvert->notebook>=4.4.1->widgetsnbextension~=3.5.0->ipywidgets>=7.5.0->bqplot) (2.4.7)\n",
      "Requirement already satisfied: bqplot-image-gl in c:\\users\\jacob\\anaconda3\\envs\\abtem\\lib\\site-packages (1.0.0)\n",
      "Requirement already satisfied: ipywidgets>=7.0.0 in c:\\users\\jacob\\anaconda3\\envs\\abtem\\lib\\site-packages (from bqplot-image-gl) (7.5.1)\n",
      "Requirement already satisfied: bqplot>=0.12 in c:\\users\\jacob\\anaconda3\\envs\\abtem\\lib\\site-packages (from bqplot-image-gl) (0.12.17)\n",
      "Requirement already satisfied: ipython>=4.0.0; python_version >= \"3.3\" in c:\\users\\jacob\\anaconda3\\envs\\abtem\\lib\\site-packages (from ipywidgets>=7.0.0->bqplot-image-gl) (7.18.1)\n",
      "Requirement already satisfied: ipykernel>=4.5.1 in c:\\users\\jacob\\anaconda3\\envs\\abtem\\lib\\site-packages (from ipywidgets>=7.0.0->bqplot-image-gl) (5.3.4)\n",
      "Requirement already satisfied: traitlets>=4.3.1 in c:\\users\\jacob\\anaconda3\\envs\\abtem\\lib\\site-packages (from ipywidgets>=7.0.0->bqplot-image-gl) (4.3.3)\n",
      "Requirement already satisfied: nbformat>=4.2.0 in c:\\users\\jacob\\anaconda3\\envs\\abtem\\lib\\site-packages (from ipywidgets>=7.0.0->bqplot-image-gl) (5.0.7)\n",
      "Requirement already satisfied: widgetsnbextension~=3.5.0 in c:\\users\\jacob\\anaconda3\\envs\\abtem\\lib\\site-packages (from ipywidgets>=7.0.0->bqplot-image-gl) (3.5.1)\n",
      "Requirement already satisfied: traittypes>=0.0.6 in c:\\users\\jacob\\anaconda3\\envs\\abtem\\lib\\site-packages (from bqplot>=0.12->bqplot-image-gl) (0.2.1)\n",
      "Requirement already satisfied: pandas in c:\\users\\jacob\\anaconda3\\envs\\abtem\\lib\\site-packages (from bqplot>=0.12->bqplot-image-gl) (1.1.1)\n",
      "Requirement already satisfied: numpy>=1.10.4 in c:\\users\\jacob\\anaconda3\\envs\\abtem\\lib\\site-packages (from bqplot>=0.12->bqplot-image-gl) (1.19.1)\n",
      "Requirement already satisfied: colorama; sys_platform == \"win32\" in c:\\users\\jacob\\anaconda3\\envs\\abtem\\lib\\site-packages (from ipython>=4.0.0; python_version >= \"3.3\"->ipywidgets>=7.0.0->bqplot-image-gl) (0.4.3)\n",
      "Requirement already satisfied: backcall in c:\\users\\jacob\\anaconda3\\envs\\abtem\\lib\\site-packages (from ipython>=4.0.0; python_version >= \"3.3\"->ipywidgets>=7.0.0->bqplot-image-gl) (0.2.0)\n",
      "Requirement already satisfied: prompt-toolkit!=3.0.0,!=3.0.1,<3.1.0,>=2.0.0 in c:\\users\\jacob\\anaconda3\\envs\\abtem\\lib\\site-packages (from ipython>=4.0.0; python_version >= \"3.3\"->ipywidgets>=7.0.0->bqplot-image-gl) (3.0.7)\n",
      "Requirement already satisfied: decorator in c:\\users\\jacob\\anaconda3\\envs\\abtem\\lib\\site-packages (from ipython>=4.0.0; python_version >= \"3.3\"->ipywidgets>=7.0.0->bqplot-image-gl) (4.4.2)\n",
      "Requirement already satisfied: setuptools>=18.5 in c:\\users\\jacob\\anaconda3\\envs\\abtem\\lib\\site-packages (from ipython>=4.0.0; python_version >= \"3.3\"->ipywidgets>=7.0.0->bqplot-image-gl) (49.6.0.post20200814)\n",
      "Requirement already satisfied: pygments in c:\\users\\jacob\\anaconda3\\envs\\abtem\\lib\\site-packages (from ipython>=4.0.0; python_version >= \"3.3\"->ipywidgets>=7.0.0->bqplot-image-gl) (2.6.1)\n",
      "Requirement already satisfied: jedi>=0.10 in c:\\users\\jacob\\anaconda3\\envs\\abtem\\lib\\site-packages (from ipython>=4.0.0; python_version >= \"3.3\"->ipywidgets>=7.0.0->bqplot-image-gl) (0.17.1)\n",
      "Requirement already satisfied: pickleshare in c:\\users\\jacob\\anaconda3\\envs\\abtem\\lib\\site-packages (from ipython>=4.0.0; python_version >= \"3.3\"->ipywidgets>=7.0.0->bqplot-image-gl) (0.7.5)\n",
      "Requirement already satisfied: jupyter-client in c:\\users\\jacob\\anaconda3\\envs\\abtem\\lib\\site-packages (from ipykernel>=4.5.1->ipywidgets>=7.0.0->bqplot-image-gl) (6.1.6)\n",
      "Requirement already satisfied: tornado>=4.2 in c:\\users\\jacob\\anaconda3\\envs\\abtem\\lib\\site-packages (from ipykernel>=4.5.1->ipywidgets>=7.0.0->bqplot-image-gl) (6.0.4)\n",
      "Requirement already satisfied: six in c:\\users\\jacob\\anaconda3\\envs\\abtem\\lib\\site-packages (from traitlets>=4.3.1->ipywidgets>=7.0.0->bqplot-image-gl) (1.15.0)\n",
      "Requirement already satisfied: ipython-genutils in c:\\users\\jacob\\anaconda3\\envs\\abtem\\lib\\site-packages (from traitlets>=4.3.1->ipywidgets>=7.0.0->bqplot-image-gl) (0.2.0)\n",
      "Requirement already satisfied: jupyter-core in c:\\users\\jacob\\anaconda3\\envs\\abtem\\lib\\site-packages (from nbformat>=4.2.0->ipywidgets>=7.0.0->bqplot-image-gl) (4.6.3)\n",
      "Requirement already satisfied: jsonschema!=2.5.0,>=2.4 in c:\\users\\jacob\\anaconda3\\envs\\abtem\\lib\\site-packages (from nbformat>=4.2.0->ipywidgets>=7.0.0->bqplot-image-gl) (3.2.0)\n",
      "Requirement already satisfied: notebook>=4.4.1 in c:\\users\\jacob\\anaconda3\\envs\\abtem\\lib\\site-packages (from widgetsnbextension~=3.5.0->ipywidgets>=7.0.0->bqplot-image-gl) (6.1.1)\n",
      "Requirement already satisfied: pytz>=2017.2 in c:\\users\\jacob\\anaconda3\\envs\\abtem\\lib\\site-packages (from pandas->bqplot>=0.12->bqplot-image-gl) (2020.1)\n",
      "Requirement already satisfied: python-dateutil>=2.7.3 in c:\\users\\jacob\\anaconda3\\envs\\abtem\\lib\\site-packages (from pandas->bqplot>=0.12->bqplot-image-gl) (2.8.1)\n",
      "Requirement already satisfied: wcwidth in c:\\users\\jacob\\anaconda3\\envs\\abtem\\lib\\site-packages (from prompt-toolkit!=3.0.0,!=3.0.1,<3.1.0,>=2.0.0->ipython>=4.0.0; python_version >= \"3.3\"->ipywidgets>=7.0.0->bqplot-image-gl) (0.2.5)\n",
      "Requirement already satisfied: parso<0.8.0,>=0.7.0 in c:\\users\\jacob\\anaconda3\\envs\\abtem\\lib\\site-packages (from jedi>=0.10->ipython>=4.0.0; python_version >= \"3.3\"->ipywidgets>=7.0.0->bqplot-image-gl) (0.7.0)\n",
      "Requirement already satisfied: pyzmq>=13 in c:\\users\\jacob\\anaconda3\\envs\\abtem\\lib\\site-packages (from jupyter-client->ipykernel>=4.5.1->ipywidgets>=7.0.0->bqplot-image-gl) (19.0.1)\n",
      "Requirement already satisfied: pywin32>=1.0; sys_platform == \"win32\" in c:\\users\\jacob\\anaconda3\\envs\\abtem\\lib\\site-packages (from jupyter-core->nbformat>=4.2.0->ipywidgets>=7.0.0->bqplot-image-gl) (227)\n",
      "Requirement already satisfied: pyrsistent>=0.14.0 in c:\\users\\jacob\\anaconda3\\envs\\abtem\\lib\\site-packages (from jsonschema!=2.5.0,>=2.4->nbformat>=4.2.0->ipywidgets>=7.0.0->bqplot-image-gl) (0.16.0)\n",
      "Requirement already satisfied: attrs>=17.4.0 in c:\\users\\jacob\\anaconda3\\envs\\abtem\\lib\\site-packages (from jsonschema!=2.5.0,>=2.4->nbformat>=4.2.0->ipywidgets>=7.0.0->bqplot-image-gl) (20.1.0)\n",
      "Requirement already satisfied: jinja2 in c:\\users\\jacob\\anaconda3\\envs\\abtem\\lib\\site-packages (from notebook>=4.4.1->widgetsnbextension~=3.5.0->ipywidgets>=7.0.0->bqplot-image-gl) (2.11.2)\n",
      "Requirement already satisfied: Send2Trash in c:\\users\\jacob\\anaconda3\\envs\\abtem\\lib\\site-packages (from notebook>=4.4.1->widgetsnbextension~=3.5.0->ipywidgets>=7.0.0->bqplot-image-gl) (1.5.0)\n",
      "Requirement already satisfied: nbconvert in c:\\users\\jacob\\anaconda3\\envs\\abtem\\lib\\site-packages (from notebook>=4.4.1->widgetsnbextension~=3.5.0->ipywidgets>=7.0.0->bqplot-image-gl) (6.0.7)\n",
      "Requirement already satisfied: prometheus-client in c:\\users\\jacob\\anaconda3\\envs\\abtem\\lib\\site-packages (from notebook>=4.4.1->widgetsnbextension~=3.5.0->ipywidgets>=7.0.0->bqplot-image-gl) (0.8.0)\n",
      "Requirement already satisfied: argon2-cffi in c:\\users\\jacob\\anaconda3\\envs\\abtem\\lib\\site-packages (from notebook>=4.4.1->widgetsnbextension~=3.5.0->ipywidgets>=7.0.0->bqplot-image-gl) (20.1.0)\n",
      "Requirement already satisfied: terminado>=0.8.3 in c:\\users\\jacob\\anaconda3\\envs\\abtem\\lib\\site-packages (from notebook>=4.4.1->widgetsnbextension~=3.5.0->ipywidgets>=7.0.0->bqplot-image-gl) (0.8.3)\n",
      "Requirement already satisfied: MarkupSafe>=0.23 in c:\\users\\jacob\\anaconda3\\envs\\abtem\\lib\\site-packages (from jinja2->notebook>=4.4.1->widgetsnbextension~=3.5.0->ipywidgets>=7.0.0->bqplot-image-gl) (1.1.1)\n",
      "Requirement already satisfied: testpath in c:\\users\\jacob\\anaconda3\\envs\\abtem\\lib\\site-packages (from nbconvert->notebook>=4.4.1->widgetsnbextension~=3.5.0->ipywidgets>=7.0.0->bqplot-image-gl) (0.4.4)\n",
      "Requirement already satisfied: jupyterlab-pygments in c:\\users\\jacob\\anaconda3\\envs\\abtem\\lib\\site-packages (from nbconvert->notebook>=4.4.1->widgetsnbextension~=3.5.0->ipywidgets>=7.0.0->bqplot-image-gl) (0.1.2)\n",
      "Requirement already satisfied: pandocfilters>=1.4.1 in c:\\users\\jacob\\anaconda3\\envs\\abtem\\lib\\site-packages (from nbconvert->notebook>=4.4.1->widgetsnbextension~=3.5.0->ipywidgets>=7.0.0->bqplot-image-gl) (1.4.2)\n",
      "Requirement already satisfied: entrypoints>=0.2.2 in c:\\users\\jacob\\anaconda3\\envs\\abtem\\lib\\site-packages (from nbconvert->notebook>=4.4.1->widgetsnbextension~=3.5.0->ipywidgets>=7.0.0->bqplot-image-gl) (0.3)\n",
      "Requirement already satisfied: bleach in c:\\users\\jacob\\anaconda3\\envs\\abtem\\lib\\site-packages (from nbconvert->notebook>=4.4.1->widgetsnbextension~=3.5.0->ipywidgets>=7.0.0->bqplot-image-gl) (3.1.5)\n",
      "Requirement already satisfied: nbclient<0.6.0,>=0.5.0 in c:\\users\\jacob\\anaconda3\\envs\\abtem\\lib\\site-packages (from nbconvert->notebook>=4.4.1->widgetsnbextension~=3.5.0->ipywidgets>=7.0.0->bqplot-image-gl) (0.5.0)\n",
      "Requirement already satisfied: defusedxml in c:\\users\\jacob\\anaconda3\\envs\\abtem\\lib\\site-packages (from nbconvert->notebook>=4.4.1->widgetsnbextension~=3.5.0->ipywidgets>=7.0.0->bqplot-image-gl) (0.6.0)\n",
      "Requirement already satisfied: mistune<2,>=0.8.1 in c:\\users\\jacob\\anaconda3\\envs\\abtem\\lib\\site-packages (from nbconvert->notebook>=4.4.1->widgetsnbextension~=3.5.0->ipywidgets>=7.0.0->bqplot-image-gl) (0.8.4)\n",
      "Requirement already satisfied: cffi>=1.0.0 in c:\\users\\jacob\\anaconda3\\envs\\abtem\\lib\\site-packages (from argon2-cffi->notebook>=4.4.1->widgetsnbextension~=3.5.0->ipywidgets>=7.0.0->bqplot-image-gl) (1.14.2)\n",
      "Requirement already satisfied: webencodings in c:\\users\\jacob\\anaconda3\\envs\\abtem\\lib\\site-packages (from bleach->nbconvert->notebook>=4.4.1->widgetsnbextension~=3.5.0->ipywidgets>=7.0.0->bqplot-image-gl) (0.5.1)\n",
      "Requirement already satisfied: packaging in c:\\users\\jacob\\anaconda3\\envs\\abtem\\lib\\site-packages (from bleach->nbconvert->notebook>=4.4.1->widgetsnbextension~=3.5.0->ipywidgets>=7.0.0->bqplot-image-gl) (20.4)\n",
      "Requirement already satisfied: nest-asyncio in c:\\users\\jacob\\anaconda3\\envs\\abtem\\lib\\site-packages (from nbclient<0.6.0,>=0.5.0->nbconvert->notebook>=4.4.1->widgetsnbextension~=3.5.0->ipywidgets>=7.0.0->bqplot-image-gl) (1.4.1)\n",
      "Requirement already satisfied: async-generator in c:\\users\\jacob\\anaconda3\\envs\\abtem\\lib\\site-packages (from nbclient<0.6.0,>=0.5.0->nbconvert->notebook>=4.4.1->widgetsnbextension~=3.5.0->ipywidgets>=7.0.0->bqplot-image-gl) (1.10)\n",
      "Requirement already satisfied: pycparser in c:\\users\\jacob\\anaconda3\\envs\\abtem\\lib\\site-packages (from cffi>=1.0.0->argon2-cffi->notebook>=4.4.1->widgetsnbextension~=3.5.0->ipywidgets>=7.0.0->bqplot-image-gl) (2.20)\n",
      "Requirement already satisfied: pyparsing>=2.0.2 in c:\\users\\jacob\\anaconda3\\envs\\abtem\\lib\\site-packages (from packaging->bleach->nbconvert->notebook>=4.4.1->widgetsnbextension~=3.5.0->ipywidgets>=7.0.0->bqplot-image-gl) (2.4.7)\n"
     ]
    }
   ],
   "source": [
    "!pip install bqplot\n",
    "!pip install bqplot-image-gl"
   ]
  },
  {
   "cell_type": "code",
   "execution_count": 2,
   "metadata": {},
   "outputs": [],
   "source": [
    "from abtem.waves import Probe\n",
    "from abtem import *\n",
    "\n",
    "import numpy as np\n",
    "import matplotlib.pyplot as plt\n",
    "from ase.io import read\n",
    "from abtem.transfer import CTF\n",
    "from ipywidgets import interact\n",
    "import ipywidgets as widgets\n",
    "\n",
    "from tqdm.auto import tqdm\n",
    "\n",
    "#output_notebook()"
   ]
  },
  {
   "cell_type": "code",
   "execution_count": 3,
   "metadata": {},
   "outputs": [
    {
     "data": {
      "application/vnd.jupyter.widget-view+json": {
       "model_id": "53fe805be2694783aa5bfea830c2108c",
       "version_major": 2,
       "version_minor": 0
      },
      "text/plain": [
       "HBox(children=(VBox(children=(Figure(axes=[Axis(label='x [Å]', scale=LinearScale()), Axis(label='y [Å]', orien…"
      ]
     },
     "metadata": {},
     "output_type": "display_data"
    }
   ],
   "source": [
    "probe = Probe(energy=80e3, extent=10, sampling=.025, semiangle_cutoff=50, defocus=10)\n",
    "\n",
    "probe.interact(sliders = {'energy': (2e3,500e3,1e3),\n",
    "                          'defocus': (-100,100,1), \n",
    "                          'Cs': (0,1e6,1e3), \n",
    "                          'focal_spread':(0,100,1)})"
   ]
  }
 ],
 "metadata": {
  "kernelspec": {
   "display_name": "abtem",
   "language": "python",
   "name": "abtem"
  },
  "language_info": {
   "codemirror_mode": {
    "name": "ipython",
    "version": 3
   },
   "file_extension": ".py",
   "mimetype": "text/x-python",
   "name": "python",
   "nbconvert_exporter": "python",
   "pygments_lexer": "ipython3",
   "version": "3.8.5"
  }
 },
 "nbformat": 4,
 "nbformat_minor": 4
}
