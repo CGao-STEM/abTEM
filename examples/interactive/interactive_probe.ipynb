{
 "cells": [
  {
   "cell_type": "code",
   "execution_count": 20,
   "metadata": {},
   "outputs": [],
   "source": [
    "# requires bqplot, bqplot-image-gl"
   ]
  },
  {
   "cell_type": "code",
   "execution_count": 21,
   "metadata": {},
   "outputs": [],
   "source": [
    "from abtem.waves import Probe\n",
    "import ipywidgets as widgets"
   ]
  },
  {
   "cell_type": "code",
   "execution_count": 22,
   "metadata": {},
   "outputs": [
    {
     "data": {
      "application/vnd.jupyter.widget-view+json": {
       "model_id": "9bd8ccb96c204d20997ec72f20c8ba60",
       "version_major": 2,
       "version_minor": 0
      },
      "text/plain": [
       "HBox(children=(VBox(children=(Figure(axes=[Axis(label='x [Å]', scale=LinearScale()), Axis(label='y [Å]', orien…"
      ]
     },
     "metadata": {},
     "output_type": "display_data"
    }
   ],
   "source": [
    "probe = Probe(energy=80e3, extent=10, sampling=.025, semiangle_cutoff=50, defocus=10)\n",
    "\n",
    "probe.interact(sliders = {'energy': (2e3,500e3,1e3),\n",
    "                          'defocus': (-100,100,1), \n",
    "                          'Cs': (0,1e6,1e3), \n",
    "                          'focal_spread':(0,100,1)},\n",
    "              throttling=.2)"
   ]
  },
  {
   "cell_type": "code",
   "execution_count": 24,
   "metadata": {},
   "outputs": [
    {
     "data": {
      "application/vnd.jupyter.widget-view+json": {
       "model_id": "49e600b9e3894bb3865aa643911636be",
       "version_major": 2,
       "version_minor": 0
      },
      "text/plain": [
       "HBox(children=(Figure(axes=[Axis(label='x [Å]', scale=LinearScale()), Axis(orientation='vertical', scale=Linea…"
      ]
     },
     "metadata": {},
     "output_type": "display_data"
    }
   ],
   "source": [
    "probe = Probe(energy=80e3, extent=10, sampling=.025, semiangle_cutoff=50, defocus=10)\n",
    "throttling = .01\n",
    "\n",
    "figure1 = probe.interact(profile=True, throttling=throttling)\n",
    "figure2 = probe.ctf.interact(sliders = \n",
    "                             {'energy': (2e3,500e3,1e3),\n",
    "                              'defocus': (-100,100,1), \n",
    "                              'Cs': (0,1e6,1e3), \n",
    "                              'focal_spread':(0,100,1)},\n",
    "                            throttling=throttling)\n",
    "\n",
    "widgets.HBox([figure1, figure2])"
   ]
  }
 ],
 "metadata": {
  "kernelspec": {
   "display_name": "abtem",
   "language": "python",
   "name": "abtem"
  },
  "language_info": {
   "codemirror_mode": {
    "name": "ipython",
    "version": 3
   },
   "file_extension": ".py",
   "mimetype": "text/x-python",
   "name": "python",
   "nbconvert_exporter": "python",
   "pygments_lexer": "ipython3",
   "version": "3.8.5"
  }
 },
 "nbformat": 4,
 "nbformat_minor": 4
}
