{
 "cells": [
  {
   "cell_type": "code",
   "execution_count": 13,
   "metadata": {},
   "outputs": [],
   "source": [
    "# requires bqplot, bqplot-image-gl"
   ]
  },
  {
   "cell_type": "code",
   "execution_count": 1,
   "metadata": {},
   "outputs": [
    {
     "name": "stdout",
     "output_type": "stream",
     "text": [
      "current version: 1.0.0beta12\n"
     ]
    }
   ],
   "source": [
    "# notebook last tested with abtem version 1.0.0beta7\n",
    "\n",
    "from abtem import __version__\n",
    "print('current version:', __version__)\n",
    "\n",
    "import matplotlib.pyplot as plt\n",
    "from ase.io import read\n",
    "from ase.build import mx2\n",
    "\n",
    "from abtem import *\n",
    "from abtem.structures import orthogonalize_cell"
   ]
  },
  {
   "cell_type": "code",
   "execution_count": 2,
   "metadata": {},
   "outputs": [],
   "source": [
    "atoms = mx2(formula='MoS2', kind='2H', a=3.18, thickness=3.19, size=(1, 1, 1), vacuum=None)\n",
    "\n",
    "repetitions = (3, 2, 1)\n",
    "\n",
    "atoms = orthogonalize_cell(atoms)\n",
    "\n",
    "atoms *= repetitions\n",
    "\n",
    "atoms.center(vacuum=2, axis=2)"
   ]
  },
  {
   "cell_type": "code",
   "execution_count": 3,
   "metadata": {},
   "outputs": [
    {
     "data": {
      "application/vnd.jupyter.widget-view+json": {
       "model_id": "2b84ccd15d3f4a68a363afd43d46f7a0",
       "version_major": 2,
       "version_minor": 0
      },
      "text/plain": [
       "HBox(children=(FloatProgress(value=0.0, description='Potential', max=1.0, style=ProgressStyle(description_widt…"
      ]
     },
     "metadata": {},
     "output_type": "display_data"
    },
    {
     "name": "stdout",
     "output_type": "stream",
     "text": [
      "\n"
     ]
    },
    {
     "data": {
      "application/vnd.jupyter.widget-view+json": {
       "model_id": "98aaf46dd44343de8328ab0e44a2c532",
       "version_major": 2,
       "version_minor": 0
      },
      "text/plain": [
       "HBox(children=(FloatProgress(value=0.0, description='Multislice', max=1.0, style=ProgressStyle(description_wid…"
      ]
     },
     "metadata": {},
     "output_type": "display_data"
    },
    {
     "name": "stdout",
     "output_type": "stream",
     "text": [
      "\n"
     ]
    }
   ],
   "source": [
    "wave = PlaneWave(\n",
    "    energy=300e3, sampling=.1\n",
    ")\n",
    "\n",
    "potential = Potential(atoms, projection='infinite', parametrization='kirkland', slice_thickness=10)\n",
    "\n",
    "exit_wave = wave.multislice(potential)"
   ]
  },
  {
   "cell_type": "code",
   "execution_count": 5,
   "metadata": {},
   "outputs": [
    {
     "data": {
      "application/vnd.jupyter.widget-view+json": {
       "model_id": "5fda246abedd4d52bb3947e25709728f",
       "version_major": 2,
       "version_minor": 0
      },
      "text/plain": [
       "HBox(children=(VBox(children=(Figure(axes=[Axis(label='x [Å]', scale=LinearScale(allow_padding=False, max=11.0…"
      ]
     },
     "metadata": {},
     "output_type": "display_data"
    }
   ],
   "source": [
    "ctf = CTF()\n",
    "\n",
    "image_wave, figure = ctf.apply(exit_wave, interact=True, \n",
    "                               sliders = {'defocus':(-100,100,1),\n",
    "                                         'focal_spread':(0,100,1)},\n",
    "                              throttling=.01,\n",
    "                              )\n",
    "\n",
    "figure"
   ]
  },
  {
   "cell_type": "code",
   "execution_count": 12,
   "metadata": {},
   "outputs": [],
   "source": [
    "# image_wave.show()"
   ]
  }
 ],
 "metadata": {
  "kernelspec": {
   "display_name": "abtem",
   "language": "python",
   "name": "abtem"
  },
  "language_info": {
   "codemirror_mode": {
    "name": "ipython",
    "version": 3
   },
   "file_extension": ".py",
   "mimetype": "text/x-python",
   "name": "python",
   "nbconvert_exporter": "python",
   "pygments_lexer": "ipython3",
   "version": "3.8.5"
  }
 },
 "nbformat": 4,
 "nbformat_minor": 4
}
