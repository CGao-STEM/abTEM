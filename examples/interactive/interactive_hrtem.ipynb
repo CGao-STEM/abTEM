{
 "cells": [
  {
   "cell_type": "code",
   "execution_count": 13,
   "metadata": {},
   "outputs": [],
   "source": [
    "# requires bqplot, bqplot-image-gl"
   ]
  },
  {
   "cell_type": "code",
   "execution_count": 1,
   "metadata": {},
   "outputs": [
    {
     "name": "stdout",
     "output_type": "stream",
     "text": [
      "current version: 1.0.0beta8\n"
     ]
    }
   ],
   "source": [
    "# notebook last tested with abtem version 1.0.0beta7\n",
    "\n",
    "from abtem import __version__\n",
    "print('current version:', __version__)\n",
    "\n",
    "import matplotlib.pyplot as plt\n",
    "from ase.io import read\n",
    "from ase.build import mx2\n",
    "\n",
    "from abtem import *\n",
    "from abtem.structures import orthogonalize_cell"
   ]
  },
  {
   "cell_type": "code",
   "execution_count": 2,
   "metadata": {},
   "outputs": [],
   "source": [
    "atoms = mx2(formula='MoS2', kind='2H', a=3.18, thickness=3.19, size=(1, 1, 1), vacuum=None)\n",
    "\n",
    "repetitions = (3, 2, 1)\n",
    "\n",
    "atoms = orthogonalize_cell(atoms)\n",
    "\n",
    "atoms *= repetitions\n",
    "\n",
    "atoms.center(vacuum=2, axis=2)"
   ]
  },
  {
   "cell_type": "code",
   "execution_count": 3,
   "metadata": {},
   "outputs": [
    {
     "data": {
      "application/vnd.jupyter.widget-view+json": {
       "model_id": "f5e6447d588b4528a76344e7132871f6",
       "version_major": 2,
       "version_minor": 0
      },
      "text/plain": [
       "HBox(children=(FloatProgress(value=0.0, description='Multislice', max=15.0, style=ProgressStyle(description_wi…"
      ]
     },
     "metadata": {},
     "output_type": "display_data"
    }
   ],
   "source": [
    "wave = PlaneWave(\n",
    "    energy=300e3, sampling=.1\n",
    ")\n",
    "\n",
    "exit_wave = wave.multislice(atoms)"
   ]
  },
  {
   "cell_type": "code",
   "execution_count": 5,
   "metadata": {},
   "outputs": [
    {
     "data": {
      "application/vnd.jupyter.widget-view+json": {
       "model_id": "8d98cb8bef51498a8a21461a8712030c",
       "version_major": 2,
       "version_minor": 0
      },
      "text/plain": [
       "HBox(children=(VBox(children=(Figure(axes=[Axis(label='x [Å]', scale=LinearScale(allow_padding=False, max=11.0…"
      ]
     },
     "metadata": {},
     "output_type": "display_data"
    }
   ],
   "source": [
    "ctf = CTF()\n",
    "\n",
    "image_wave, figure = ctf.apply(exit_wave, interact=True, \n",
    "                               sliders = {'defocus':(-100,100,1),\n",
    "                                         'focal_spread':(0,100,1)},\n",
    "                              throttling=.1,\n",
    "                              )\n",
    "\n",
    "figure"
   ]
  },
  {
   "cell_type": "code",
   "execution_count": 12,
   "metadata": {},
   "outputs": [],
   "source": [
    "# image_wave.show()"
   ]
  }
 ],
 "metadata": {
  "kernelspec": {
   "display_name": "abtem",
   "language": "python",
   "name": "abtem"
  },
  "language_info": {
   "codemirror_mode": {
    "name": "ipython",
    "version": 3
   },
   "file_extension": ".py",
   "mimetype": "text/x-python",
   "name": "python",
   "nbconvert_exporter": "python",
   "pygments_lexer": "ipython3",
   "version": "3.8.5"
  }
 },
 "nbformat": 4,
 "nbformat_minor": 4
}
